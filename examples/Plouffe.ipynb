{
 "cells": [
  {
   "cell_type": "code",
   "execution_count": 4,
   "metadata": {
    "pycharm": {}
   },
   "outputs": [],
   "source": [
    "from math import *\n",
    "\n",
    "from Goulib.notebook import *\n",
    "from Goulib.table import Table\n",
    "from friedman import seq, column"
   ]
  },
  {
   "cell_type": "code",
   "execution_count": 5,
   "metadata": {
    "pycharm": {}
   },
   "outputs": [],
   "source": [
    "max=100\n",
    "t=Table(range(max+1),titles=['n'])"
   ]
  },
  {
   "cell_type": "code",
   "execution_count": 7,
   "metadata": {},
   "outputs": [
    {
     "name": "stderr",
     "output_type": "stream",
     "text": [
      "WARNING:root:106 has no solution\n"
     ]
    },
    {
     "data": {
      "text/plain": [
       "'[math]0=1+\\\\sqrt{49}-8[/math]\\n[math]1=\\\\frac{1+\\\\sqrt{49}}{8}[/math]\\n[math]2=\\\\sqrt{81}-\\\\sqrt{49}[/math]\\n[math]3=14-\\\\left(8+\\\\sqrt{9}\\\\right)[/math]\\n[math]4=18\\\\frac{\\\\sqrt{4}}{9}[/math]\\n[math]5=18-\\\\left(4+9\\\\right)[/math]\\n[math]6=18-4\\\\sqrt{9}[/math]\\n[math]7=91-84[/math]\\n[math]8=18\\\\frac{4}{9}[/math]\\n[math]9=14-8-\\\\sqrt{9}[/math]\\n[math]10=\\\\frac{18}{\\\\sqrt{9}}+4[/math]\\n[math]11=18-\\\\sqrt{49}[/math]\\n[math]12=18-\\\\sqrt{4}\\\\sqrt{9}[/math]\\n[math]13=94-81[/math]\\n[math]14=14\\\\left(9-8\\\\right)[/math]\\n[math]15=14-8-9[/math]\\n[math]16=\\\\sqrt{49}+\\\\sqrt{81}[/math]\\n[math]17=1+\\\\frac{48}{\\\\sqrt{9}}[/math]\\n[math]18=\\\\left(14-8\\\\right)\\\\sqrt{9}[/math]\\n[math]19=14+8-\\\\sqrt{9}[/math]\\n[math]20=\\\\sqrt{841}-9[/math]\\n[math]21=19+\\\\frac{8}{4}[/math]\\n[math]22=\\\\left(19-8\\\\right)\\\\sqrt{4}[/math]\\n[math]23=18+\\\\sqrt{4}+\\\\sqrt{9}[/math]\\n[math]24=18+\\\\sqrt{4}\\\\sqrt{9}[/math]\\n[math]25=18+\\\\sqrt{49}[/math]\\n[math]26=\\\\sqrt{841}-\\\\sqrt{9}[/math]\\n[math]27=\\\\frac{18}{\\\\frac{\\\\sqrt{4}}{\\\\sqrt{9}}}[/math]\\n[math]28=1\\\\frac{84}{\\\\sqrt{9}}[/math]\\n[math]29=48-19[/math]\\n[math]30=18+4\\\\sqrt{9}[/math]\\n[math]31=49-18[/math]\\n[math]32=81-49[/math]\\n[math]33=18\\\\sqrt{4}-\\\\sqrt{9}[/math]\\n[math]34=14\\\\sqrt{9}-8[/math]\\n[math]35=19+\\\\sqrt{4}8[/math]\\n[math]36=18+\\\\sqrt{4}9[/math]\\n[math]37=1+\\\\left(4+8\\\\right)\\\\sqrt{9}[/math]\\n[math]38=\\\\sqrt{841}+9[/math]\\n[math]39=1\\\\left(48-9\\\\right)[/math]\\n[math]40=49-\\\\sqrt{81}[/math]\\n[math]41=1\\\\left(49-8\\\\right)[/math]\\n[math]42=1+49-8[/math]\\n[math]43=\\\\sqrt{1849}[/math]\\n[math]44=\\\\left(19-8\\\\right)4[/math]\\n[math]45=1\\\\left(48-\\\\sqrt{9}\\\\right)[/math]\\n[math]46=1+48-\\\\sqrt{9}[/math]\\n[math]47=\\\\sqrt{4}8\\\\sqrt{9}-1[/math]\\n[math]48=89-41[/math]\\n[math]49=\\\\frac{1}{\\\\sqrt{4}}98[/math]\\n[math]50=14\\\\sqrt{9}+8[/math]\\n[math]51=1\\\\left(48+\\\\sqrt{9}\\\\right)[/math]\\n[math]52=1+48+\\\\sqrt{9}[/math]\\n[math]53=\\\\left(1+4\\\\right)9+8[/math]\\n[math]54=\\\\left(14-8\\\\right)9[/math]\\n[math]55=\\\\sqrt{49}8-1[/math]\\n[math]56=1\\\\sqrt{49}8[/math]\\n[math]57=98-41[/math]\\n[math]58=49+\\\\sqrt{81}[/math]\\n[math]59=91-4 \\\\cdot 8[/math]\\n[math]60=\\\\left(18+\\\\sqrt{4}\\\\right)\\\\sqrt{9}[/math]\\n[math]61=\\\\left(8-1\\\\right)9-\\\\sqrt{4}[/math]\\n[math]62=8\\\\left(9-1\\\\right)-\\\\sqrt{4}[/math]\\n[math]63=\\\\sqrt{49}\\\\sqrt{81}[/math]\\n[math]64=\\\\left(1+\\\\sqrt{49}\\\\right)8[/math]\\n[math]65=84-19[/math]\\n[math]66=\\\\left(14+8\\\\right)\\\\sqrt{9}[/math]\\n[math]67=18+49[/math]\\n[math]68=19 \\\\cdot 4-8[/math]\\n[math]69=18 \\\\cdot 4-\\\\sqrt{9}[/math]\\n[math]70=14\\\\left(8-\\\\sqrt{9}\\\\right)[/math]\\n[math]71=1-\\\\sqrt{4}-8 \\\\cdot 9[/math]\\n[math]72=4\\\\left(\\\\sqrt{81}+9\\\\right)[/math]\\n[math]73=\\\\sqrt{4}-1-8 \\\\cdot 9[/math]\\n[math]74=81-\\\\sqrt{49}[/math]\\n[math]75=89-14[/math]\\n[math]76=94-18[/math]\\n[math]77=\\\\sqrt{81}9-4[/math]\\n[math]78=\\\\left(1+9\\\\right)8-\\\\sqrt{4}[/math]\\n[math]79=\\\\sqrt{81}9-\\\\sqrt{4}[/math]\\n[math]80=\\\\sqrt{4}+81-\\\\sqrt{9}[/math]\\n[math]81=1\\\\left(84-\\\\sqrt{9}\\\\right)[/math]\\n[math]82=1+84-\\\\sqrt{9}[/math]\\n[math]83=\\\\sqrt{4}+\\\\sqrt{81}9[/math]\\n[math]84=98-14[/math]\\n[math]85=94-\\\\sqrt{81}[/math]\\n[math]86=1-4-89[/math]\\n[math]87=\\\\sqrt{841}\\\\sqrt{9}[/math]\\n[math]88=\\\\sqrt{49}+81[/math]\\n[math]89=\\\\left(\\\\sqrt{4}-1\\\\right)89[/math]\\n[math]90=18\\\\left(\\\\sqrt{4}+\\\\sqrt{9}\\\\right)[/math]\\n[math]91=1\\\\left(\\\\sqrt{4}+89\\\\right)[/math]\\n[math]92=1+\\\\sqrt{4}+89[/math]\\n[math]93=1\\\\left(4+89\\\\right)[/math]\\n[math]94=1+4+89[/math]\\n[math]95=1-4-98[/math]\\n[math]96=1\\\\left(98-\\\\sqrt{4}\\\\right)[/math]\\n[math]97=1-\\\\sqrt{4}-98[/math]\\n[math]98=\\\\left(\\\\sqrt{4}-1\\\\right)98[/math]\\n[math]99=\\\\frac{198}{\\\\sqrt{4}}[/math]\\n[math]100=1\\\\left(\\\\sqrt{4}+98\\\\right)[/math]'"
      ]
     },
     "execution_count": 7,
     "metadata": {},
     "output_type": "execute_result"
    }
   ],
   "source": [
    "column(t,1489,permut=True) #yeargame"
   ]
  },
  {
   "cell_type": "code",
   "execution_count": 4,
   "metadata": {
    "pycharm": {}
   },
   "outputs": [],
   "source": [
    "#column(2018,permut=True) #yeargame"
   ]
  },
  {
   "cell_type": "code",
   "execution_count": 5,
   "metadata": {
    "pycharm": {
     "is_executing": false
    }
   },
   "outputs": [],
   "source": [
    "#column(2019,permut=True) #yeargame"
   ]
  },
  {
   "cell_type": "code",
   "execution_count": 6,
   "metadata": {
    "pycharm": {}
   },
   "outputs": [],
   "source": [
    "#column(4444) # four-four"
   ]
  },
  {
   "cell_type": "code",
   "execution_count": 7,
   "metadata": {
    "pycharm": {}
   },
   "outputs": [],
   "source": [
    "#column(123456789)"
   ]
  },
  {
   "cell_type": "code",
   "execution_count": 8,
   "metadata": {
    "pycharm": {}
   },
   "outputs": [],
   "source": [
    "#column(999) # 999 clock"
   ]
  },
  {
   "cell_type": "code",
   "execution_count": 9,
   "metadata": {
    "pycharm": {},
    "scrolled": false
   },
   "outputs": [
    {
     "data": {
      "text/html": [
       "<table><thead>\n",
       "<tr><th>n</th><th style=\"text-align:right;\">1489</th></tr>\n",
       "</thead>\n",
       "<tr><td style=\"text-align:right;\">0</td><td>$${1+\\sqrt{49}-8}$$</td></tr>\n",
       "<tr><td style=\"text-align:right;\">1</td><td>$${\\frac{1+\\sqrt{49}}{8}}$$</td></tr>\n",
       "<tr><td style=\"text-align:right;\">2</td><td>$${\\sqrt{81}-\\sqrt{49}}$$</td></tr>\n",
       "<tr><td style=\"text-align:right;\">3</td><td>$${14-\\left(8+\\sqrt{9}\\right)}$$</td></tr>\n",
       "<tr><td style=\"text-align:right;\">4</td><td>$${18\\frac{\\sqrt{4}}{9}}$$</td></tr>\n",
       "<tr><td style=\"text-align:right;\">5</td><td>$${18-\\left(4+9\\right)}$$</td></tr>\n",
       "<tr><td style=\"text-align:right;\">6</td><td>$${18-4\\sqrt{9}}$$</td></tr>\n",
       "<tr><td style=\"text-align:right;\">7</td><td>$${91-84}$$</td></tr>\n",
       "<tr><td style=\"text-align:right;\">8</td><td>$${18\\frac{4}{9}}$$</td></tr>\n",
       "<tr><td style=\"text-align:right;\">9</td><td>$${14-8-\\sqrt{9}}$$</td></tr>\n",
       "<tr><td style=\"text-align:right;\">10</td><td>$${\\frac{18}{\\sqrt{9}}+4}$$</td></tr>\n",
       "<tr><td style=\"text-align:right;\">11</td><td>$${18-\\sqrt{49}}$$</td></tr>\n",
       "<tr><td style=\"text-align:right;\">12</td><td>$${18-\\sqrt{4}\\sqrt{9}}$$</td></tr>\n",
       "<tr><td style=\"text-align:right;\">13</td><td>$${94-81}$$</td></tr>\n",
       "<tr><td style=\"text-align:right;\">14</td><td>$${14\\left(9-8\\right)}$$</td></tr>\n",
       "<tr><td style=\"text-align:right;\">15</td><td>$${14-8-9}$$</td></tr>\n",
       "<tr><td style=\"text-align:right;\">16</td><td>$${\\sqrt{49}+\\sqrt{81}}$$</td></tr>\n",
       "<tr><td style=\"text-align:right;\">17</td><td>$${1+\\frac{48}{\\sqrt{9}}}$$</td></tr>\n",
       "<tr><td style=\"text-align:right;\">18</td><td>$${\\left(14-8\\right)\\sqrt{9}}$$</td></tr>\n",
       "<tr><td style=\"text-align:right;\">19</td><td>$${14+8-\\sqrt{9}}$$</td></tr>\n",
       "<tr><td style=\"text-align:right;\">20</td><td>$${\\sqrt{841}-9}$$</td></tr>\n",
       "<tr><td style=\"text-align:right;\">21</td><td>$${19+\\frac{8}{4}}$$</td></tr>\n",
       "<tr><td style=\"text-align:right;\">22</td><td>$${\\left(19-8\\right)\\sqrt{4}}$$</td></tr>\n",
       "<tr><td style=\"text-align:right;\">23</td><td>$${18+\\sqrt{4}+\\sqrt{9}}$$</td></tr>\n",
       "<tr><td style=\"text-align:right;\">24</td><td>$${18+\\sqrt{4}\\sqrt{9}}$$</td></tr>\n",
       "<tr><td style=\"text-align:right;\">25</td><td>$${18+\\sqrt{49}}$$</td></tr>\n",
       "<tr><td style=\"text-align:right;\">26</td><td>$${\\sqrt{841}-\\sqrt{9}}$$</td></tr>\n",
       "<tr><td style=\"text-align:right;\">27</td><td>$${\\frac{18}{\\frac{\\sqrt{4}}{\\sqrt{9}}}}$$</td></tr>\n",
       "<tr><td style=\"text-align:right;\">28</td><td>$${1\\frac{84}{\\sqrt{9}}}$$</td></tr>\n",
       "<tr><td style=\"text-align:right;\">29</td><td>$${48-19}$$</td></tr>\n",
       "<tr><td style=\"text-align:right;\">30</td><td>$${18+4\\sqrt{9}}$$</td></tr>\n",
       "<tr><td style=\"text-align:right;\">31</td><td>$${49-18}$$</td></tr>\n",
       "<tr><td style=\"text-align:right;\">32</td><td>$${81-49}$$</td></tr>\n",
       "<tr><td style=\"text-align:right;\">33</td><td>$${18\\sqrt{4}-\\sqrt{9}}$$</td></tr>\n",
       "<tr><td style=\"text-align:right;\">34</td><td>$${14\\sqrt{9}-8}$$</td></tr>\n",
       "<tr><td style=\"text-align:right;\">35</td><td>$${19+\\sqrt{4}8}$$</td></tr>\n",
       "<tr><td style=\"text-align:right;\">36</td><td>$${18+\\sqrt{4}9}$$</td></tr>\n",
       "<tr><td style=\"text-align:right;\">37</td><td>$${1+\\left(4+8\\right)\\sqrt{9}}$$</td></tr>\n",
       "<tr><td style=\"text-align:right;\">38</td><td>$${\\sqrt{841}+9}$$</td></tr>\n",
       "<tr><td style=\"text-align:right;\">39</td><td>$${1\\left(48-9\\right)}$$</td></tr>\n",
       "<tr><td style=\"text-align:right;\">40</td><td>$${49-\\sqrt{81}}$$</td></tr>\n",
       "<tr><td style=\"text-align:right;\">41</td><td>$${1\\left(49-8\\right)}$$</td></tr>\n",
       "<tr><td style=\"text-align:right;\">42</td><td>$${1+49-8}$$</td></tr>\n",
       "<tr><td style=\"text-align:right;\">43</td><td>$${\\sqrt{1849}}$$</td></tr>\n",
       "<tr><td style=\"text-align:right;\">44</td><td>$${\\left(19-8\\right)4}$$</td></tr>\n",
       "<tr><td style=\"text-align:right;\">45</td><td>$${1\\left(48-\\sqrt{9}\\right)}$$</td></tr>\n",
       "<tr><td style=\"text-align:right;\">46</td><td>$${1+48-\\sqrt{9}}$$</td></tr>\n",
       "<tr><td style=\"text-align:right;\">47</td><td>$${\\sqrt{4}8\\sqrt{9}-1}$$</td></tr>\n",
       "<tr><td style=\"text-align:right;\">48</td><td>$${89-41}$$</td></tr>\n",
       "<tr><td style=\"text-align:right;\">49</td><td>$${\\frac{1}{\\sqrt{4}}98}$$</td></tr>\n",
       "<tr><td style=\"text-align:right;\">50</td><td>$${14\\sqrt{9}+8}$$</td></tr>\n",
       "<tr><td style=\"text-align:right;\">51</td><td>$${1\\left(48+\\sqrt{9}\\right)}$$</td></tr>\n",
       "<tr><td style=\"text-align:right;\">52</td><td>$${1+48+\\sqrt{9}}$$</td></tr>\n",
       "<tr><td style=\"text-align:right;\">53</td><td>$${\\left(1+4\\right)9+8}$$</td></tr>\n",
       "<tr><td style=\"text-align:right;\">54</td><td>$${\\left(14-8\\right)9}$$</td></tr>\n",
       "<tr><td style=\"text-align:right;\">55</td><td>$${\\sqrt{49}8-1}$$</td></tr>\n",
       "<tr><td style=\"text-align:right;\">56</td><td>$${1\\sqrt{49}8}$$</td></tr>\n",
       "<tr><td style=\"text-align:right;\">57</td><td>$${98-41}$$</td></tr>\n",
       "<tr><td style=\"text-align:right;\">58</td><td>$${49+\\sqrt{81}}$$</td></tr>\n",
       "<tr><td style=\"text-align:right;\">59</td><td>$${91-4 \\cdot 8}$$</td></tr>\n",
       "<tr><td style=\"text-align:right;\">60</td><td>$${\\left(18+\\sqrt{4}\\right)\\sqrt{9}}$$</td></tr>\n",
       "<tr><td style=\"text-align:right;\">61</td><td>$${\\left(8-1\\right)9-\\sqrt{4}}$$</td></tr>\n",
       "<tr><td style=\"text-align:right;\">62</td><td>$${8\\left(9-1\\right)-\\sqrt{4}}$$</td></tr>\n",
       "<tr><td style=\"text-align:right;\">63</td><td>$${\\sqrt{49}\\sqrt{81}}$$</td></tr>\n",
       "<tr><td style=\"text-align:right;\">64</td><td>$${\\left(1+\\sqrt{49}\\right)8}$$</td></tr>\n",
       "<tr><td style=\"text-align:right;\">65</td><td>$${84-19}$$</td></tr>\n",
       "<tr><td style=\"text-align:right;\">66</td><td>$${\\left(14+8\\right)\\sqrt{9}}$$</td></tr>\n",
       "<tr><td style=\"text-align:right;\">67</td><td>$${18+49}$$</td></tr>\n",
       "<tr><td style=\"text-align:right;\">68</td><td>$${19 \\cdot 4-8}$$</td></tr>\n",
       "<tr><td style=\"text-align:right;\">69</td><td>$${18 \\cdot 4-\\sqrt{9}}$$</td></tr>\n",
       "<tr><td style=\"text-align:right;\">70</td><td>$${14\\left(8-\\sqrt{9}\\right)}$$</td></tr>\n",
       "<tr><td style=\"text-align:right;\">71</td><td>$${1-\\sqrt{4}-8 \\cdot 9}$$</td></tr>\n",
       "<tr><td style=\"text-align:right;\">72</td><td>$${4\\left(\\sqrt{81}+9\\right)}$$</td></tr>\n",
       "<tr><td style=\"text-align:right;\">73</td><td>$${\\sqrt{4}-1-8 \\cdot 9}$$</td></tr>\n",
       "<tr><td style=\"text-align:right;\">74</td><td>$${81-\\sqrt{49}}$$</td></tr>\n",
       "<tr><td style=\"text-align:right;\">75</td><td>$${89-14}$$</td></tr>\n",
       "<tr><td style=\"text-align:right;\">76</td><td>$${94-18}$$</td></tr>\n",
       "<tr><td style=\"text-align:right;\">77</td><td>$${\\sqrt{81}9-4}$$</td></tr>\n",
       "<tr><td style=\"text-align:right;\">78</td><td>$${\\left(1+9\\right)8-\\sqrt{4}}$$</td></tr>\n",
       "<tr><td style=\"text-align:right;\">79</td><td>$${\\sqrt{81}9-\\sqrt{4}}$$</td></tr>\n",
       "<tr><td style=\"text-align:right;\">80</td><td>$${\\sqrt{4}+81-\\sqrt{9}}$$</td></tr>\n",
       "<tr><td style=\"text-align:right;\">81</td><td>$${1\\left(84-\\sqrt{9}\\right)}$$</td></tr>\n",
       "<tr><td style=\"text-align:right;\">82</td><td>$${1+84-\\sqrt{9}}$$</td></tr>\n",
       "<tr><td style=\"text-align:right;\">83</td><td>$${\\sqrt{4}+\\sqrt{81}9}$$</td></tr>\n",
       "<tr><td style=\"text-align:right;\">84</td><td>$${98-14}$$</td></tr>\n",
       "<tr><td style=\"text-align:right;\">85</td><td>$${94-\\sqrt{81}}$$</td></tr>\n",
       "<tr><td style=\"text-align:right;\">86</td><td>$${1-4-89}$$</td></tr>\n",
       "<tr><td style=\"text-align:right;\">87</td><td>$${\\sqrt{841}\\sqrt{9}}$$</td></tr>\n",
       "<tr><td style=\"text-align:right;\">88</td><td>$${\\sqrt{49}+81}$$</td></tr>\n",
       "<tr><td style=\"text-align:right;\">89</td><td>$${\\left(\\sqrt{4}-1\\right)89}$$</td></tr>\n",
       "<tr><td style=\"text-align:right;\">90</td><td>$${18\\left(\\sqrt{4}+\\sqrt{9}\\right)}$$</td></tr>\n",
       "<tr><td style=\"text-align:right;\">91</td><td>$${1\\left(\\sqrt{4}+89\\right)}$$</td></tr>\n",
       "<tr><td style=\"text-align:right;\">92</td><td>$${1+\\sqrt{4}+89}$$</td></tr>\n",
       "<tr><td style=\"text-align:right;\">93</td><td>$${1\\left(4+89\\right)}$$</td></tr>\n",
       "<tr><td style=\"text-align:right;\">94</td><td>$${1+4+89}$$</td></tr>\n",
       "<tr><td style=\"text-align:right;\">95</td><td>$${1-4-98}$$</td></tr>\n",
       "<tr><td style=\"text-align:right;\">96</td><td>$${1\\left(98-\\sqrt{4}\\right)}$$</td></tr>\n",
       "<tr><td style=\"text-align:right;\">97</td><td>$${1-\\sqrt{4}-98}$$</td></tr>\n",
       "<tr><td style=\"text-align:right;\">98</td><td>$${\\left(\\sqrt{4}-1\\right)98}$$</td></tr>\n",
       "<tr><td style=\"text-align:right;\">99</td><td>$${\\frac{198}{\\sqrt{4}}}$$</td></tr>\n",
       "<tr><td style=\"text-align:right;\">100</td><td>$${1\\left(\\sqrt{4}+98\\right)}$$</td></tr>\n",
       "</table>\n"
      ],
      "text/plain": [
       "<class 'Goulib.table.Table'>(len=101,titles=['n', 1489],data=[[0, 1+sqrt(49)-8], [1, (1+sqrt(49))/8], [2, sqrt(81)-sqrt(49)], [3, 14-(8+sqrt(9))], [4, 18*sqrt(4)/9]])"
      ]
     },
     "execution_count": 9,
     "metadata": {},
     "output_type": "execute_result"
    }
   ],
   "source": [
    "t"
   ]
  },
  {
   "cell_type": "code",
   "execution_count": 10,
   "metadata": {
    "pycharm": {}
   },
   "outputs": [],
   "source": [
    "from friedman import Monadic, context\n",
    "functions=context.functions"
   ]
  },
  {
   "cell_type": "code",
   "execution_count": 11,
   "metadata": {
    "pycharm": {}
   },
   "outputs": [
    {
     "name": "stdout",
     "output_type": "stream",
     "text": [
      "SortedKeysView(SortedDict({'acos': (<built-in function acos>, 9999, None, None, '\\\\arccos'), 'acosh': (<built-in function acosh>, 9999, None, None, '\\\\cosh^{-1}'), 'asin': (<built-in function asin>, 9999, None, None, '\\\\arcsin'), 'asinh': (<built-in function asinh>, 9999, None, None, '\\\\sinh^{-1}'), 'atan': (<built-in function atan>, 9999, None, None, '\\\\arctan'), 'atan2': (<built-in function atan2>, 9999, None, None, None), 'atanh': (<built-in function atanh>, 9999, None, None, '\\\\tanh^{-1}'), 'comb': (<built-in function comb>, 9999, None, None, None), 'copysign': (<built-in function copysign>, 9999, None, None, None), 'cos': (<built-in function cos>, 9999, None, None, None), 'cosh': (<built-in function cosh>, 9999, None, None, None), 'dist': (<built-in function dist>, 9999, None, None, None), 'exp': (<built-in function exp>, 9999, None, None, 'e^{%s}'), 'factorial': (<built-in function factorial>, 9999, '%s!', 'fact', '%s!'), 'factorial2': (<function factorial2 at 0x000001526C431AF0>, 9999, '%s!', 'fact', '%s!!'), 'fmod': (<built-in function fmod>, 9999, None, None, None), 'gamma': (<built-in function gamma>, 9999, None, None, '\\\\Gamma'), 'gcd': (<built-in function gcd>, 9999, None, None, None), 'hypot': (<built-in function hypot>, 9999, None, None, None), 'isclose': (<built-in function isclose>, 9999, None, None, None), 'isqrt': (<built-in function isqrt>, 9999, None, None, None), 'ldexp': (<built-in function ldexp>, 9999, None, None, None), 'log': (<built-in function log>, 9999, None, None, '\\\\ln'), 'log10': (<built-in function log10>, 9999, None, None, '\\\\log_{10}'), 'log2': (<built-in function log2>, 9999, None, None, '\\\\log_2'), 'modf': (<built-in function modf>, 9999, None, None, None), 'perm': (<built-in function perm>, 9999, None, None, None), 'pow': (<built-in function pow>, 9999, None, None, None), 'prod': (<built-in function prod>, 9999, None, None, None), 'remainder': (<built-in function remainder>, 9999, None, None, None), 'sin': (<built-in function sin>, 9999, None, None, None), 'sinh': (<built-in function sinh>, 9999, None, None, None), 'sqrt': (<function sqrt at 0x000001526C42A700>, 9999, None, None, '\\\\sqrt{%s}'), 'tan': (<built-in function tan>, 9999, None, None, None), 'tanh': (<built-in function tanh>, 9999, None, None, None)}))\n"
     ]
    }
   ],
   "source": [
    "print(functions.keys()) #list allowed functions"
   ]
  },
  {
   "cell_type": "code",
   "execution_count": 12,
   "metadata": {
    "pycharm": {}
   },
   "outputs": [
    {
     "data": {
      "text/html": [
       "0 = ${\\arccos\\left(1\\right)}$"
      ],
      "text/plain": [
       "<IPython.core.display.HTML object>"
      ]
     },
     "metadata": {},
     "output_type": "display_data"
    },
    {
     "data": {
      "text/html": [
       "0.28366218546322625 = ${\\cos\\left(5\\right)}$"
      ],
      "text/plain": [
       "<IPython.core.display.HTML object>"
      ]
     },
     "metadata": {},
     "output_type": "display_data"
    },
    {
     "data": {
      "text/html": [
       "0.3010299956639812 = ${\\log_{10}\\left(2\\right)}$"
      ],
      "text/plain": [
       "<IPython.core.display.HTML object>"
      ]
     },
     "metadata": {},
     "output_type": "display_data"
    },
    {
     "data": {
      "text/html": [
       "0.4161468365471424 = ${-\\cos\\left(2\\right)}$"
      ],
      "text/plain": [
       "<IPython.core.display.HTML object>"
      ]
     },
     "metadata": {},
     "output_type": "display_data"
    },
    {
     "data": {
      "text/html": [
       "0.5403023058681398 = ${\\cos\\left(1\\right)}$"
      ],
      "text/plain": [
       "<IPython.core.display.HTML object>"
      ]
     },
     "metadata": {},
     "output_type": "display_data"
    },
    {
     "data": {
      "text/html": [
       "0.6569865987187891 = ${\\sin\\left(7\\right)}$"
      ],
      "text/plain": [
       "<IPython.core.display.HTML object>"
      ]
     },
     "metadata": {},
     "output_type": "display_data"
    },
    {
     "data": {
      "text/html": [
       "0.6931471805599453 = ${\\ln\\left(2\\right)}$"
      ],
      "text/plain": [
       "<IPython.core.display.HTML object>"
      ]
     },
     "metadata": {},
     "output_type": "display_data"
    },
    {
     "data": {
      "text/html": [
       "0.6989700043360189 = ${\\log_{10}\\left(5\\right)}$"
      ],
      "text/plain": [
       "<IPython.core.display.HTML object>"
      ]
     },
     "metadata": {},
     "output_type": "display_data"
    },
    {
     "data": {
      "text/html": [
       "0.7539022543433046 = ${\\cos\\left(7\\right)}$"
      ],
      "text/plain": [
       "<IPython.core.display.HTML object>"
      ]
     },
     "metadata": {},
     "output_type": "display_data"
    },
    {
     "data": {
      "text/html": [
       "0.7615941559557649 = ${\\tanh\\left(1\\right)}$"
      ],
      "text/plain": [
       "<IPython.core.display.HTML object>"
      ]
     },
     "metadata": {},
     "output_type": "display_data"
    },
    {
     "data": {
      "text/html": [
       "0.7853981633974483 = ${\\arctan\\left(1\\right)}$"
      ],
      "text/plain": [
       "<IPython.core.display.HTML object>"
      ]
     },
     "metadata": {},
     "output_type": "display_data"
    },
    {
     "data": {
      "text/html": [
       "0.8414709848078965 = ${\\sin\\left(1\\right)}$"
      ],
      "text/plain": [
       "<IPython.core.display.HTML object>"
      ]
     },
     "metadata": {},
     "output_type": "display_data"
    },
    {
     "data": {
      "text/html": [
       "0.8450980400142568 = ${\\log_{10}\\left(7\\right)}$"
      ],
      "text/plain": [
       "<IPython.core.display.HTML object>"
      ]
     },
     "metadata": {},
     "output_type": "display_data"
    },
    {
     "data": {
      "text/html": [
       "0.8714479827243188 = ${\\tan\\left(7\\right)}$"
      ],
      "text/plain": [
       "<IPython.core.display.HTML object>"
      ]
     },
     "metadata": {},
     "output_type": "display_data"
    },
    {
     "data": {
      "text/html": [
       "0.8813735870195429 = ${\\sinh^{-1}\\left(1\\right)}$"
      ],
      "text/plain": [
       "<IPython.core.display.HTML object>"
      ]
     },
     "metadata": {},
     "output_type": "display_data"
    },
    {
     "data": {
      "text/html": [
       "0.9092974268256817 = ${\\sin\\left(2\\right)}$"
      ],
      "text/plain": [
       "<IPython.core.display.HTML object>"
      ]
     },
     "metadata": {},
     "output_type": "display_data"
    },
    {
     "data": {
      "text/html": [
       "0.9589242746631385 = ${-\\sin\\left(5\\right)}$"
      ],
      "text/plain": [
       "<IPython.core.display.HTML object>"
      ]
     },
     "metadata": {},
     "output_type": "display_data"
    },
    {
     "data": {
      "text/html": [
       "0.9640275800758169 = ${\\tanh\\left(2\\right)}$"
      ],
      "text/plain": [
       "<IPython.core.display.HTML object>"
      ]
     },
     "metadata": {},
     "output_type": "display_data"
    },
    {
     "data": {
      "text/html": [
       "0.9999092042625951 = ${\\tanh\\left(5\\right)}$"
      ],
      "text/plain": [
       "<IPython.core.display.HTML object>"
      ]
     },
     "metadata": {},
     "output_type": "display_data"
    },
    {
     "data": {
      "text/html": [
       "0.9999983369439447 = ${\\tanh\\left(7\\right)}$"
      ],
      "text/plain": [
       "<IPython.core.display.HTML object>"
      ]
     },
     "metadata": {},
     "output_type": "display_data"
    },
    {
     "data": {
      "text/html": [
       "1 = ${\\Gamma\\left(2\\right)}$"
      ],
      "text/plain": [
       "<IPython.core.display.HTML object>"
      ]
     },
     "metadata": {},
     "output_type": "display_data"
    },
    {
     "data": {
      "text/html": [
       "1.1071487177940904 = ${\\arctan\\left(2\\right)}$"
      ],
      "text/plain": [
       "<IPython.core.display.HTML object>"
      ]
     },
     "metadata": {},
     "output_type": "display_data"
    },
    {
     "data": {
      "text/html": [
       "1.1752011936438014 = ${\\sinh\\left(1\\right)}$"
      ],
      "text/plain": [
       "<IPython.core.display.HTML object>"
      ]
     },
     "metadata": {},
     "output_type": "display_data"
    },
    {
     "data": {
      "text/html": [
       "1.3169578969248166 = ${\\cosh^{-1}\\left(2\\right)}$"
      ],
      "text/plain": [
       "<IPython.core.display.HTML object>"
      ]
     },
     "metadata": {},
     "output_type": "display_data"
    },
    {
     "data": {
      "text/html": [
       "1.373400766945016 = ${\\arctan\\left(5\\right)}$"
      ],
      "text/plain": [
       "<IPython.core.display.HTML object>"
      ]
     },
     "metadata": {},
     "output_type": "display_data"
    },
    {
     "data": {
      "text/html": [
       "1.4142135623730951 = ${\\sqrt{2}}$"
      ],
      "text/plain": [
       "<IPython.core.display.HTML object>"
      ]
     },
     "metadata": {},
     "output_type": "display_data"
    },
    {
     "data": {
      "text/html": [
       "1.4288992721907328 = ${\\arctan\\left(7\\right)}$"
      ],
      "text/plain": [
       "<IPython.core.display.HTML object>"
      ]
     },
     "metadata": {},
     "output_type": "display_data"
    },
    {
     "data": {
      "text/html": [
       "1.4436354751788103 = ${\\sinh^{-1}\\left(2\\right)}$"
      ],
      "text/plain": [
       "<IPython.core.display.HTML object>"
      ]
     },
     "metadata": {},
     "output_type": "display_data"
    },
    {
     "data": {
      "text/html": [
       "1.5430806348152437 = ${\\cosh\\left(1\\right)}$"
      ],
      "text/plain": [
       "<IPython.core.display.HTML object>"
      ]
     },
     "metadata": {},
     "output_type": "display_data"
    },
    {
     "data": {
      "text/html": [
       "1.5574077246549023 = ${\\tan\\left(1\\right)}$"
      ],
      "text/plain": [
       "<IPython.core.display.HTML object>"
      ]
     },
     "metadata": {},
     "output_type": "display_data"
    },
    {
     "data": {
      "text/html": [
       "1.5707963267948966 = ${\\arcsin\\left(1\\right)}$"
      ],
      "text/plain": [
       "<IPython.core.display.HTML object>"
      ]
     },
     "metadata": {},
     "output_type": "display_data"
    },
    {
     "data": {
      "text/html": [
       "1.6094379124341003 = ${\\ln\\left(5\\right)}$"
      ],
      "text/plain": [
       "<IPython.core.display.HTML object>"
      ]
     },
     "metadata": {},
     "output_type": "display_data"
    },
    {
     "data": {
      "text/html": [
       "1.9459101490553132 = ${\\ln\\left(7\\right)}$"
      ],
      "text/plain": [
       "<IPython.core.display.HTML object>"
      ]
     },
     "metadata": {},
     "output_type": "display_data"
    },
    {
     "data": {
      "text/html": [
       "2 = ${\\isqrt\\left(7\\right)}$"
      ],
      "text/plain": [
       "<IPython.core.display.HTML object>"
      ]
     },
     "metadata": {},
     "output_type": "display_data"
    },
    {
     "data": {
      "text/html": [
       "2.185039863261519 = ${-\\tan\\left(2\\right)}$"
      ],
      "text/plain": [
       "<IPython.core.display.HTML object>"
      ]
     },
     "metadata": {},
     "output_type": "display_data"
    },
    {
     "data": {
      "text/html": [
       "2.23606797749979 = ${\\sqrt{5}}$"
      ],
      "text/plain": [
       "<IPython.core.display.HTML object>"
      ]
     },
     "metadata": {},
     "output_type": "display_data"
    },
    {
     "data": {
      "text/html": [
       "2.2924316695611777 = ${\\cosh^{-1}\\left(5\\right)}$"
      ],
      "text/plain": [
       "<IPython.core.display.HTML object>"
      ]
     },
     "metadata": {},
     "output_type": "display_data"
    },
    {
     "data": {
      "text/html": [
       "2.3124383412727525 = ${\\sinh^{-1}\\left(5\\right)}$"
      ],
      "text/plain": [
       "<IPython.core.display.HTML object>"
      ]
     },
     "metadata": {},
     "output_type": "display_data"
    },
    {
     "data": {
      "text/html": [
       "2.321928094887362 = ${\\log_2\\left(5\\right)}$"
      ],
      "text/plain": [
       "<IPython.core.display.HTML object>"
      ]
     },
     "metadata": {},
     "output_type": "display_data"
    },
    {
     "data": {
      "text/html": [
       "2.6339157938496336 = ${\\cosh^{-1}\\left(7\\right)}$"
      ],
      "text/plain": [
       "<IPython.core.display.HTML object>"
      ]
     },
     "metadata": {},
     "output_type": "display_data"
    },
    {
     "data": {
      "text/html": [
       "2.644120761058629 = ${\\sinh^{-1}\\left(7\\right)}$"
      ],
      "text/plain": [
       "<IPython.core.display.HTML object>"
      ]
     },
     "metadata": {},
     "output_type": "display_data"
    },
    {
     "data": {
      "text/html": [
       "2.6457513110645907 = ${\\sqrt{7}}$"
      ],
      "text/plain": [
       "<IPython.core.display.HTML object>"
      ]
     },
     "metadata": {},
     "output_type": "display_data"
    },
    {
     "data": {
      "text/html": [
       "2.718281828459045 = ${e^{1}}$"
      ],
      "text/plain": [
       "<IPython.core.display.HTML object>"
      ]
     },
     "metadata": {},
     "output_type": "display_data"
    },
    {
     "data": {
      "text/html": [
       "2.807354922057604 = ${\\log_2\\left(7\\right)}$"
      ],
      "text/plain": [
       "<IPython.core.display.HTML object>"
      ]
     },
     "metadata": {},
     "output_type": "display_data"
    },
    {
     "data": {
      "text/html": [
       "3.380515006246586 = ${-\\tan\\left(5\\right)}$"
      ],
      "text/plain": [
       "<IPython.core.display.HTML object>"
      ]
     },
     "metadata": {},
     "output_type": "display_data"
    },
    {
     "data": {
      "text/html": [
       "3.6268604078470186 = ${\\sinh\\left(2\\right)}$"
      ],
      "text/plain": [
       "<IPython.core.display.HTML object>"
      ]
     },
     "metadata": {},
     "output_type": "display_data"
    },
    {
     "data": {
      "text/html": [
       "3.7621956910836314 = ${\\cosh\\left(2\\right)}$"
      ],
      "text/plain": [
       "<IPython.core.display.HTML object>"
      ]
     },
     "metadata": {},
     "output_type": "display_data"
    },
    {
     "data": {
      "text/html": [
       "5 = ${5}$"
      ],
      "text/plain": [
       "<IPython.core.display.HTML object>"
      ]
     },
     "metadata": {},
     "output_type": "display_data"
    },
    {
     "data": {
      "text/html": [
       "7 = ${7}$"
      ],
      "text/plain": [
       "<IPython.core.display.HTML object>"
      ]
     },
     "metadata": {},
     "output_type": "display_data"
    },
    {
     "data": {
      "text/html": [
       "7.38905609893065 = ${e^{2}}$"
      ],
      "text/plain": [
       "<IPython.core.display.HTML object>"
      ]
     },
     "metadata": {},
     "output_type": "display_data"
    },
    {
     "data": {
      "text/html": [
       "24 = ${\\Gamma\\left(5\\right)}$"
      ],
      "text/plain": [
       "<IPython.core.display.HTML object>"
      ]
     },
     "metadata": {},
     "output_type": "display_data"
    },
    {
     "data": {
      "text/html": [
       "74.20321057778875 = ${\\sinh\\left(5\\right)}$"
      ],
      "text/plain": [
       "<IPython.core.display.HTML object>"
      ]
     },
     "metadata": {},
     "output_type": "display_data"
    },
    {
     "data": {
      "text/html": [
       "74.20994852478785 = ${\\cosh\\left(5\\right)}$"
      ],
      "text/plain": [
       "<IPython.core.display.HTML object>"
      ]
     },
     "metadata": {},
     "output_type": "display_data"
    },
    {
     "data": {
      "text/html": [
       "120 = ${5!}$"
      ],
      "text/plain": [
       "<IPython.core.display.HTML object>"
      ]
     },
     "metadata": {},
     "output_type": "display_data"
    },
    {
     "data": {
      "text/html": [
       "148.4131591025766 = ${e^{5}}$"
      ],
      "text/plain": [
       "<IPython.core.display.HTML object>"
      ]
     },
     "metadata": {},
     "output_type": "display_data"
    },
    {
     "data": {
      "text/html": [
       "548.3161232732465 = ${\\sinh\\left(7\\right)}$"
      ],
      "text/plain": [
       "<IPython.core.display.HTML object>"
      ]
     },
     "metadata": {},
     "output_type": "display_data"
    },
    {
     "data": {
      "text/html": [
       "548.3170351552121 = ${\\cosh\\left(7\\right)}$"
      ],
      "text/plain": [
       "<IPython.core.display.HTML object>"
      ]
     },
     "metadata": {},
     "output_type": "display_data"
    },
    {
     "data": {
      "text/html": [
       "720 = ${\\Gamma\\left(7\\right)}$"
      ],
      "text/plain": [
       "<IPython.core.display.HTML object>"
      ]
     },
     "metadata": {},
     "output_type": "display_data"
    },
    {
     "data": {
      "text/html": [
       "1096.6331584284585 = ${e^{7}}$"
      ],
      "text/plain": [
       "<IPython.core.display.HTML object>"
      ]
     },
     "metadata": {},
     "output_type": "display_data"
    },
    {
     "data": {
      "text/html": [
       "5040 = ${7!}$"
      ],
      "text/plain": [
       "<IPython.core.display.HTML object>"
      ]
     },
     "metadata": {},
     "output_type": "display_data"
    }
   ],
   "source": [
    "m=Monadic(0,functions)+Monadic(1,functions)+Monadic(2,functions)+Monadic(5,functions)+Monadic(7,functions)\n",
    "for x in m.items():\n",
    "    h(x[0],'=',x[1])"
   ]
  }
 ],
 "metadata": {
  "kernelspec": {
   "display_name": "Python 3",
   "language": "python",
   "name": "python3"
  },
  "language_info": {
   "codemirror_mode": {
    "name": "ipython",
    "version": 3
   },
   "file_extension": ".py",
   "mimetype": "text/x-python",
   "name": "python",
   "nbconvert_exporter": "python",
   "pygments_lexer": "ipython3",
   "version": "3.8.5"
  }
 },
 "nbformat": 4,
 "nbformat_minor": 2
}
