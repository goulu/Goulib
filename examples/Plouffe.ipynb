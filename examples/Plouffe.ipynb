{
  "cells": [
    {
      "cell_type": "code",
      "execution_count": 1,
      "metadata": {
        "pycharm": {}
      },
      "outputs": [
        {
          "ename": "AttributeError",
          "evalue": "module \u0027Goulib.expr\u0027 has no attribute \u0027Context\u0027",
          "output_type": "error",
          "traceback": [
            "\u001b[1;31m---------------------------------------------------------------------------\u001b[0m",
            "\u001b[1;31mAttributeError\u001b[0m                            Traceback (most recent call last)",
            "\u001b[1;32m\u003cipython-input-1-5f1d8b7a816a\u003e\u001b[0m in \u001b[0;36m\u003cmodule\u003e\u001b[1;34m()\u001b[0m\n\u001b[0;32m      3\u001b[0m \u001b[1;32mfrom\u001b[0m \u001b[0mGoulib\u001b[0m\u001b[1;33m.\u001b[0m\u001b[0mnotebook\u001b[0m \u001b[1;32mimport\u001b[0m \u001b[1;33m*\u001b[0m\u001b[1;33m\u001b[0m\u001b[0m\n\u001b[0;32m      4\u001b[0m \u001b[1;32mfrom\u001b[0m \u001b[0mGoulib\u001b[0m\u001b[1;33m.\u001b[0m\u001b[0mtable\u001b[0m \u001b[1;32mimport\u001b[0m \u001b[0mTable\u001b[0m\u001b[1;33m\u001b[0m\u001b[0m\n\u001b[1;32m----\u003e 5\u001b[1;33m \u001b[1;32mfrom\u001b[0m \u001b[0mfriedman\u001b[0m \u001b[1;32mimport\u001b[0m \u001b[0mseq\u001b[0m\u001b[1;33m\u001b[0m\u001b[0m\n\u001b[0m",
            "\u001b[1;32mC:\\Dev\\Python\\Goulib\\examples\\friedman.py\u001b[0m in \u001b[0;36m\u003cmodule\u003e\u001b[1;34m()\u001b[0m\n\u001b[0;32m     20\u001b[0m \u001b[1;33m\u001b[0m\u001b[0m\n\u001b[0;32m     21\u001b[0m \u001b[1;31m# \"safe\" operators\u001b[0m\u001b[1;33m\u001b[0m\u001b[1;33m\u001b[0m\u001b[0m\n\u001b[1;32m---\u003e 22\u001b[1;33m \u001b[0mcontext\u001b[0m \u001b[1;33m\u003d\u001b[0m \u001b[0mexpr\u001b[0m\u001b[1;33m.\u001b[0m\u001b[0mContext\u001b[0m\u001b[1;33m(\u001b[0m\u001b[1;33m)\u001b[0m\u001b[1;33m\u001b[0m\u001b[0m\n\u001b[0m\u001b[0;32m     23\u001b[0m \u001b[1;33m\u001b[0m\u001b[0m\n\u001b[0;32m     24\u001b[0m \u001b[1;33m\u001b[0m\u001b[0m\n",
            "\u001b[1;31mAttributeError\u001b[0m: module \u0027Goulib.expr\u0027 has no attribute \u0027Context\u0027"
          ]
        }
      ],
      "source": [
        "from math import *\n",
        "\n",
        "from Goulib.notebook import *\n",
        "from Goulib.table import Table\n",
        "from friedman import seq"
      ]
    },
    {
      "cell_type": "code",
      "execution_count": 2,
      "metadata": {
        "pycharm": {}
      },
      "outputs": [],
      "source": [
        "max\u003d100\n",
        "t\u003dTable(range(max+1),titles\u003d[\u0027n\u0027],style\u003d\"white-space:nowrap;\")\n",
        "def add(n,monadic\u003d\u0027-s\u0027,dyadic\u003d\u0027+-*/^_\u0027,permut\u003dFalse):\n",
        "    t.addcol(n)\n",
        "    col\u003dlen(t.titles)-1\n",
        "    for e in seq(n,monadic,dyadic,permut):\n",
        "        n\u003dint(e[0])\n",
        "        # h(e[0],\u0027\u003d\u0027,e[1])\n",
        "        if n\u003c\u003dmax:\n",
        "            t.set(n,col,e[1])"
      ]
    },
    {
      "cell_type": "code",
      "execution_count": 3,
      "metadata": {
        "pycharm": {}
      },
      "outputs": [
        {
          "name": "stderr",
          "output_type": "stream",
          "text": [
            "WARNING:root:19 has no solution\n"
          ]
        }
      ],
      "source": [
        "add(2018,permut\u003dTrue) #yeargame"
      ]
    },
    {
      "cell_type": "code",
      "execution_count": 1,
      "metadata": {
        "pycharm": {
          "is_executing": false
        }
      },
      "outputs": [
        {
          "traceback": [
            "\u001b[1;31m---------------------------------------------------------------------------\u001b[0m",
            "\u001b[1;31mNameError\u001b[0m                                 Traceback (most recent call last)",
            "\u001b[1;32m\u003cipython-input-1-fe3af4aa8600\u003e\u001b[0m in \u001b[0;36m\u003cmodule\u003e\u001b[1;34m()\u001b[0m\n\u001b[1;32m----\u003e 1\u001b[1;33m \u001b[0madd\u001b[0m\u001b[1;33m(\u001b[0m\u001b[1;36m2019\u001b[0m\u001b[1;33m,\u001b[0m\u001b[0mpermut\u001b[0m\u001b[1;33m\u003d\u001b[0m\u001b[1;32mTrue\u001b[0m\u001b[1;33m)\u001b[0m \u001b[1;31m#yeargame\u001b[0m\u001b[1;33m\u001b[0m\u001b[0m\n\u001b[0m",
            "\u001b[1;31mNameError\u001b[0m: name \u0027add\u0027 is not defined"
          ],
          "ename": "NameError",
          "evalue": "name \u0027add\u0027 is not defined",
          "output_type": "error"
        }
      ],
      "source": [
        "add(2019,permut\u003dTrue) #yeargame"
      ]
    },
    {
      "cell_type": "code",
      "execution_count": 5,
      "metadata": {
        "pycharm": {}
      },
      "outputs": [
        {
          "name": "stderr",
          "output_type": "stream",
          "text": [
            "WARNING:root:17 has no solution\n"
          ]
        }
      ],
      "source": [
        "add(4444) # four-four"
      ]
    },
    {
      "cell_type": "code",
      "execution_count": 6,
      "metadata": {
        "pycharm": {}
      },
      "outputs": [
        {
          "name": "stderr",
          "output_type": "stream",
          "text": [
            "WARNING:root:58 has no solution\n"
          ]
        }
      ],
      "source": [
        "add(123456789)"
      ]
    },
    {
      "cell_type": "code",
      "execution_count": 7,
      "metadata": {
        "pycharm": {}
      },
      "outputs": [
        {
          "name": "stderr",
          "output_type": "stream",
          "text": [
            "WARNING:root:5 has no solution\n"
          ]
        }
      ],
      "source": [
        "add(999) # 999 clock"
      ]
    },
    {
      "cell_type": "code",
      "execution_count": 8,
      "metadata": {
        "scrolled": false,
        "pycharm": {}
      },
      "outputs": [
        {
          "data": {
            "text/html": [
              "\u003ctable\u003e\u003cthead\u003e\n",
              "\u003ctr\u003e\u003cth\u003en\u003c/th\u003e\u003cth style\u003d\"text-align:right;\"\u003e2018\u003c/th\u003e\u003cth style\u003d\"text-align:right;\"\u003e2019\u003c/th\u003e\u003cth style\u003d\"text-align:right;\"\u003e4444\u003c/th\u003e\u003cth style\u003d\"text-align:right;\"\u003e123456789\u003c/th\u003e\u003cth style\u003d\"text-align:right;\"\u003e999\u003c/th\u003e\u003c/tr\u003e\n",
              "\u003c/thead\u003e\n",
              "\u003ctr\u003e\u003ctd style\u003d\"text-align:right;\"\u003e0\u003c/td\u003e\u003ctd\u003e${218 \\cdot 0}$\u003c/td\u003e\u003ctd\u003e${219 \\cdot 0}$\u003c/td\u003e\u003ctd\u003e${44-44}$\u003c/td\u003e\u003ctd\u003e${1+23+45+6-78+\\sqrt{9}}$\u003c/td\u003e\u003ctd\u003e${\\left(9-9\\right)9}$\u003c/td\u003e\u003c/tr\u003e\n",
              "\u003ctr\u003e\u003ctd style\u003d\"text-align:right;\"\u003e1\u003c/td\u003e\u003ctd\u003e${28 \\cdot 0+1}$\u003c/td\u003e\u003ctd\u003e${20-19}$\u003c/td\u003e\u003ctd\u003e${\\frac{4+4-4}{4}}$\u003c/td\u003e\u003ctd\u003e${-\\frac{1+23+45+6-78}{\\sqrt{9}}}$\u003c/td\u003e\u003ctd\u003e${\\frac{\\frac{9}{\\sqrt{9}}}{\\sqrt{9}}}$\u003c/td\u003e\u003c/tr\u003e\n",
              "\u003ctr\u003e\u003ctd style\u003d\"text-align:right;\"\u003e2\u003c/td\u003e\u003ctd\u003e${20-18}$\u003c/td\u003e\u003ctd\u003e${2+19 \\cdot 0}$\u003c/td\u003e\u003ctd\u003e${\\left(4+4-4\\right)-\\sqrt{4}}$\u003c/td\u003e\u003ctd\u003e${1+23+4+56+7-89}$\u003c/td\u003e\u003ctd\u003e${\\frac{9+9}{9}}$\u003c/td\u003e\u003c/tr\u003e\n",
              "\u003ctr\u003e\u003ctd style\u003d\"text-align:right;\"\u003e3\u003c/td\u003e\u003ctd\u003e${-\\left(\\frac{10}{2}-8\\right)}$\u003c/td\u003e\u003ctd\u003e${2+10-9}$\u003c/td\u003e\u003ctd\u003e${\\frac{4+4+4}{4}}$\u003c/td\u003e\u003ctd\u003e${\\left(1+23+4+56-78\\right)-\\sqrt{9}}$\u003c/td\u003e\u003ctd\u003e${\\left(9+\\sqrt{9}\\right)-9}$\u003c/td\u003e\u003c/tr\u003e\n",
              "\u003ctr\u003e\u003ctd style\u003d\"text-align:right;\"\u003e4\u003c/td\u003e\u003ctd\u003e${2+10-8}$\u003c/td\u003e\u003ctd\u003e${\\frac{2+10}{\\sqrt{9}}}$\u003c/td\u003e\u003ctd\u003e${\\left(4+4-\\sqrt{4}\\right)-\\sqrt{4}}$\u003c/td\u003e\u003ctd\u003e${-\\frac{12+3+45+6-78}{\\sqrt{9}}}$\u003c/td\u003e\u003ctd\u003e${\\frac{9+\\sqrt{9}}{\\sqrt{9}}}$\u003c/td\u003e\u003c/tr\u003e\n",
              "\u003ctr\u003e\u003ctd style\u003d\"text-align:right;\"\u003e5\u003c/td\u003e\u003ctd\u003e${\\frac{10\\sqrt{2}}{\\sqrt{8}}}$\u003c/td\u003e\u003ctd\u003e${10-2-\\sqrt{9}}$\u003c/td\u003e\u003ctd\u003e${\\frac{4+4+\\sqrt{4}}{\\sqrt{4}}}$\u003c/td\u003e\u003ctd\u003e${\\frac{1+2+34+56-78}{\\sqrt{9}}}$\u003c/td\u003e\u003ctd\u003e\u0026nbsp;\u003c/td\u003e\u003c/tr\u003e\n",
              "\u003ctr\u003e\u003ctd style\u003d\"text-align:right;\"\u003e6\u003c/td\u003e\u003ctd\u003e${\\left(0+\\sqrt{18}\\right)\\sqrt{2}}$\u003c/td\u003e\u003ctd\u003e${2+0+1+\\sqrt{9}}$\u003c/td\u003e\u003ctd\u003e${\\frac{4+4+4}{\\sqrt{4}}}$\u003c/td\u003e\u003ctd\u003e${\\left(1+2+34+56-78\\right)-9}$\u003c/td\u003e\u003ctd\u003e${\\frac{9+9}{\\sqrt{9}}}$\u003c/td\u003e\u003c/tr\u003e\n",
              "\u003ctr\u003e\u003ctd style\u003d\"text-align:right;\"\u003e7\u003c/td\u003e\u003ctd\u003e${\\left(0+\\sqrt{81}\\right)-2}$\u003c/td\u003e\u003ctd\u003e${\\frac{20+1}{\\sqrt{9}}}$\u003c/td\u003e\u003ctd\u003e${\\frac{44}{4}-4}$\u003c/td\u003e\u003ctd\u003e${-\\left(1+23+45+6+7-89\\right)}$\u003c/td\u003e\u003ctd\u003e\u0026nbsp;\u003c/td\u003e\u003c/tr\u003e\n",
              "\u003ctr\u003e\u003ctd style\u003d\"text-align:right;\"\u003e8\u003c/td\u003e\u003ctd\u003e${21 \\cdot 0+8}$\u003c/td\u003e\u003ctd\u003e${\\frac{10}{2}+\\sqrt{9}}$\u003c/td\u003e\u003ctd\u003e${4+4+4-4}$\u003c/td\u003e\u003ctd\u003e${\\frac{12+34+56-78}{\\sqrt{9}}}$\u003c/td\u003e\u003ctd\u003e${9+\\frac{9}{-9}}$\u003c/td\u003e\u003c/tr\u003e\n",
              "\u003ctr\u003e\u003ctd style\u003d\"text-align:right;\"\u003e9\u003c/td\u003e\u003ctd\u003e${0+\\frac{18}{2}}$\u003c/td\u003e\u003ctd\u003e${2+10-\\sqrt{9}}$\u003c/td\u003e\u003ctd\u003e${\\frac{44}{4}-\\sqrt{4}}$\u003c/td\u003e\u003ctd\u003e${1+23+4+56-78+\\sqrt{9}}$\u003c/td\u003e\u003ctd\u003e${9+9-9}$\u003c/td\u003e\u003c/tr\u003e\n",
              "\u003ctr\u003e\u003ctd style\u003d\"text-align:right;\"\u003e10\u003c/td\u003e\u003ctd\u003e${2+0+1 \\cdot 8}$\u003c/td\u003e\u003ctd\u003e${20-1-9}$\u003c/td\u003e\u003ctd\u003e${\\frac{44-4}{4}}$\u003c/td\u003e\u003ctd\u003e${\\frac{1+23+45+6+7+8}{9}}$\u003c/td\u003e\u003ctd\u003e${9+\\frac{9}{9}}$\u003c/td\u003e\u003c/tr\u003e\n",
              "\u003ctr\u003e\u003ctd style\u003d\"text-align:right;\"\u003e11\u003c/td\u003e\u003ctd\u003e${20-1-8}$\u003c/td\u003e\u003ctd\u003e${20 \\cdot 1-9}$\u003c/td\u003e\u003ctd\u003e${\\frac{\\frac{44}{\\sqrt{4}}}{\\sqrt{4}}}$\u003c/td\u003e\u003ctd\u003e${1+2+34+56+7-89}$\u003c/td\u003e\u003ctd\u003e${\\frac{99}{9}}$\u003c/td\u003e\u003c/tr\u003e\n",
              "\u003ctr\u003e\u003ctd style\u003d\"text-align:right;\"\u003e12\u003c/td\u003e\u003ctd\u003e${20 \\cdot 1-8}$\u003c/td\u003e\u003ctd\u003e${20+1-9}$\u003c/td\u003e\u003ctd\u003e${\\frac{4+44}{4}}$\u003c/td\u003e\u003ctd\u003e${\\left(1+2+34+56-78\\right)-\\sqrt{9}}$\u003c/td\u003e\u003ctd\u003e${9+\\frac{9}{\\sqrt{9}}}$\u003c/td\u003e\u003c/tr\u003e\n",
              "\u003ctr\u003e\u003ctd style\u003d\"text-align:right;\"\u003e13\u003c/td\u003e\u003ctd\u003e${20+1-8}$\u003c/td\u003e\u003ctd\u003e\u0026nbsp;\u003c/td\u003e\u003ctd\u003e${\\frac{44}{4}+\\sqrt{4}}$\u003c/td\u003e\u003ctd\u003e${\\frac{12+34+56+7+8}{9}}$\u003c/td\u003e\u003ctd\u003e\u0026nbsp;\u003c/td\u003e\u003c/tr\u003e\n",
              "\u003ctr\u003e\u003ctd style\u003d\"text-align:right;\"\u003e14\u003c/td\u003e\u003ctd\u003e${10+\\frac{8}{2}}$\u003c/td\u003e\u003ctd\u003e${\\frac{10}{2}+9}$\u003c/td\u003e\u003ctd\u003e${4+4+4+\\sqrt{4}}$\u003c/td\u003e\u003ctd\u003e${\\frac{12+34+5+67+8}{9}}$\u003c/td\u003e\u003ctd\u003e\u0026nbsp;\u003c/td\u003e\u003c/tr\u003e\n",
              "\u003ctr\u003e\u003ctd style\u003d\"text-align:right;\"\u003e15\u003c/td\u003e\u003ctd\u003e${\\frac{120}{8}}$\u003c/td\u003e\u003ctd\u003e${2+10+\\sqrt{9}}$\u003c/td\u003e\u003ctd\u003e${4+\\frac{44}{4}}$\u003c/td\u003e\u003ctd\u003e${\\left(12+34+56-78\\right)-9}$\u003c/td\u003e\u003ctd\u003e${9+9-\\sqrt{9}}$\u003c/td\u003e\u003c/tr\u003e\n",
              "\u003ctr\u003e\u003ctd style\u003d\"text-align:right;\"\u003e16\u003c/td\u003e\u003ctd\u003e${0+18-2}$\u003c/td\u003e\u003ctd\u003e${20-1-\\sqrt{9}}$\u003c/td\u003e\u003ctd\u003e${4+4+4+4}$\u003c/td\u003e\u003ctd\u003e${\\frac{1+23+45+67+8}{9}}$\u003c/td\u003e\u003ctd\u003e\u0026nbsp;\u003c/td\u003e\u003c/tr\u003e\n",
              "\u003ctr\u003e\u003ctd style\u003d\"text-align:right;\"\u003e17\u003c/td\u003e\u003ctd\u003e${0+2 \\cdot 8+1}$\u003c/td\u003e\u003ctd\u003e${20 \\cdot 1-\\sqrt{9}}$\u003c/td\u003e\u003ctd\u003e\u0026nbsp;\u003c/td\u003e\u003ctd\u003e${\\frac{1+23+45+6+78}{9}}$\u003c/td\u003e\u003ctd\u003e\u0026nbsp;\u003c/td\u003e\u003c/tr\u003e\n",
              "\u003ctr\u003e\u003ctd style\u003d\"text-align:right;\"\u003e18\u003c/td\u003e\u003ctd\u003e${28-10}$\u003c/td\u003e\u003ctd\u003e${20+1-\\sqrt{9}}$\u003c/td\u003e\u003ctd\u003e${\\frac{44}{\\sqrt{4}}-4}$\u003c/td\u003e\u003ctd\u003e${\\frac{1+23+4+56+78}{9}}$\u003c/td\u003e\u003ctd\u003e${\\left(9-\\sqrt{9}\\right)\\sqrt{9}}$\u003c/td\u003e\u003c/tr\u003e\n",
              "\u003ctr\u003e\u003ctd style\u003d\"text-align:right;\"\u003e19\u003c/td\u003e\u003ctd\u003e\u0026nbsp;\u003c/td\u003e\u003ctd\u003e${29-10}$\u003c/td\u003e\u003ctd\u003e\u0026nbsp;\u003c/td\u003e\u003ctd\u003e${\\frac{1+2+34+56+78}{9}}$\u003c/td\u003e\u003ctd\u003e\u0026nbsp;\u003c/td\u003e\u003c/tr\u003e\n",
              "\u003ctr\u003e\u003ctd style\u003d\"text-align:right;\"\u003e20\u003c/td\u003e\u003ctd\u003e${2+0+18}$\u003c/td\u003e\u003ctd\u003e${\\left(0+1+9\\right)2}$\u003c/td\u003e\u003ctd\u003e${\\frac{44-4}{\\sqrt{4}}}$\u003c/td\u003e\u003ctd\u003e${\\frac{12+34+56+78}{9}}$\u003c/td\u003e\u003ctd\u003e\u0026nbsp;\u003c/td\u003e\u003c/tr\u003e\n",
              "\u003ctr\u003e\u003ctd style\u003d\"text-align:right;\"\u003e21\u003c/td\u003e\u003ctd\u003e${21+0 \\cdot 8}$\u003c/td\u003e\u003ctd\u003e${2+0+19}$\u003c/td\u003e\u003ctd\u003e${\\frac{44-\\sqrt{4}}{\\sqrt{4}}}$\u003c/td\u003e\u003ctd\u003e${\\left(12+34+56-78\\right)-\\sqrt{9}}$\u003c/td\u003e\u003ctd\u003e${9+9+\\sqrt{9}}$\u003c/td\u003e\u003c/tr\u003e\n",
              "\u003ctr\u003e\u003ctd style\u003d\"text-align:right;\"\u003e22\u003c/td\u003e\u003ctd\u003e\u0026nbsp;\u003c/td\u003e\u003ctd\u003e${20-1+\\sqrt{9}}$\u003c/td\u003e\u003ctd\u003e${\\frac{44\\sqrt{4}}{4}}$\u003c/td\u003e\u003ctd\u003e${\\frac{123+4+56+7+8}{9}}$\u003c/td\u003e\u003ctd\u003e\u0026nbsp;\u003c/td\u003e\u003c/tr\u003e\n",
              "\u003ctr\u003e\u003ctd style\u003d\"text-align:right;\"\u003e23\u003c/td\u003e\u003ctd\u003e\u0026nbsp;\u003c/td\u003e\u003ctd\u003e${20+1\\sqrt{9}}$\u003c/td\u003e\u003ctd\u003e${\\frac{44+\\sqrt{4}}{\\sqrt{4}}}$\u003c/td\u003e\u003ctd\u003e${\\frac{123+4+5+67+8}{9}}$\u003c/td\u003e\u003ctd\u003e\u0026nbsp;\u003c/td\u003e\u003c/tr\u003e\n",
              "\u003ctr\u003e\u003ctd style\u003d\"text-align:right;\"\u003e24\u003c/td\u003e\u003ctd\u003e${\\left(2+0+1\\right)8}$\u003c/td\u003e\u003ctd\u003e${20+1+\\sqrt{9}}$\u003c/td\u003e\u003ctd\u003e${\\frac{4+44}{\\sqrt{4}}}$\u003c/td\u003e\u003ctd\u003e${\\frac{123+4+5+6+78}{9}}$\u003c/td\u003e\u003ctd\u003e${9\\sqrt{9}-\\sqrt{9}}$\u003c/td\u003e\u003c/tr\u003e\n",
              "\u003ctr\u003e\u003ctd style\u003d\"text-align:right;\"\u003e25\u003c/td\u003e\u003ctd\u003e\u0026nbsp;\u003c/td\u003e\u003ctd\u003e\u0026nbsp;\u003c/td\u003e\u003ctd\u003e\u0026nbsp;\u003c/td\u003e\u003ctd\u003e${-\\left(12+34+5+6+7-89\\right)}$\u003c/td\u003e\u003ctd\u003e\u0026nbsp;\u003c/td\u003e\u003c/tr\u003e\n",
              "\u003ctr\u003e\u003ctd style\u003d\"text-align:right;\"\u003e26\u003c/td\u003e\u003ctd\u003e${10+2 \\cdot 8}$\u003c/td\u003e\u003ctd\u003e${\\left(10+\\sqrt{9}\\right)2}$\u003c/td\u003e\u003ctd\u003e${4+\\frac{44}{\\sqrt{4}}}$\u003c/td\u003e\u003ctd\u003e${\\left(12+3+4+5+6+7-8\\right)-\\sqrt{9}}$\u003c/td\u003e\u003ctd\u003e\u0026nbsp;\u003c/td\u003e\u003c/tr\u003e\n",
              "\u003ctr\u003e\u003ctd style\u003d\"text-align:right;\"\u003e27\u003c/td\u003e\u003ctd\u003e${20-1+8}$\u003c/td\u003e\u003ctd\u003e${\\left(2+0+1\\right)9}$\u003c/td\u003e\u003ctd\u003e\u0026nbsp;\u003c/td\u003e\u003ctd\u003e${\\frac{123+45+67+8}{9}}$\u003c/td\u003e\u003ctd\u003e${9+9+9}$\u003c/td\u003e\u003c/tr\u003e\n",
              "\u003ctr\u003e\u003ctd style\u003d\"text-align:right;\"\u003e28\u003c/td\u003e\u003ctd\u003e${20+1 \\cdot 8}$\u003c/td\u003e\u003ctd\u003e${20-1+9}$\u003c/td\u003e\u003ctd\u003e${44+4\\left(-4\\right)}$\u003c/td\u003e\u003ctd\u003e${\\frac{123+45+6+78}{9}}$\u003c/td\u003e\u003ctd\u003e\u0026nbsp;\u003c/td\u003e\u003c/tr\u003e\n",
              "\u003ctr\u003e\u003ctd style\u003d\"text-align:right;\"\u003e29\u003c/td\u003e\u003ctd\u003e${20+\\sqrt{81}}$\u003c/td\u003e\u003ctd\u003e${20+1 \\cdot 9}$\u003c/td\u003e\u003ctd\u003e\u0026nbsp;\u003c/td\u003e\u003ctd\u003e${\\frac{123+4+56+78}{9}}$\u003c/td\u003e\u003ctd\u003e\u0026nbsp;\u003c/td\u003e\u003c/tr\u003e\n",
              "\u003ctr\u003e\u003ctd style\u003d\"text-align:right;\"\u003e30\u003c/td\u003e\u003ctd\u003e\u0026nbsp;\u003c/td\u003e\u003ctd\u003e${20+1+9}$\u003c/td\u003e\u003ctd\u003e\u0026nbsp;\u003c/td\u003e\u003ctd\u003e${\\frac{1+23+45+6+7+8}{\\sqrt{9}}}$\u003c/td\u003e\u003ctd\u003e${9\\sqrt{9}+\\sqrt{9}}$\u003c/td\u003e\u003c/tr\u003e\n",
              "\u003ctr\u003e\u003ctd style\u003d\"text-align:right;\"\u003e31\u003c/td\u003e\u003ctd\u003e\u0026nbsp;\u003c/td\u003e\u003ctd\u003e\u0026nbsp;\u003c/td\u003e\u003ctd\u003e\u0026nbsp;\u003c/td\u003e\u003ctd\u003e${1+23+4+56+7\\left(-8\\right)+\\sqrt{9}}$\u003c/td\u003e\u003ctd\u003e\u0026nbsp;\u003c/td\u003e\u003c/tr\u003e\n",
              "\u003ctr\u003e\u003ctd style\u003d\"text-align:right;\"\u003e32\u003c/td\u003e\u003ctd\u003e\u0026nbsp;\u003c/td\u003e\u003ctd\u003e${2+10\\sqrt{9}}$\u003c/td\u003e\u003ctd\u003e\u0026nbsp;\u003c/td\u003e\u003ctd\u003e${\\frac{123+45+6-78}{\\sqrt{9}}}$\u003c/td\u003e\u003ctd\u003e\u0026nbsp;\u003c/td\u003e\u003c/tr\u003e\n",
              "\u003ctr\u003e\u003ctd style\u003d\"text-align:right;\"\u003e33\u003c/td\u003e\u003ctd\u003e\u0026nbsp;\u003c/td\u003e\u003ctd\u003e\u0026nbsp;\u003c/td\u003e\u003ctd\u003e\u0026nbsp;\u003c/td\u003e\u003ctd\u003e${12+34+56-78+9}$\u003c/td\u003e\u003ctd\u003e${\\frac{99}{\\sqrt{9}}}$\u003c/td\u003e\u003c/tr\u003e\n",
              "\u003ctr\u003e\u003ctd style\u003d\"text-align:right;\"\u003e34\u003c/td\u003e\u003ctd\u003e\u0026nbsp;\u003c/td\u003e\u003ctd\u003e${\\frac{102}{\\sqrt{9}}}$\u003c/td\u003e\u003ctd\u003e\u0026nbsp;\u003c/td\u003e\u003ctd\u003e${\\frac{1+234+56+7+8}{9}}$\u003c/td\u003e\u003ctd\u003e\u0026nbsp;\u003c/td\u003e\u003c/tr\u003e\n",
              "\u003ctr\u003e\u003ctd style\u003d\"text-align:right;\"\u003e35\u003c/td\u003e\u003ctd\u003e\u0026nbsp;\u003c/td\u003e\u003ctd\u003e\u0026nbsp;\u003c/td\u003e\u003ctd\u003e\u0026nbsp;\u003c/td\u003e\u003ctd\u003e${\\frac{123+4+56-78}{\\sqrt{9}}}$\u003c/td\u003e\u003ctd\u003e\u0026nbsp;\u003c/td\u003e\u003c/tr\u003e\n",
              "\u003ctr\u003e\u003ctd style\u003d\"text-align:right;\"\u003e36\u003c/td\u003e\u003ctd\u003e${0+18 \\cdot 2}$\u003c/td\u003e\u003ctd\u003e${\\left(2+10\\right)\\sqrt{9}}$\u003c/td\u003e\u003ctd\u003e${44-4-4}$\u003c/td\u003e\u003ctd\u003e${\\frac{1+234+5+6+78}{9}}$\u003c/td\u003e\u003ctd\u003e${9+9\\sqrt{9}}$\u003c/td\u003e\u003c/tr\u003e\n",
              "\u003ctr\u003e\u003ctd style\u003d\"text-align:right;\"\u003e37\u003c/td\u003e\u003ctd\u003e\u0026nbsp;\u003c/td\u003e\u003ctd\u003e\u0026nbsp;\u003c/td\u003e\u003ctd\u003e\u0026nbsp;\u003c/td\u003e\u003ctd\u003e${12+34+56+7+8\\left(-9\\right)}$\u003c/td\u003e\u003ctd\u003e\u0026nbsp;\u003c/td\u003e\u003c/tr\u003e\n",
              "\u003ctr\u003e\u003ctd style\u003d\"text-align:right;\"\u003e38\u003c/td\u003e\u003ctd\u003e${20+18}$\u003c/td\u003e\u003ctd\u003e${0+19 \\cdot 2}$\u003c/td\u003e\u003ctd\u003e${44-4-\\sqrt{4}}$\u003c/td\u003e\u003ctd\u003e${12+3+45+67-89}$\u003c/td\u003e\u003ctd\u003e\u0026nbsp;\u003c/td\u003e\u003c/tr\u003e\n",
              "\u003ctr\u003e\u003ctd style\u003d\"text-align:right;\"\u003e39\u003c/td\u003e\u003ctd\u003e${\\frac{80}{2}-1}$\u003c/td\u003e\u003ctd\u003e${20+19}$\u003c/td\u003e\u003ctd\u003e\u0026nbsp;\u003c/td\u003e\u003ctd\u003e${\\frac{12+34+56+7+8}{\\sqrt{9}}}$\u003c/td\u003e\u003ctd\u003e\u0026nbsp;\u003c/td\u003e\u003c/tr\u003e\n",
              "\u003ctr\u003e\u003ctd style\u003d\"text-align:right;\"\u003e40\u003c/td\u003e\u003ctd\u003e${\\frac{10}{2}8}$\u003c/td\u003e\u003ctd\u003e${\\frac{120}{\\sqrt{9}}}$\u003c/td\u003e\u003ctd\u003e${44-\\sqrt{4}-\\sqrt{4}}$\u003c/td\u003e\u003ctd\u003e${1+2+34+56+7\\left(-8\\right)+\\sqrt{9}}$\u003c/td\u003e\u003ctd\u003e\u0026nbsp;\u003c/td\u003e\u003c/tr\u003e\n",
              "\u003ctr\u003e\u003ctd style\u003d\"text-align:right;\"\u003e41\u003c/td\u003e\u003ctd\u003e${1+\\frac{80}{2}}$\u003c/td\u003e\u003ctd\u003e\u0026nbsp;\u003c/td\u003e\u003ctd\u003e\u0026nbsp;\u003c/td\u003e\u003ctd\u003e${\\frac{1+234+56+78}{9}}$\u003c/td\u003e\u003ctd\u003e\u0026nbsp;\u003c/td\u003e\u003c/tr\u003e\n",
              "\u003ctr\u003e\u003ctd style\u003d\"text-align:right;\"\u003e42\u003c/td\u003e\u003ctd\u003e\u0026nbsp;\u003c/td\u003e\u003ctd\u003e\u0026nbsp;\u003c/td\u003e\u003ctd\u003e${\\left(44+\\sqrt{4}\\right)-4}$\u003c/td\u003e\u003ctd\u003e${\\frac{12+34+5+67+8}{\\sqrt{9}}}$\u003c/td\u003e\u003ctd\u003e\u0026nbsp;\u003c/td\u003e\u003c/tr\u003e\n",
              "\u003ctr\u003e\u003ctd style\u003d\"text-align:right;\"\u003e43\u003c/td\u003e\u003ctd\u003e\u0026nbsp;\u003c/td\u003e\u003ctd\u003e\u0026nbsp;\u003c/td\u003e\u003ctd\u003e${44+\\frac{4}{-4}}$\u003c/td\u003e\u003ctd\u003e${\\left(12+34+56+7\\left(-8\\right)\\right)-\\sqrt{9}}$\u003c/td\u003e\u003ctd\u003e\u0026nbsp;\u003c/td\u003e\u003c/tr\u003e\n",
              "\u003ctr\u003e\u003ctd style\u003d\"text-align:right;\"\u003e44\u003c/td\u003e\u003ctd\u003e\u0026nbsp;\u003c/td\u003e\u003ctd\u003e${\\frac{90}{2}-1}$\u003c/td\u003e\u003ctd\u003e${4+44-4}$\u003c/td\u003e\u003ctd\u003e${\\left(1+2+34+5+6+7-8\\right)-\\sqrt{9}}$\u003c/td\u003e\u003ctd\u003e\u0026nbsp;\u003c/td\u003e\u003c/tr\u003e\n",
              "\u003ctr\u003e\u003ctd style\u003d\"text-align:right;\"\u003e45\u003c/td\u003e\u003ctd\u003e\u0026nbsp;\u003c/td\u003e\u003ctd\u003e${\\frac{10}{2}9}$\u003c/td\u003e\u003ctd\u003e${44+\\frac{4}{4}}$\u003c/td\u003e\u003ctd\u003e${\\frac{12+3+45+67+8}{\\sqrt{9}}}$\u003c/td\u003e\u003ctd\u003e\u0026nbsp;\u003c/td\u003e\u003c/tr\u003e\n",
              "\u003ctr\u003e\u003ctd style\u003d\"text-align:right;\"\u003e46\u003c/td\u003e\u003ctd\u003e\u0026nbsp;\u003c/td\u003e\u003ctd\u003e${1+\\frac{90}{2}}$\u003c/td\u003e\u003ctd\u003e${4+44-\\sqrt{4}}$\u003c/td\u003e\u003ctd\u003e${12+34+5+67+8\\left(-9\\right)}$\u003c/td\u003e\u003ctd\u003e\u0026nbsp;\u003c/td\u003e\u003c/tr\u003e\n",
              "\u003ctr\u003e\u003ctd style\u003d\"text-align:right;\"\u003e47\u003c/td\u003e\u003ctd\u003e\u0026nbsp;\u003c/td\u003e\u003ctd\u003e\u0026nbsp;\u003c/td\u003e\u003ctd\u003e\u0026nbsp;\u003c/td\u003e\u003ctd\u003e${1+23+45+67-89}$\u003c/td\u003e\u003ctd\u003e\u0026nbsp;\u003c/td\u003e\u003c/tr\u003e\n",
              "\u003ctr\u003e\u003ctd style\u003d\"text-align:right;\"\u003e48\u003c/td\u003e\u003ctd\u003e\u0026nbsp;\u003c/td\u003e\u003ctd\u003e\u0026nbsp;\u003c/td\u003e\u003ctd\u003e${44+\\sqrt{4}+\\sqrt{4}}$\u003c/td\u003e\u003ctd\u003e${\\frac{12+345+67+8}{9}}$\u003c/td\u003e\u003ctd\u003e\u0026nbsp;\u003c/td\u003e\u003c/tr\u003e\n",
              "\u003ctr\u003e\u003ctd style\u003d\"text-align:right;\"\u003e49\u003c/td\u003e\u003ctd\u003e\u0026nbsp;\u003c/td\u003e\u003ctd\u003e\u0026nbsp;\u003c/td\u003e\u003ctd\u003e\u0026nbsp;\u003c/td\u003e\u003ctd\u003e${\\frac{12+345+6+78}{9}}$\u003c/td\u003e\u003ctd\u003e\u0026nbsp;\u003c/td\u003e\u003c/tr\u003e\n",
              "\u003ctr\u003e\u003ctd style\u003d\"text-align:right;\"\u003e50\u003c/td\u003e\u003ctd\u003e\u0026nbsp;\u003c/td\u003e\u003ctd\u003e\u0026nbsp;\u003c/td\u003e\u003ctd\u003e${4+44+\\sqrt{4}}$\u003c/td\u003e\u003ctd\u003e${1+2+34+5+6+7-8+\\sqrt{9}}$\u003c/td\u003e\u003ctd\u003e\u0026nbsp;\u003c/td\u003e\u003c/tr\u003e\n",
              "\u003ctr\u003e\u003ctd style\u003d\"text-align:right;\"\u003e51\u003c/td\u003e\u003ctd\u003e\u0026nbsp;\u003c/td\u003e\u003ctd\u003e\u0026nbsp;\u003c/td\u003e\u003ctd\u003e\u0026nbsp;\u003c/td\u003e\u003ctd\u003e${\\frac{1+23+45+6+78}{\\sqrt{9}}}$\u003c/td\u003e\u003ctd\u003e\u0026nbsp;\u003c/td\u003e\u003c/tr\u003e\n",
              "\u003ctr\u003e\u003ctd style\u003d\"text-align:right;\"\u003e52\u003c/td\u003e\u003ctd\u003e\u0026nbsp;\u003c/td\u003e\u003ctd\u003e\u0026nbsp;\u003c/td\u003e\u003ctd\u003e${4+4+44}$\u003c/td\u003e\u003ctd\u003e${-\\left(12+3+4+5+6+7-89\\right)}$\u003c/td\u003e\u003ctd\u003e\u0026nbsp;\u003c/td\u003e\u003c/tr\u003e\n",
              "\u003ctr\u003e\u003ctd style\u003d\"text-align:right;\"\u003e53\u003c/td\u003e\u003ctd\u003e\u0026nbsp;\u003c/td\u003e\u003ctd\u003e\u0026nbsp;\u003c/td\u003e\u003ctd\u003e\u0026nbsp;\u003c/td\u003e\u003ctd\u003e${\\frac{1+2+3+456+7+8}{9}}$\u003c/td\u003e\u003ctd\u003e\u0026nbsp;\u003c/td\u003e\u003c/tr\u003e\n",
              "\u003ctr\u003e\u003ctd style\u003d\"text-align:right;\"\u003e54\u003c/td\u003e\u003ctd\u003e${\\frac{108}{2}}$\u003c/td\u003e\u003ctd\u003e\u0026nbsp;\u003c/td\u003e\u003ctd\u003e\u0026nbsp;\u003c/td\u003e\u003ctd\u003e${\\frac{1+23+4+56+78}{\\sqrt{9}}}$\u003c/td\u003e\u003ctd\u003e${\\left(9+9\\right)\\sqrt{9}}$\u003c/td\u003e\u003c/tr\u003e\n",
              "\u003ctr\u003e\u003ctd style\u003d\"text-align:right;\"\u003e55\u003c/td\u003e\u003ctd\u003e\u0026nbsp;\u003c/td\u003e\u003ctd\u003e\u0026nbsp;\u003c/td\u003e\u003ctd\u003e\u0026nbsp;\u003c/td\u003e\u003ctd\u003e${\\frac{1+23+456+7+8}{9}}$\u003c/td\u003e\u003ctd\u003e\u0026nbsp;\u003c/td\u003e\u003c/tr\u003e\n",
              "\u003ctr\u003e\u003ctd style\u003d\"text-align:right;\"\u003e56\u003c/td\u003e\u003ctd\u003e\u0026nbsp;\u003c/td\u003e\u003ctd\u003e\u0026nbsp;\u003c/td\u003e\u003ctd\u003e\u0026nbsp;\u003c/td\u003e\u003ctd\u003e${123+4+5+6+7-89}$\u003c/td\u003e\u003ctd\u003e\u0026nbsp;\u003c/td\u003e\u003c/tr\u003e\n",
              "\u003ctr\u003e\u003ctd style\u003d\"text-align:right;\"\u003e57\u003c/td\u003e\u003ctd\u003e\u0026nbsp;\u003c/td\u003e\u003ctd\u003e${\\left(20-1\\right)\\sqrt{9}}$\u003c/td\u003e\u003ctd\u003e\u0026nbsp;\u003c/td\u003e\u003ctd\u003e${\\frac{1+2+34+56+78}{\\sqrt{9}}}$\u003c/td\u003e\u003ctd\u003e\u0026nbsp;\u003c/td\u003e\u003c/tr\u003e\n",
              "\u003ctr\u003e\u003ctd style\u003d\"text-align:right;\"\u003e58\u003c/td\u003e\u003ctd\u003e\u0026nbsp;\u003c/td\u003e\u003ctd\u003e\u0026nbsp;\u003c/td\u003e\u003ctd\u003e\u0026nbsp;\u003c/td\u003e\u003ctd\u003e\u0026nbsp;\u003c/td\u003e\u003ctd\u003e\u0026nbsp;\u003c/td\u003e\u003c/tr\u003e\n",
              "\u003ctr\u003e\u003ctd style\u003d\"text-align:right;\"\u003e59\u003c/td\u003e\u003ctd\u003e${80-21}$\u003c/td\u003e\u003ctd\u003e${20\\sqrt{9}-1}$\u003c/td\u003e\u003ctd\u003e\u0026nbsp;\u003c/td\u003e\u003ctd\u003e${12+34+5+6+7-8+\\sqrt{9}}$\u003c/td\u003e\u003ctd\u003e\u0026nbsp;\u003c/td\u003e\u003c/tr\u003e\n",
              "\u003ctr\u003e\u003ctd style\u003d\"text-align:right;\"\u003e60\u003c/td\u003e\u003ctd\u003e\u0026nbsp;\u003c/td\u003e\u003ctd\u003e${20 \\cdot 1\\sqrt{9}}$\u003c/td\u003e\u003ctd\u003e${44+4 \\cdot 4}$\u003c/td\u003e\u003ctd\u003e${\\frac{12+34+56+78}{\\sqrt{9}}}$\u003c/td\u003e\u003ctd\u003e\u0026nbsp;\u003c/td\u003e\u003c/tr\u003e\n",
              "\u003ctr\u003e\u003ctd style\u003d\"text-align:right;\"\u003e61\u003c/td\u003e\u003ctd\u003e${81-20}$\u003c/td\u003e\u003ctd\u003e${20\\sqrt{9}+1}$\u003c/td\u003e\u003ctd\u003e\u0026nbsp;\u003c/td\u003e\u003ctd\u003e${\\frac{12+3+456+78}{9}}$\u003c/td\u003e\u003ctd\u003e\u0026nbsp;\u003c/td\u003e\u003c/tr\u003e\n",
              "\u003ctr\u003e\u003ctd style\u003d\"text-align:right;\"\u003e62\u003c/td\u003e\u003ctd\u003e\u0026nbsp;\u003c/td\u003e\u003ctd\u003e\u0026nbsp;\u003c/td\u003e\u003ctd\u003e\u0026nbsp;\u003c/td\u003e\u003ctd\u003e${\\frac{1+23+456+78}{9}}$\u003c/td\u003e\u003ctd\u003e\u0026nbsp;\u003c/td\u003e\u003c/tr\u003e\n",
              "\u003ctr\u003e\u003ctd style\u003d\"text-align:right;\"\u003e63\u003c/td\u003e\u003ctd\u003e\u0026nbsp;\u003c/td\u003e\u003ctd\u003e${\\left(20+1\\right)\\sqrt{9}}$\u003c/td\u003e\u003ctd\u003e\u0026nbsp;\u003c/td\u003e\u003ctd\u003e${\\frac{123+45+6+7+8}{\\sqrt{9}}}$\u003c/td\u003e\u003ctd\u003e\u0026nbsp;\u003c/td\u003e\u003c/tr\u003e\n",
              "\u003ctr\u003e\u003ctd style\u003d\"text-align:right;\"\u003e64\u003c/td\u003e\u003ctd\u003e${\\left(10-2\\right)8}$\u003c/td\u003e\u003ctd\u003e\u0026nbsp;\u003c/td\u003e\u003ctd\u003e\u0026nbsp;\u003c/td\u003e\u003ctd\u003e${1+23+45+67+8\\left(-9\\right)}$\u003c/td\u003e\u003ctd\u003e\u0026nbsp;\u003c/td\u003e\u003c/tr\u003e\n",
              "\u003ctr\u003e\u003ctd style\u003d\"text-align:right;\"\u003e65\u003c/td\u003e\u003ctd\u003e\u0026nbsp;\u003c/td\u003e\u003ctd\u003e\u0026nbsp;\u003c/td\u003e\u003ctd\u003e\u0026nbsp;\u003c/td\u003e\u003ctd\u003e${1+23+4+5+6+\\frac{78}{\\sqrt{9}}}$\u003c/td\u003e\u003ctd\u003e\u0026nbsp;\u003c/td\u003e\u003c/tr\u003e\n",
              "\u003ctr\u003e\u003ctd style\u003d\"text-align:right;\"\u003e66\u003c/td\u003e\u003ctd\u003e\u0026nbsp;\u003c/td\u003e\u003ctd\u003e\u0026nbsp;\u003c/td\u003e\u003ctd\u003e\u0026nbsp;\u003c/td\u003e\u003ctd\u003e${\\frac{123+456+7+8}{9}}$\u003c/td\u003e\u003ctd\u003e\u0026nbsp;\u003c/td\u003e\u003c/tr\u003e\n",
              "\u003ctr\u003e\u003ctd style\u003d\"text-align:right;\"\u003e67\u003c/td\u003e\u003ctd\u003e\u0026nbsp;\u003c/td\u003e\u003ctd\u003e${\\frac{201}{\\sqrt{9}}}$\u003c/td\u003e\u003ctd\u003e\u0026nbsp;\u003c/td\u003e\u003ctd\u003e${\\frac{1+23+4+567+8}{9}}$\u003c/td\u003e\u003ctd\u003e\u0026nbsp;\u003c/td\u003e\u003c/tr\u003e\n",
              "\u003ctr\u003e\u003ctd style\u003d\"text-align:right;\"\u003e68\u003c/td\u003e\u003ctd\u003e${80-12}$\u003c/td\u003e\u003ctd\u003e\u0026nbsp;\u003c/td\u003e\u003ctd\u003e\u0026nbsp;\u003c/td\u003e\u003ctd\u003e${\\frac{1+2+34+567+8}{9}}$\u003c/td\u003e\u003ctd\u003e\u0026nbsp;\u003c/td\u003e\u003c/tr\u003e\n",
              "\u003ctr\u003e\u003ctd style\u003d\"text-align:right;\"\u003e69\u003c/td\u003e\u003ctd\u003e\u0026nbsp;\u003c/td\u003e\u003ctd\u003e${90-21}$\u003c/td\u003e\u003ctd\u003e\u0026nbsp;\u003c/td\u003e\u003ctd\u003e${\\frac{12+34+567+8}{9}}$\u003c/td\u003e\u003ctd\u003e\u0026nbsp;\u003c/td\u003e\u003c/tr\u003e\n",
              "\u003ctr\u003e\u003ctd style\u003d\"text-align:right;\"\u003e70\u003c/td\u003e\u003ctd\u003e\u0026nbsp;\u003c/td\u003e\u003ctd\u003e${\\frac{210}{\\sqrt{9}}}$\u003c/td\u003e\u003ctd\u003e\u0026nbsp;\u003c/td\u003e\u003ctd\u003e${1+23+4+5+6+7+8\\sqrt{9}}$\u003c/td\u003e\u003ctd\u003e\u0026nbsp;\u003c/td\u003e\u003c/tr\u003e\n",
              "\u003ctr\u003e\u003ctd style\u003d\"text-align:right;\"\u003e71\u003c/td\u003e\u003ctd\u003e\u0026nbsp;\u003c/td\u003e\u003ctd\u003e${91-20}$\u003c/td\u003e\u003ctd\u003e\u0026nbsp;\u003c/td\u003e\u003ctd\u003e${\\frac{1+234+56-78}{\\sqrt{9}}}$\u003c/td\u003e\u003ctd\u003e\u0026nbsp;\u003c/td\u003e\u003c/tr\u003e\n",
              "\u003ctr\u003e\u003ctd style\u003d\"text-align:right;\"\u003e72\u003c/td\u003e\u003ctd\u003e${82-10}$\u003c/td\u003e\u003ctd\u003e${\\left(10-2\\right)9}$\u003c/td\u003e\u003ctd\u003e\u0026nbsp;\u003c/td\u003e\u003ctd\u003e${\\left(12+34+56-78\\right)\\sqrt{9}}$\u003c/td\u003e\u003ctd\u003e${9 \\cdot 9-9}$\u003c/td\u003e\u003c/tr\u003e\n",
              "\u003ctr\u003e\u003ctd style\u003d\"text-align:right;\"\u003e73\u003c/td\u003e\u003ctd\u003e\u0026nbsp;\u003c/td\u003e\u003ctd\u003e\u0026nbsp;\u003c/td\u003e\u003ctd\u003e\u0026nbsp;\u003c/td\u003e\u003ctd\u003e${\\frac{123+456+78}{9}}$\u003c/td\u003e\u003ctd\u003e\u0026nbsp;\u003c/td\u003e\u003c/tr\u003e\n",
              "\u003ctr\u003e\u003ctd style\u003d\"text-align:right;\"\u003e74\u003c/td\u003e\u003ctd\u003e\u0026nbsp;\u003c/td\u003e\u003ctd\u003e\u0026nbsp;\u003c/td\u003e\u003ctd\u003e\u0026nbsp;\u003c/td\u003e\u003ctd\u003e${1+2+34+5+6+\\frac{78}{\\sqrt{9}}}$\u003c/td\u003e\u003ctd\u003e\u0026nbsp;\u003c/td\u003e\u003c/tr\u003e\n",
              "\u003ctr\u003e\u003ctd style\u003d\"text-align:right;\"\u003e75\u003c/td\u003e\u003ctd\u003e\u0026nbsp;\u003c/td\u003e\u003ctd\u003e\u0026nbsp;\u003c/td\u003e\u003ctd\u003e\u0026nbsp;\u003c/td\u003e\u003ctd\u003e${12+34+5+6+7+8+\\sqrt{9}}$\u003c/td\u003e\u003ctd\u003e\u0026nbsp;\u003c/td\u003e\u003c/tr\u003e\n",
              "\u003ctr\u003e\u003ctd style\u003d\"text-align:right;\"\u003e76\u003c/td\u003e\u003ctd\u003e\u0026nbsp;\u003c/td\u003e\u003ctd\u003e\u0026nbsp;\u003c/td\u003e\u003ctd\u003e\u0026nbsp;\u003c/td\u003e\u003ctd\u003e\u0026nbsp;\u003c/td\u003e\u003ctd\u003e\u0026nbsp;\u003c/td\u003e\u003c/tr\u003e\n",
              "\u003ctr\u003e\u003ctd style\u003d\"text-align:right;\"\u003e77\u003c/td\u003e\u003ctd\u003e${80-2-1}$\u003c/td\u003e\u003ctd\u003e\u0026nbsp;\u003c/td\u003e\u003ctd\u003e\u0026nbsp;\u003c/td\u003e\u003ctd\u003e${\\frac{1+2+3+4+5+678}{9}}$\u003c/td\u003e\u003ctd\u003e\u0026nbsp;\u003c/td\u003e\u003c/tr\u003e\n",
              "\u003ctr\u003e\u003ctd style\u003d\"text-align:right;\"\u003e78\u003c/td\u003e\u003ctd\u003e${10 \\cdot 8-2}$\u003c/td\u003e\u003ctd\u003e${90-12}$\u003c/td\u003e\u003ctd\u003e\u0026nbsp;\u003c/td\u003e\u003ctd\u003e${\\frac{123+4+567+8}{9}}$\u003c/td\u003e\u003ctd\u003e${9 \\cdot 9-\\sqrt{9}}$\u003c/td\u003e\u003c/tr\u003e\n",
              "\u003ctr\u003e\u003ctd style\u003d\"text-align:right;\"\u003e79\u003c/td\u003e\u003ctd\u003e${0+81-2}$\u003c/td\u003e\u003ctd\u003e\u0026nbsp;\u003c/td\u003e\u003ctd\u003e\u0026nbsp;\u003c/td\u003e\u003ctd\u003e${\\frac{1+23+4+5+678}{9}}$\u003c/td\u003e\u003ctd\u003e\u0026nbsp;\u003c/td\u003e\u003c/tr\u003e\n",
              "\u003ctr\u003e\u003ctd style\u003d\"text-align:right;\"\u003e80\u003c/td\u003e\u003ctd\u003e\u0026nbsp;\u003c/td\u003e\u003ctd\u003e\u0026nbsp;\u003c/td\u003e\u003ctd\u003e${\\left(44-4\\right)\\sqrt{4}}$\u003c/td\u003e\u003ctd\u003e${\\frac{1+2+34+5+678}{9}}$\u003c/td\u003e\u003ctd\u003e\u0026nbsp;\u003c/td\u003e\u003c/tr\u003e\n",
              "\u003ctr\u003e\u003ctd style\u003d\"text-align:right;\"\u003e81\u003c/td\u003e\u003ctd\u003e${2+80-1}$\u003c/td\u003e\u003ctd\u003e\u0026nbsp;\u003c/td\u003e\u003ctd\u003e\u0026nbsp;\u003c/td\u003e\u003ctd\u003e${\\frac{12+34+5+678}{9}}$\u003c/td\u003e\u003ctd\u003e${9\\sqrt{9}\\sqrt{9}}$\u003c/td\u003e\u003c/tr\u003e\n",
              "\u003ctr\u003e\u003ctd style\u003d\"text-align:right;\"\u003e82\u003c/td\u003e\u003ctd\u003e${2+10 \\cdot 8}$\u003c/td\u003e\u003ctd\u003e${92-10}$\u003c/td\u003e\u003ctd\u003e\u0026nbsp;\u003c/td\u003e\u003ctd\u003e${\\frac{12+3+45+678}{9}}$\u003c/td\u003e\u003ctd\u003e\u0026nbsp;\u003c/td\u003e\u003c/tr\u003e\n",
              "\u003ctr\u003e\u003ctd style\u003d\"text-align:right;\"\u003e83\u003c/td\u003e\u003ctd\u003e${2+0+81}$\u003c/td\u003e\u003ctd\u003e\u0026nbsp;\u003c/td\u003e\u003ctd\u003e\u0026nbsp;\u003c/td\u003e\u003ctd\u003e${\\frac{1+23+45+678}{9}}$\u003c/td\u003e\u003ctd\u003e\u0026nbsp;\u003c/td\u003e\u003c/tr\u003e\n",
              "\u003ctr\u003e\u003ctd style\u003d\"text-align:right;\"\u003e84\u003c/td\u003e\u003ctd\u003e\u0026nbsp;\u003c/td\u003e\u003ctd\u003e\u0026nbsp;\u003c/td\u003e\u003ctd\u003e${\\left(44-\\sqrt{4}\\right)\\sqrt{4}}$\u003c/td\u003e\u003ctd\u003e${\\frac{123+45+6+78}{\\sqrt{9}}}$\u003c/td\u003e\u003ctd\u003e${9 \\cdot 9+\\sqrt{9}}$\u003c/td\u003e\u003c/tr\u003e\n",
              "\u003ctr\u003e\u003ctd style\u003d\"text-align:right;\"\u003e85\u003c/td\u003e\u003ctd\u003e\u0026nbsp;\u003c/td\u003e\u003ctd\u003e\u0026nbsp;\u003c/td\u003e\u003ctd\u003e\u0026nbsp;\u003c/td\u003e\u003ctd\u003e${123+4+5+6+7\\left(-8\\right)+\\sqrt{9}}$\u003c/td\u003e\u003ctd\u003e\u0026nbsp;\u003c/td\u003e\u003c/tr\u003e\n",
              "\u003ctr\u003e\u003ctd style\u003d\"text-align:right;\"\u003e86\u003c/td\u003e\u003ctd\u003e\u0026nbsp;\u003c/td\u003e\u003ctd\u003e\u0026nbsp;\u003c/td\u003e\u003ctd\u003e${44\\sqrt{4}-\\sqrt{4}}$\u003c/td\u003e\u003ctd\u003e${1+23+4+56+7-8+\\sqrt{9}}$\u003c/td\u003e\u003ctd\u003e\u0026nbsp;\u003c/td\u003e\u003c/tr\u003e\n",
              "\u003ctr\u003e\u003ctd style\u003d\"text-align:right;\"\u003e87\u003c/td\u003e\u003ctd\u003e\u0026nbsp;\u003c/td\u003e\u003ctd\u003e${90-2-1}$\u003c/td\u003e\u003ctd\u003e\u0026nbsp;\u003c/td\u003e\u003ctd\u003e${\\frac{123+4+56+78}{\\sqrt{9}}}$\u003c/td\u003e\u003ctd\u003e\u0026nbsp;\u003c/td\u003e\u003c/tr\u003e\n",
              "\u003ctr\u003e\u003ctd style\u003d\"text-align:right;\"\u003e88\u003c/td\u003e\u003ctd\u003e\u0026nbsp;\u003c/td\u003e\u003ctd\u003e${10 \\cdot 9-2}$\u003c/td\u003e\u003ctd\u003e${44+44}$\u003c/td\u003e\u003ctd\u003e${12+34+5+6+7+8\\sqrt{9}}$\u003c/td\u003e\u003ctd\u003e\u0026nbsp;\u003c/td\u003e\u003c/tr\u003e\n",
              "\u003ctr\u003e\u003ctd style\u003d\"text-align:right;\"\u003e89\u003c/td\u003e\u003ctd\u003e\u0026nbsp;\u003c/td\u003e\u003ctd\u003e${0+91-2}$\u003c/td\u003e\u003ctd\u003e\u0026nbsp;\u003c/td\u003e\u003ctd\u003e${\\left(1+2+34+56+7-8\\right)-\\sqrt{9}}$\u003c/td\u003e\u003ctd\u003e\u0026nbsp;\u003c/td\u003e\u003c/tr\u003e\n",
              "\u003ctr\u003e\u003ctd style\u003d\"text-align:right;\"\u003e90\u003c/td\u003e\u003ctd\u003e${\\frac{180}{2}}$\u003c/td\u003e\u003ctd\u003e\u0026nbsp;\u003c/td\u003e\u003ctd\u003e${44\\sqrt{4}+\\sqrt{4}}$\u003c/td\u003e\u003ctd\u003e${\\frac{1+234+567+8}{9}}$\u003c/td\u003e\u003ctd\u003e${99-9}$\u003c/td\u003e\u003c/tr\u003e\n",
              "\u003ctr\u003e\u003ctd style\u003d\"text-align:right;\"\u003e91\u003c/td\u003e\u003ctd\u003e\u0026nbsp;\u003c/td\u003e\u003ctd\u003e${2+90-1}$\u003c/td\u003e\u003ctd\u003e\u0026nbsp;\u003c/td\u003e\u003ctd\u003e${123+4+5+6+7\\left(-8\\right)+9}$\u003c/td\u003e\u003ctd\u003e\u0026nbsp;\u003c/td\u003e\u003c/tr\u003e\n",
              "\u003ctr\u003e\u003ctd style\u003d\"text-align:right;\"\u003e92\u003c/td\u003e\u003ctd\u003e${12+80}$\u003c/td\u003e\u003ctd\u003e${2+10 \\cdot 9}$\u003c/td\u003e\u003ctd\u003e${4+44\\sqrt{4}}$\u003c/td\u003e\u003ctd\u003e${123+45+6+7-89}$\u003c/td\u003e\u003ctd\u003e\u0026nbsp;\u003c/td\u003e\u003c/tr\u003e\n",
              "\u003ctr\u003e\u003ctd style\u003d\"text-align:right;\"\u003e93\u003c/td\u003e\u003ctd\u003e\u0026nbsp;\u003c/td\u003e\u003ctd\u003e${102-9}$\u003c/td\u003e\u003ctd\u003e\u0026nbsp;\u003c/td\u003e\u003ctd\u003e${\\left(123+45+6-78\\right)-\\sqrt{9}}$\u003c/td\u003e\u003ctd\u003e\u0026nbsp;\u003c/td\u003e\u003c/tr\u003e\n",
              "\u003ctr\u003e\u003ctd style\u003d\"text-align:right;\"\u003e94\u003c/td\u003e\u003ctd\u003e${102-8}$\u003c/td\u003e\u003ctd\u003e\u0026nbsp;\u003c/td\u003e\u003ctd\u003e\u0026nbsp;\u003c/td\u003e\u003ctd\u003e${\\frac{123+45+678}{9}}$\u003c/td\u003e\u003ctd\u003e\u0026nbsp;\u003c/td\u003e\u003c/tr\u003e\n",
              "\u003ctr\u003e\u003ctd style\u003d\"text-align:right;\"\u003e95\u003c/td\u003e\u003ctd\u003e\u0026nbsp;\u003c/td\u003e\u003ctd\u003e${\\frac{190}{2}}$\u003c/td\u003e\u003ctd\u003e\u0026nbsp;\u003c/td\u003e\u003ctd\u003e${\\frac{12+345+6-78}{\\sqrt{9}}}$\u003c/td\u003e\u003ctd\u003e\u0026nbsp;\u003c/td\u003e\u003c/tr\u003e\n",
              "\u003ctr\u003e\u003ctd style\u003d\"text-align:right;\"\u003e96\u003c/td\u003e\u003ctd\u003e${\\left(2+10\\right)8}$\u003c/td\u003e\u003ctd\u003e\u0026nbsp;\u003c/td\u003e\u003ctd\u003e${\\left(4+44\\right)\\sqrt{4}}$\u003c/td\u003e\u003ctd\u003e${\\left(123+4+56-78\\right)-9}$\u003c/td\u003e\u003ctd\u003e${99-\\sqrt{9}}$\u003c/td\u003e\u003c/tr\u003e\n",
              "\u003ctr\u003e\u003ctd style\u003d\"text-align:right;\"\u003e97\u003c/td\u003e\u003ctd\u003e\u0026nbsp;\u003c/td\u003e\u003ctd\u003e\u0026nbsp;\u003c/td\u003e\u003ctd\u003e\u0026nbsp;\u003c/td\u003e\u003ctd\u003e${12+3+45+6+7+8\\sqrt{9}}$\u003c/td\u003e\u003ctd\u003e\u0026nbsp;\u003c/td\u003e\u003c/tr\u003e\n",
              "\u003ctr\u003e\u003ctd style\u003d\"text-align:right;\"\u003e98\u003c/td\u003e\u003ctd\u003e\u0026nbsp;\u003c/td\u003e\u003ctd\u003e\u0026nbsp;\u003c/td\u003e\u003ctd\u003e\u0026nbsp;\u003c/td\u003e\u003ctd\u003e${\\left(12+34+56+7-8\\right)-\\sqrt{9}}$\u003c/td\u003e\u003ctd\u003e\u0026nbsp;\u003c/td\u003e\u003c/tr\u003e\n",
              "\u003ctr\u003e\u003ctd style\u003d\"text-align:right;\"\u003e99\u003c/td\u003e\u003ctd\u003e\u0026nbsp;\u003c/td\u003e\u003ctd\u003e${102-\\sqrt{9}}$\u003c/td\u003e\u003ctd\u003e\u0026nbsp;\u003c/td\u003e\u003ctd\u003e${123+45+6-78+\\sqrt{9}}$\u003c/td\u003e\u003ctd\u003e\u0026nbsp;\u003c/td\u003e\u003c/tr\u003e\n",
              "\u003ctr\u003e\u003ctd style\u003d\"text-align:right;\"\u003e100\u003c/td\u003e\u003ctd\u003e\u0026nbsp;\u003c/td\u003e\u003ctd\u003e\u0026nbsp;\u003c/td\u003e\u003ctd\u003e\u0026nbsp;\u003c/td\u003e\u003ctd\u003e${1+2+3+4+5+6+7+8 \\cdot 9}$\u003c/td\u003e\u003ctd\u003e\u0026nbsp;\u003c/td\u003e\u003c/tr\u003e\n",
              "\u003c/table\u003e\n"
            ],
            "text/plain": [
              "Table(len\u003d101,titles\u003d[\u0027n\u0027, 2018, 2019, 4444, 123456789, 999],data\u003d[[0, 218*0, 219*0, 44-44, 1+23+45+6-78+sqrt(9), (9-9)*9], [1, 28*0+1, 20-19, (4+4-4)/4, -(1+23+45+6-78)/sqrt(9), 9/sqrt(9)/sqrt(9)], [2, 20-18, 2+19*0, (4+4-4)-sqrt(4), 1+23+4+56+7-89, (9+9)/9], [3, -(10/2-8), 2+10-9, (4+4+4)/4, (1+23+4+56-78)-sqrt(9), (9+sqrt(9))-9], [4, 2+10-8, (2+10)/sqrt(9), (4+4-sqrt(4))-sqrt(4), -(12+3+45+6-78)/sqrt(9), (9+sqrt(9))/sqrt(9)]])"
            ]
          },
          "execution_count": 8,
          "metadata": {},
          "output_type": "execute_result"
        }
      ],
      "source": [
        "t"
      ]
    },
    {
      "cell_type": "code",
      "execution_count": 9,
      "metadata": {
        "pycharm": {}
      },
      "outputs": [],
      "source": [
        "from friedman import Monadic, context\n",
        "functions\u003dcontext.functions"
      ]
    },
    {
      "cell_type": "code",
      "execution_count": 10,
      "metadata": {
        "pycharm": {}
      },
      "outputs": [
        {
          "name": "stdout",
          "output_type": "stream",
          "text": [
            "SortedKeysView(SortedDict({\u0027acos\u0027: (\u003cbuilt-in function acos\u003e, 9999, None, None, \u0027\\\\arccos\u0027), \u0027acosh\u0027: (\u003cbuilt-in function acosh\u003e, 9999, None, None, \u0027\\\\cosh^{-1}\u0027), \u0027asin\u0027: (\u003cbuilt-in function asin\u003e, 9999, None, None, \u0027\\\\arcsin\u0027), \u0027asinh\u0027: (\u003cbuilt-in function asinh\u003e, 9999, None, None, \u0027\\\\sinh^{-1}\u0027), \u0027atan\u0027: (\u003cbuilt-in function atan\u003e, 9999, None, None, \u0027\\\\arctan\u0027), \u0027atan2\u0027: (\u003cbuilt-in function atan2\u003e, 9999, None, None, None), \u0027atanh\u0027: (\u003cbuilt-in function atanh\u003e, 9999, None, None, \u0027\\\\tanh^{-1}\u0027), \u0027copysign\u0027: (\u003cbuilt-in function copysign\u003e, 9999, None, None, None), \u0027cos\u0027: (\u003cbuilt-in function cos\u003e, 9999, None, None, None), \u0027cosh\u0027: (\u003cbuilt-in function cosh\u003e, 9999, None, None, None), \u0027exp\u0027: (\u003cbuilt-in function exp\u003e, 9999, None, None, \u0027e^{%s}\u0027), \u0027factorial\u0027: (\u003cbuilt-in function factorial\u003e, 9999, \u0027%s!\u0027, \u0027fact\u0027, \u0027%s!\u0027), \u0027factorial2\u0027: (\u003cfunction factorial2 at 0x000002584F1D67B8\u003e, 9999, \u0027%s!\u0027, \u0027fact\u0027, \u0027%s!!\u0027), \u0027fmod\u0027: (\u003cbuilt-in function fmod\u003e, 9999, None, None, None), \u0027gamma\u0027: (\u003cbuilt-in function gamma\u003e, 9999, None, None, \u0027\\\\Gamma\u0027), \u0027gcd\u0027: (\u003cbuilt-in function gcd\u003e, 9999, None, None, None), \u0027hypot\u0027: (\u003cbuilt-in function hypot\u003e, 9999, None, None, None), \u0027isclose\u0027: (\u003cbuilt-in function isclose\u003e, 9999, None, None, None), \u0027ldexp\u0027: (\u003cbuilt-in function ldexp\u003e, 9999, None, None, None), \u0027log\u0027: (\u003cbuilt-in function log\u003e, 9999, None, None, \u0027\\\\ln\u0027), \u0027log10\u0027: (\u003cbuilt-in function log10\u003e, 9999, None, None, \u0027\\\\log_{10}\u0027), \u0027log2\u0027: (\u003cbuilt-in function log2\u003e, 9999, None, None, \u0027\\\\log_2\u0027), \u0027modf\u0027: (\u003cbuilt-in function modf\u003e, 9999, None, None, None), \u0027pow\u0027: (\u003cbuilt-in function pow\u003e, 9999, None, None, None), \u0027remainder\u0027: (\u003cbuilt-in function remainder\u003e, 9999, None, None, None), \u0027sin\u0027: (\u003cbuilt-in function sin\u003e, 9999, None, None, None), \u0027sinh\u0027: (\u003cbuilt-in function sinh\u003e, 9999, None, None, None), \u0027sqrt\u0027: (\u003cfunction sqrt at 0x000002584F1C70D0\u003e, 9999, None, None, \u0027\\\\sqrt{%s}\u0027), \u0027tan\u0027: (\u003cbuilt-in function tan\u003e, 9999, None, None, None), \u0027tanh\u0027: (\u003cbuilt-in function tanh\u003e, 9999, None, None, None)}))\n"
          ]
        }
      ],
      "source": [
        "print(functions.keys()) #list allowed functions"
      ]
    },
    {
      "cell_type": "code",
      "execution_count": 11,
      "metadata": {
        "pycharm": {}
      },
      "outputs": [
        {
          "data": {
            "text/html": [
              "0 \u003d ${\\arccos\\left(1\\right)}$"
            ],
            "text/plain": [
              "\u003cIPython.core.display.HTML object\u003e"
            ]
          },
          "metadata": {},
          "output_type": "display_data"
        },
        {
          "data": {
            "text/html": [
              "0.3010299956639812 \u003d ${\\log_{10}\\left(2\\right)}$"
            ],
            "text/plain": [
              "\u003cIPython.core.display.HTML object\u003e"
            ]
          },
          "metadata": {},
          "output_type": "display_data"
        },
        {
          "data": {
            "text/html": [
              "0.4161468365471424 \u003d ${-\\cos\\left(2\\right)}$"
            ],
            "text/plain": [
              "\u003cIPython.core.display.HTML object\u003e"
            ]
          },
          "metadata": {},
          "output_type": "display_data"
        },
        {
          "data": {
            "text/html": [
              "0.5403023058681398 \u003d ${\\cos\\left(1\\right)}$"
            ],
            "text/plain": [
              "\u003cIPython.core.display.HTML object\u003e"
            ]
          },
          "metadata": {},
          "output_type": "display_data"
        },
        {
          "data": {
            "text/html": [
              "0.6931471805599453 \u003d ${\\ln\\left(2\\right)}$"
            ],
            "text/plain": [
              "\u003cIPython.core.display.HTML object\u003e"
            ]
          },
          "metadata": {},
          "output_type": "display_data"
        },
        {
          "data": {
            "text/html": [
              "0.7615941559557649 \u003d ${\\tanh\\left(1\\right)}$"
            ],
            "text/plain": [
              "\u003cIPython.core.display.HTML object\u003e"
            ]
          },
          "metadata": {},
          "output_type": "display_data"
        },
        {
          "data": {
            "text/html": [
              "0.7853981633974483 \u003d ${\\arctan\\left(1\\right)}$"
            ],
            "text/plain": [
              "\u003cIPython.core.display.HTML object\u003e"
            ]
          },
          "metadata": {},
          "output_type": "display_data"
        },
        {
          "data": {
            "text/html": [
              "0.8414709848078965 \u003d ${\\sin\\left(1\\right)}$"
            ],
            "text/plain": [
              "\u003cIPython.core.display.HTML object\u003e"
            ]
          },
          "metadata": {},
          "output_type": "display_data"
        },
        {
          "data": {
            "text/html": [
              "0.8813735870195429 \u003d ${\\sinh^{-1}\\left(1\\right)}$"
            ],
            "text/plain": [
              "\u003cIPython.core.display.HTML object\u003e"
            ]
          },
          "metadata": {},
          "output_type": "display_data"
        },
        {
          "data": {
            "text/html": [
              "0.9092974268256817 \u003d ${\\sin\\left(2\\right)}$"
            ],
            "text/plain": [
              "\u003cIPython.core.display.HTML object\u003e"
            ]
          },
          "metadata": {},
          "output_type": "display_data"
        },
        {
          "data": {
            "text/html": [
              "0.9640275800758169 \u003d ${\\tanh\\left(2\\right)}$"
            ],
            "text/plain": [
              "\u003cIPython.core.display.HTML object\u003e"
            ]
          },
          "metadata": {},
          "output_type": "display_data"
        },
        {
          "data": {
            "text/html": [
              "1 \u003d ${\\Gamma\\left(2\\right)}$"
            ],
            "text/plain": [
              "\u003cIPython.core.display.HTML object\u003e"
            ]
          },
          "metadata": {},
          "output_type": "display_data"
        },
        {
          "data": {
            "text/html": [
              "1.1071487177940904 \u003d ${\\arctan\\left(2\\right)}$"
            ],
            "text/plain": [
              "\u003cIPython.core.display.HTML object\u003e"
            ]
          },
          "metadata": {},
          "output_type": "display_data"
        },
        {
          "data": {
            "text/html": [
              "1.1752011936438014 \u003d ${\\sinh\\left(1\\right)}$"
            ],
            "text/plain": [
              "\u003cIPython.core.display.HTML object\u003e"
            ]
          },
          "metadata": {},
          "output_type": "display_data"
        },
        {
          "data": {
            "text/html": [
              "1.3169578969248166 \u003d ${\\cosh^{-1}\\left(2\\right)}$"
            ],
            "text/plain": [
              "\u003cIPython.core.display.HTML object\u003e"
            ]
          },
          "metadata": {},
          "output_type": "display_data"
        },
        {
          "data": {
            "text/html": [
              "1.4142135623730951 \u003d ${\\sqrt{2}}$"
            ],
            "text/plain": [
              "\u003cIPython.core.display.HTML object\u003e"
            ]
          },
          "metadata": {},
          "output_type": "display_data"
        },
        {
          "data": {
            "text/html": [
              "1.4436354751788103 \u003d ${\\sinh^{-1}\\left(2\\right)}$"
            ],
            "text/plain": [
              "\u003cIPython.core.display.HTML object\u003e"
            ]
          },
          "metadata": {},
          "output_type": "display_data"
        },
        {
          "data": {
            "text/html": [
              "1.5430806348152437 \u003d ${\\cosh\\left(1\\right)}$"
            ],
            "text/plain": [
              "\u003cIPython.core.display.HTML object\u003e"
            ]
          },
          "metadata": {},
          "output_type": "display_data"
        },
        {
          "data": {
            "text/html": [
              "1.5574077246549023 \u003d ${\\tan\\left(1\\right)}$"
            ],
            "text/plain": [
              "\u003cIPython.core.display.HTML object\u003e"
            ]
          },
          "metadata": {},
          "output_type": "display_data"
        },
        {
          "data": {
            "text/html": [
              "1.5707963267948966 \u003d ${\\arcsin\\left(1\\right)}$"
            ],
            "text/plain": [
              "\u003cIPython.core.display.HTML object\u003e"
            ]
          },
          "metadata": {},
          "output_type": "display_data"
        },
        {
          "data": {
            "text/html": [
              "2 \u003d ${2}$"
            ],
            "text/plain": [
              "\u003cIPython.core.display.HTML object\u003e"
            ]
          },
          "metadata": {},
          "output_type": "display_data"
        },
        {
          "data": {
            "text/html": [
              "2.185039863261519 \u003d ${-\\tan\\left(2\\right)}$"
            ],
            "text/plain": [
              "\u003cIPython.core.display.HTML object\u003e"
            ]
          },
          "metadata": {},
          "output_type": "display_data"
        },
        {
          "data": {
            "text/html": [
              "2.718281828459045 \u003d ${e^{1}}$"
            ],
            "text/plain": [
              "\u003cIPython.core.display.HTML object\u003e"
            ]
          },
          "metadata": {},
          "output_type": "display_data"
        },
        {
          "data": {
            "text/html": [
              "3.6268604078470186 \u003d ${\\sinh\\left(2\\right)}$"
            ],
            "text/plain": [
              "\u003cIPython.core.display.HTML object\u003e"
            ]
          },
          "metadata": {},
          "output_type": "display_data"
        },
        {
          "data": {
            "text/html": [
              "3.7621956910836314 \u003d ${\\cosh\\left(2\\right)}$"
            ],
            "text/plain": [
              "\u003cIPython.core.display.HTML object\u003e"
            ]
          },
          "metadata": {},
          "output_type": "display_data"
        },
        {
          "data": {
            "text/html": [
              "7.38905609893065 \u003d ${e^{2}}$"
            ],
            "text/plain": [
              "\u003cIPython.core.display.HTML object\u003e"
            ]
          },
          "metadata": {},
          "output_type": "display_data"
        }
      ],
      "source": [
        "m\u003dMonadic(0,functions)+Monadic(1,functions)+Monadic(2,functions)\n",
        "for x in m.items():\n",
        "    h(x[0],\u0027\u003d\u0027,x[1])"
      ]
    }
  ],
  "metadata": {
    "kernelspec": {
      "display_name": "Python 3",
      "language": "python",
      "name": "python3"
    },
    "language_info": {
      "codemirror_mode": {
        "name": "ipython",
        "version": 3
      },
      "file_extension": ".py",
      "mimetype": "text/x-python",
      "name": "python",
      "nbconvert_exporter": "python",
      "pygments_lexer": "ipython3",
      "version": "3.6.5"
    }
  },
  "nbformat": 4,
  "nbformat_minor": 2
}