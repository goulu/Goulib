{
 "cells": [
  {
   "cell_type": "code",
   "execution_count": 1,
   "metadata": {
    "collapsed": true,
    "scrolled": false
   },
   "outputs": [],
   "source": [
    "from math import *\n",
    "\n",
    "from Goulib.notebook import *\n",
    "from Goulib.table import Table\n",
    "from friedman import *"
   ]
  },
  {
   "cell_type": "code",
   "execution_count": 2,
   "metadata": {},
   "outputs": [
    {
     "name": "stdout",
     "output_type": "stream",
     "text": [
      "SortedDict_keys(['acos', 'acosh', 'asin', 'asinh', 'atan', 'atanh', 'cos', 'cosh', 'exp', 'factorial', 'factorial2', 'gamma', 'log10', 'log2', 'modf', 'sin', 'sinh', 'sqrt', 'tan', 'tanh'])\n"
     ]
    }
   ],
   "source": [
    "print(functions.keys())"
   ]
  },
  {
   "cell_type": "code",
   "execution_count": 3,
   "metadata": {
    "scrolled": false
   },
   "outputs": [
    {
     "name": "stderr",
     "output_type": "stream",
     "text": [
      "WARNING:root:19 has no solution\n",
      "WARNING:root:17 has no solution\n",
      "WARNING:root:58 has no solution\n",
      "WARNING:root:5 has no solution\n"
     ]
    },
    {
     "data": {
      "text/html": [
       "<table><thead>\n",
       "<tr><th>n</th><th>2018</th><th>4444</th><th>123456789</th><th>999</th></tr>\n",
       "</thead>\n",
       "<tr><td style=\"text-align:right;\">0</td><td>$\\left(-218\\right)\\left(-0\\right)$</td><td>$4+4-4-4$</td><td>$12+3+4+56-78+\\sqrt{9}$</td><td>$\\left(9-9\\right)\\left(-9\\right)$</td></tr>\n",
       "<tr><td style=\"text-align:right;\">1</td><td>$-\\frac{2-10}{8}$</td><td>$-\\frac{4+4-4}{-4}$</td><td>$-\\frac{1+23+45+6-78}{\\sqrt{9}}$</td><td>$\\frac{\\frac{9}{\\sqrt{9}}}{\\sqrt{9}}$</td></tr>\n",
       "<tr><td style=\"text-align:right;\">2</td><td>$-\\left(2+8 \\cdot 0\\right)\\left(-1\\right)$</td><td>$4+4-\\sqrt{4}-4$</td><td>$-\\left(12+34+5+6+7\\left(-8\\right)-\\sqrt{9}\\right)$</td><td>$\\frac{9}{-9}+\\sqrt{9}$</td></tr>\n",
       "<tr><td style=\"text-align:right;\">3</td><td>$-\\left(0+1+\\frac{8}{-2}\\right)$</td><td>$-\\frac{4+4+4}{-4}$</td><td>$-\\left(12+3+45+6-78+9\\right)$</td><td>$-\\frac{9}{-9}\\sqrt{9}$</td></tr>\n",
       "<tr><td style=\"text-align:right;\">4</td><td>$-\\left(0-12+8\\right)$</td><td>$4+\\frac{4}{\\sqrt{4}}-\\sqrt{4}$</td><td>$-\\frac{12+3+45+6-78}{\\sqrt{9}}$</td><td>$-\\left(\\frac{9}{-9}-\\sqrt{9}\\right)$</td></tr>\n",
       "<tr><td style=\"text-align:right;\">5</td><td>$-\\left(2+1+0-8\\right)$</td><td>$-\\frac{4+4 \\cdot 4}{-4}$</td><td>$-\\frac{12+3+4+5+6+7+8}{-9}$</td><td>&nbsp;</td></tr>\n",
       "<tr><td style=\"text-align:right;\">6</td><td>$-\\left(2+1 \\cdot 0-8\\right)$</td><td>$-\\frac{4+4\\left(-4\\right)}{\\sqrt{4}}$</td><td>$-\\left(1+23+45+6-78-\\sqrt{9}\\right)$</td><td>$-\\left(\\frac{9}{\\sqrt{9}}-9\\right)$</td></tr>\n",
       "<tr><td style=\"text-align:right;\">7</td><td>$-\\left(0+2-1-8\\right)$</td><td>$-\\left(\\frac{44}{-4}+4\\right)$</td><td>$-\\frac{12+34+5+6-78}{\\sqrt{9}}$</td><td>&nbsp;</td></tr>\n",
       "<tr><td style=\"text-align:right;\">8</td><td>$-\\left(21 \\cdot 0-8\\right)$</td><td>$-\\left(4+4\\left(-4\\right)+4\\right)$</td><td>$-\\frac{12+34+5+6+7+8}{-9}$</td><td>$-\\left(\\frac{9}{9}-9\\right)$</td></tr>\n",
       "<tr><td style=\"text-align:right;\">9</td><td>$-\\left(0+1-2-8\\right)$</td><td>$-\\left(\\frac{44}{-4}+\\sqrt{4}\\right)$</td><td>$-\\left(1+23+45+6-78\\right)\\sqrt{9}$</td><td>$-\\left(9-9-9\\right)$</td></tr>\n",
       "<tr><td style=\"text-align:right;\">10</td><td>$-\\left(2+8+0\\right)\\left(-1\\right)$</td><td>$-\\left(4+4\\left(-4\\right)+\\sqrt{4}\\right)$</td><td>$-\\frac{1+23+45+6+7+8}{-9}$</td><td>$-\\left(\\frac{9}{-9}-9\\right)$</td></tr>\n",
       "<tr><td style=\"text-align:right;\">11</td><td>$-\\left(1-20+8\\right)$</td><td>$\\frac{\\frac{44}{\\sqrt{4}}}{\\sqrt{4}}$</td><td>$-\\frac{12+3+4+5+67+8}{-9}$</td><td>$-\\frac{99}{-9}$</td></tr>\n",
       "<tr><td style=\"text-align:right;\">12</td><td>$-\\left(10\\left(-2\\right)+8\\right)$</td><td>$-\\frac{4+44}{-4}$</td><td>$-\\left(1+23+45+6-78-9\\right)$</td><td>$\\frac{9}{\\sqrt{9}}+9$</td></tr>\n",
       "<tr><td style=\"text-align:right;\">13</td><td>$-\\left(0-21+8\\right)$</td><td>$-\\left(\\frac{44}{-4}-\\sqrt{4}\\right)$</td><td>$-\\frac{12+34+56+7+8}{-9}$</td><td>&nbsp;</td></tr>\n",
       "<tr><td style=\"text-align:right;\">14</td><td>$-2\\left(0+1-8\\right)$</td><td>$-\\left(4+4\\left(-4\\right)-\\sqrt{4}\\right)$</td><td>$-\\frac{12+34+5+67+8}{-9}$</td><td>&nbsp;</td></tr>\n",
       "<tr><td style=\"text-align:right;\">15</td><td>$-\\left(0+8\\left(-2\\right)+1\\right)$</td><td>$-\\left(\\frac{44}{-4}-4\\right)$</td><td>$-\\left(12+3+45+6-78-\\sqrt{9}\\right)$</td><td>$9-\\sqrt{9}+9$</td></tr>\n",
       "<tr><td style=\"text-align:right;\">16</td><td>$-\\left(0+1 \\cdot 8\\right)\\left(-2\\right)$</td><td>$-\\left(4+4-4\\right)\\left(-4\\right)$</td><td>$-\\frac{1+23+45+67+8}{-9}$</td><td>&nbsp;</td></tr>\n",
       "<tr><td style=\"text-align:right;\">17</td><td>$-\\left(0+8\\left(-2\\right)-1\\right)$</td><td>&nbsp;</td><td>$-\\frac{1+23+45+6+78}{-9}$</td><td>&nbsp;</td></tr>\n",
       "<tr><td style=\"text-align:right;\">18</td><td>$-\\left(0+1+8\\right)\\left(-2\\right)$</td><td>$\\frac{44}{\\sqrt{4}}-4$</td><td>$-\\left(12+34+5+6-78+\\sqrt{9}\\right)$</td><td>$9\\sqrt{9}-9$</td></tr>\n",
       "<tr><td style=\"text-align:right;\">19</td><td>&nbsp;</td><td>&nbsp;</td><td>$12+3+45+6+7\\left(-8\\right)+9$</td><td>&nbsp;</td></tr>\n",
       "<tr><td style=\"text-align:right;\">20</td><td>$-\\left(0-12-8\\right)$</td><td>$-\\frac{4-44}{\\sqrt{4}}$</td><td>$-\\frac{12+34+56+78}{-9}$</td><td>&nbsp;</td></tr>\n",
       "<tr><td style=\"text-align:right;\">21</td><td>$21+0\\left(-8\\right)$</td><td>$\\frac{44-\\sqrt{4}}{\\sqrt{4}}$</td><td>$-\\left(12+3+45+6-78-9\\right)$</td><td>$9+\\sqrt{9}+9$</td></tr>\n",
       "<tr><td style=\"text-align:right;\">22</td><td>&nbsp;</td><td>$-\\frac{44\\sqrt{4}}{-4}$</td><td>$-\\frac{123+4+56+7+8}{-9}$</td><td>&nbsp;</td></tr>\n",
       "<tr><td style=\"text-align:right;\">23</td><td>&nbsp;</td><td>$\\frac{44+\\sqrt{4}}{\\sqrt{4}}$</td><td>$-\\left(12+3+4+5+6+7\\left(-8\\right)+\\sqrt{9}\\right)$</td><td>&nbsp;</td></tr>\n",
       "<tr><td style=\"text-align:right;\">24</td><td>$-\\left(2+0+1\\right)\\left(-8\\right)$</td><td>$-\\left(4+4-\\sqrt{4}\\right)\\left(-4\\right)$</td><td>$-\\left(12+34+5+6-78-\\sqrt{9}\\right)$</td><td>$9\\sqrt{9}-\\sqrt{9}$</td></tr>\n",
       "<tr><td style=\"text-align:right;\">25</td><td>&nbsp;</td><td>&nbsp;</td><td>$-\\left(1+2+3+45+6+7-89\\right)$</td><td>&nbsp;</td></tr>\n",
       "<tr><td style=\"text-align:right;\">26</td><td>$10+2 \\cdot 8$</td><td>$\\frac{44}{\\sqrt{4}}+4$</td><td>$12+3+4+5+6+7-8-\\sqrt{9}$</td><td>&nbsp;</td></tr>\n",
       "<tr><td style=\"text-align:right;\">27</td><td>$-\\left(0-28+1\\right)$</td><td>&nbsp;</td><td>$-9\\left(12+3+4+56-78\\right)$</td><td>$-\\frac{9\\left(-9\\right)}{\\sqrt{9}}$</td></tr>\n",
       "<tr><td style=\"text-align:right;\">28</td><td>$-\\left(20\\left(-1\\right)-8\\right)$</td><td>$44+4\\left(-4\\right)$</td><td>$-\\frac{123+45+6+78}{-9}$</td><td>&nbsp;</td></tr>\n",
       "<tr><td style=\"text-align:right;\">29</td><td>$-\\left(0-21-8\\right)$</td><td>&nbsp;</td><td>$-\\frac{1+234+5+6+7+8}{-9}$</td><td>&nbsp;</td></tr>\n",
       "<tr><td style=\"text-align:right;\">30</td><td>&nbsp;</td><td>&nbsp;</td><td>$-\\left(12+34+5+6-78-9\\right)$</td><td>$9\\sqrt{9}+\\sqrt{9}$</td></tr>\n",
       "<tr><td style=\"text-align:right;\">31</td><td>&nbsp;</td><td>&nbsp;</td><td>$1+23+4+56+7\\left(-8\\right)+\\sqrt{9}$</td><td>&nbsp;</td></tr>\n",
       "<tr><td style=\"text-align:right;\">32</td><td>&nbsp;</td><td>&nbsp;</td><td>$\\frac{123+45+6-78}{\\sqrt{9}}$</td><td>&nbsp;</td></tr>\n",
       "<tr><td style=\"text-align:right;\">33</td><td>&nbsp;</td><td>&nbsp;</td><td>$12+34+56-78+9$</td><td>$-\\frac{-99}{\\sqrt{9}}$</td></tr>\n",
       "<tr><td style=\"text-align:right;\">34</td><td>&nbsp;</td><td>&nbsp;</td><td>$-\\frac{1+234+56+7+8}{-9}$</td><td>&nbsp;</td></tr>\n",
       "<tr><td style=\"text-align:right;\">35</td><td>&nbsp;</td><td>&nbsp;</td><td>$-\\frac{1+234+5+67+8}{-9}$</td><td>&nbsp;</td></tr>\n",
       "<tr><td style=\"text-align:right;\">36</td><td>$-\\left(0+18\\left(-2\\right)\\right)$</td><td>$-\\left(4+4-44\\right)$</td><td>$-\\frac{1+234+5+6+78}{-9}$</td><td>$9\\sqrt{9}+9$</td></tr>\n",
       "<tr><td style=\"text-align:right;\">37</td><td>&nbsp;</td><td>&nbsp;</td><td>$12+34+56+7\\left(-8\\right)-9$</td><td>&nbsp;</td></tr>\n",
       "<tr><td style=\"text-align:right;\">38</td><td>$20+18$</td><td>$-\\left(4-44+\\sqrt{4}\\right)$</td><td>$12+3+4+5+6+7-8+9$</td><td>&nbsp;</td></tr>\n",
       "<tr><td style=\"text-align:right;\">39</td><td>$-\\left(1+\\frac{80}{-2}\\right)$</td><td>&nbsp;</td><td>$-\\left(12+3+4+5+6-78+9\\right)$</td><td>&nbsp;</td></tr>\n",
       "<tr><td style=\"text-align:right;\">40</td><td>$-\\frac{10}{2}\\left(-8\\right)$</td><td>$-\\left(4+4+\\sqrt{4}\\right)\\left(-4\\right)$</td><td>$1+2+34+56+7\\left(-8\\right)+\\sqrt{9}$</td><td>&nbsp;</td></tr>\n",
       "<tr><td style=\"text-align:right;\">41</td><td>$-\\left(\\frac{80}{-2}-1\\right)$</td><td>&nbsp;</td><td>$-\\frac{1+234+56+78}{-9}$</td><td>&nbsp;</td></tr>\n",
       "<tr><td style=\"text-align:right;\">42</td><td>&nbsp;</td><td>$-\\left(4-44-\\sqrt{4}\\right)$</td><td>$-\\frac{12+345+6+7+8}{-9}$</td><td>&nbsp;</td></tr>\n",
       "<tr><td style=\"text-align:right;\">43</td><td>&nbsp;</td><td>$44+\\frac{4}{-4}$</td><td>$12+34+56+7\\left(-8\\right)-\\sqrt{9}$</td><td>&nbsp;</td></tr>\n",
       "<tr><td style=\"text-align:right;\">44</td><td>&nbsp;</td><td>$-\\left(4-44-4\\right)$</td><td>$-\\left(1+2+3+4+5+6+7+8\\left(-9\\right)\\right)$</td><td>&nbsp;</td></tr>\n",
       "<tr><td style=\"text-align:right;\">45</td><td>&nbsp;</td><td>$44+\\frac{4}{4}$</td><td>$-\\left(12+3+4+5+6-78+\\sqrt{9}\\right)$</td><td>&nbsp;</td></tr>\n",
       "<tr><td style=\"text-align:right;\">46</td><td>&nbsp;</td><td>$44-\\sqrt{4}+4$</td><td>$12+34+5+67+8\\left(-9\\right)$</td><td>&nbsp;</td></tr>\n",
       "<tr><td style=\"text-align:right;\">47</td><td>&nbsp;</td><td>&nbsp;</td><td>$12+34+5+6+7-8-9$</td><td>&nbsp;</td></tr>\n",
       "<tr><td style=\"text-align:right;\">48</td><td>&nbsp;</td><td>$-\\left(4+4+4\\right)\\left(-4\\right)$</td><td>$-\\frac{12+345+67+8}{-9}$</td><td>&nbsp;</td></tr>\n",
       "<tr><td style=\"text-align:right;\">49</td><td>&nbsp;</td><td>&nbsp;</td><td>$-\\frac{12+345+6+78}{-9}$</td><td>&nbsp;</td></tr>\n",
       "<tr><td style=\"text-align:right;\">50</td><td>&nbsp;</td><td>$44+\\sqrt{4}+4$</td><td>$1+2+34+5+6+7-8+\\sqrt{9}$</td><td>&nbsp;</td></tr>\n",
       "<tr><td style=\"text-align:right;\">51</td><td>&nbsp;</td><td>&nbsp;</td><td>$123+4+5+6-78-9$</td><td>&nbsp;</td></tr>\n",
       "<tr><td style=\"text-align:right;\">52</td><td>&nbsp;</td><td>$44+4+4$</td><td>$-\\left(12+3+4+5+6+7-89\\right)$</td><td>&nbsp;</td></tr>\n",
       "<tr><td style=\"text-align:right;\">53</td><td>&nbsp;</td><td>&nbsp;</td><td>$-\\frac{1+2+3+456+7+8}{-9}$</td><td>&nbsp;</td></tr>\n",
       "<tr><td style=\"text-align:right;\">54</td><td>$-\\frac{108}{-2}$</td><td>&nbsp;</td><td>$-\\left(1+2+3+4+5+6-78+\\sqrt{9}\\right)$</td><td>$-\\left(9-\\sqrt{9}\\right)\\left(-9\\right)$</td></tr>\n",
       "<tr><td style=\"text-align:right;\">55</td><td>&nbsp;</td><td>&nbsp;</td><td>$12+34+56+7\\left(-8\\right)+9$</td><td>&nbsp;</td></tr>\n",
       "<tr><td style=\"text-align:right;\">56</td><td>&nbsp;</td><td>&nbsp;</td><td>$123+4+5+6+7-89$</td><td>&nbsp;</td></tr>\n",
       "<tr><td style=\"text-align:right;\">57</td><td>&nbsp;</td><td>&nbsp;</td><td>$123+4+5+6-78-\\sqrt{9}$</td><td>&nbsp;</td></tr>\n",
       "<tr><td style=\"text-align:right;\">58</td><td>&nbsp;</td><td>&nbsp;</td><td>&nbsp;</td><td>&nbsp;</td></tr>\n",
       "<tr><td style=\"text-align:right;\">59</td><td>$-\\left(21-80\\right)$</td><td>&nbsp;</td><td>$12+34+5+6+7-8+\\sqrt{9}$</td><td>&nbsp;</td></tr>\n",
       "<tr><td style=\"text-align:right;\">60</td><td>&nbsp;</td><td>$44+4 \\cdot 4$</td><td>$-\\left(1+2+3+4+5+6-78-\\sqrt{9}\\right)$</td><td>&nbsp;</td></tr>\n",
       "<tr><td style=\"text-align:right;\">61</td><td>$-\\left(20-81\\right)$</td><td>&nbsp;</td><td>$-\\left(1+2+3+4+5+6+7-89\\right)$</td><td>&nbsp;</td></tr>\n",
       "<tr><td style=\"text-align:right;\">62</td><td>&nbsp;</td><td>&nbsp;</td><td>$-\\frac{1+23+456+78}{-9}$</td><td>&nbsp;</td></tr>\n",
       "<tr><td style=\"text-align:right;\">63</td><td>&nbsp;</td><td>&nbsp;</td><td>$-\\left(1+2+3+45+6-78\\right)\\sqrt{9}$</td><td>&nbsp;</td></tr>\n",
       "<tr><td style=\"text-align:right;\">64</td><td>$-8\\left(2-10\\right)$</td><td>&nbsp;</td><td>$1+23+45+67+8\\left(-9\\right)$</td><td>&nbsp;</td></tr>\n",
       "<tr><td style=\"text-align:right;\">65</td><td>&nbsp;</td><td>&nbsp;</td><td>$-\\frac{1+2+3+4+567+8}{-9}$</td><td>&nbsp;</td></tr>\n",
       "<tr><td style=\"text-align:right;\">66</td><td>&nbsp;</td><td>&nbsp;</td><td>$-\\left(1+2+3+4+5+6-78-9\\right)$</td><td>&nbsp;</td></tr>\n",
       "<tr><td style=\"text-align:right;\">67</td><td>&nbsp;</td><td>&nbsp;</td><td>$-\\frac{1+23+4+567+8}{-9}$</td><td>&nbsp;</td></tr>\n",
       "<tr><td style=\"text-align:right;\">68</td><td>$-\\left(12-80\\right)$</td><td>&nbsp;</td><td>$-\\frac{1+2+34+567+8}{-9}$</td><td>&nbsp;</td></tr>\n",
       "<tr><td style=\"text-align:right;\">69</td><td>&nbsp;</td><td>&nbsp;</td><td>$-\\frac{12+34+567+8}{-9}$</td><td>&nbsp;</td></tr>\n",
       "<tr><td style=\"text-align:right;\">70</td><td>&nbsp;</td><td>&nbsp;</td><td>$1+23+4+5+6+7+8\\sqrt{9}$</td><td>&nbsp;</td></tr>\n",
       "<tr><td style=\"text-align:right;\">71</td><td>&nbsp;</td><td>&nbsp;</td><td>$\\frac{1+234+56-78}{\\sqrt{9}}$</td><td>&nbsp;</td></tr>\n",
       "<tr><td style=\"text-align:right;\">72</td><td>$-\\left(10-82\\right)$</td><td>&nbsp;</td><td>$-9\\left(1+2+34+5+6+7\\left(-8\\right)\\right)$</td><td>$-\\left(9+9\\left(-9\\right)\\right)$</td></tr>\n",
       "<tr><td style=\"text-align:right;\">73</td><td>&nbsp;</td><td>&nbsp;</td><td>$-\\frac{123+456+78}{-9}$</td><td>&nbsp;</td></tr>\n",
       "<tr><td style=\"text-align:right;\">74</td><td>&nbsp;</td><td>&nbsp;</td><td>$1+23+4+56+7-8-9$</td><td>&nbsp;</td></tr>\n",
       "<tr><td style=\"text-align:right;\">75</td><td>&nbsp;</td><td>&nbsp;</td><td>$12+34+5+6+7+8+\\sqrt{9}$</td><td>&nbsp;</td></tr>\n",
       "<tr><td style=\"text-align:right;\">76</td><td>&nbsp;</td><td>&nbsp;</td><td>&nbsp;</td><td>&nbsp;</td></tr>\n",
       "<tr><td style=\"text-align:right;\">77</td><td>$-\\left(2+1-80\\right)$</td><td>&nbsp;</td><td>$-\\frac{1+2+3+4+5+678}{-9}$</td><td>&nbsp;</td></tr>\n",
       "<tr><td style=\"text-align:right;\">78</td><td>$-\\left(2+10\\left(-8\\right)\\right)$</td><td>&nbsp;</td><td>$-\\frac{12+3+4+5+678}{-9}$</td><td>$-\\left(9\\left(-9\\right)+\\sqrt{9}\\right)$</td></tr>\n",
       "<tr><td style=\"text-align:right;\">79</td><td>$-\\left(2+0-81\\right)$</td><td>&nbsp;</td><td>$-\\frac{1+23+4+5+678}{-9}$</td><td>&nbsp;</td></tr>\n",
       "<tr><td style=\"text-align:right;\">80</td><td>&nbsp;</td><td>$-\\left(4-44\\right)\\sqrt{4}$</td><td>$-\\frac{1+2+34+5+678}{-9}$</td><td>&nbsp;</td></tr>\n",
       "<tr><td style=\"text-align:right;\">81</td><td>$-\\left(0+1-82\\right)$</td><td>&nbsp;</td><td>$-\\frac{1+2+3+45+678}{-9}$</td><td>$9\\sqrt{9}\\sqrt{9}$</td></tr>\n",
       "<tr><td style=\"text-align:right;\">82</td><td>$-\\left(2+80\\right)\\left(-1\\right)$</td><td>&nbsp;</td><td>$-\\frac{12+3+45+678}{-9}$</td><td>&nbsp;</td></tr>\n",
       "<tr><td style=\"text-align:right;\">83</td><td>$-\\left(0-82-1\\right)$</td><td>&nbsp;</td><td>$-\\frac{1+23+45+678}{-9}$</td><td>&nbsp;</td></tr>\n",
       "<tr><td style=\"text-align:right;\">84</td><td>&nbsp;</td><td>$44\\sqrt{4}-4$</td><td>$\\frac{123+45+6+78}{\\sqrt{9}}$</td><td>$-\\left(9\\left(-9\\right)-\\sqrt{9}\\right)$</td></tr>\n",
       "<tr><td style=\"text-align:right;\">85</td><td>&nbsp;</td><td>&nbsp;</td><td>$123+4+5+6+7\\left(-8\\right)+\\sqrt{9}$</td><td>&nbsp;</td></tr>\n",
       "<tr><td style=\"text-align:right;\">86</td><td>&nbsp;</td><td>$44\\sqrt{4}-\\sqrt{4}$</td><td>$1+23+4+56+7-8+\\sqrt{9}$</td><td>&nbsp;</td></tr>\n",
       "<tr><td style=\"text-align:right;\">87</td><td>&nbsp;</td><td>&nbsp;</td><td>$123+45+6-78-9$</td><td>&nbsp;</td></tr>\n",
       "<tr><td style=\"text-align:right;\">88</td><td>&nbsp;</td><td>$-\\frac{44\\left(-4\\right)}{\\sqrt{4}}$</td><td>$12+34+5+6+7+8\\sqrt{9}$</td><td>&nbsp;</td></tr>\n",
       "<tr><td style=\"text-align:right;\">89</td><td>&nbsp;</td><td>&nbsp;</td><td>$1+2+34+56+7-8-\\sqrt{9}$</td><td>&nbsp;</td></tr>\n",
       "<tr><td style=\"text-align:right;\">90</td><td>$-\\frac{180}{-2}$</td><td>$44\\sqrt{4}+\\sqrt{4}$</td><td>$-\\left(1+2+3+4+56+7\\left(-8\\right)\\right)\\left(-9\\right)$</td><td>$-\\left(9-99\\right)$</td></tr>\n",
       "<tr><td style=\"text-align:right;\">91</td><td>&nbsp;</td><td>&nbsp;</td><td>$123+4+5+6+7\\left(-8\\right)+9$</td><td>&nbsp;</td></tr>\n",
       "<tr><td style=\"text-align:right;\">92</td><td>$12+80$</td><td>$44\\sqrt{4}+4$</td><td>$123+45+6+7-89$</td><td>&nbsp;</td></tr>\n",
       "<tr><td style=\"text-align:right;\">93</td><td>&nbsp;</td><td>&nbsp;</td><td>$123+45+6-78-\\sqrt{9}$</td><td>&nbsp;</td></tr>\n",
       "<tr><td style=\"text-align:right;\">94</td><td>$-\\left(-102+8\\right)$</td><td>&nbsp;</td><td>$-\\frac{123+45+678}{-9}$</td><td>&nbsp;</td></tr>\n",
       "<tr><td style=\"text-align:right;\">95</td><td>&nbsp;</td><td>&nbsp;</td><td>$\\frac{12+345+6-78}{\\sqrt{9}}$</td><td>&nbsp;</td></tr>\n",
       "<tr><td style=\"text-align:right;\">96</td><td>$-\\left(2+10\\right)\\left(-8\\right)$</td><td>$\\left(44+4\\right)\\sqrt{4}$</td><td>$123+4+56-78-9$</td><td>$-\\left(-99+\\sqrt{9}\\right)$</td></tr>\n",
       "<tr><td style=\"text-align:right;\">97</td><td>&nbsp;</td><td>&nbsp;</td><td>$12+3+45+6+7+8\\sqrt{9}$</td><td>&nbsp;</td></tr>\n",
       "<tr><td style=\"text-align:right;\">98</td><td>&nbsp;</td><td>&nbsp;</td><td>$12+34+56+7-8-\\sqrt{9}$</td><td>&nbsp;</td></tr>\n",
       "<tr><td style=\"text-align:right;\">99</td><td>&nbsp;</td><td>&nbsp;</td><td>$123+45+6-78+\\sqrt{9}$</td><td>&nbsp;</td></tr>\n",
       "<tr><td style=\"text-align:right;\">100</td><td>&nbsp;</td><td>&nbsp;</td><td>$1+2+3+4+5+6+7+8 \\cdot 9$</td><td>&nbsp;</td></tr>\n",
       "</table>\n"
      ],
      "text/plain": [
       "Table(len=101,titles=['n', '2018', '4444', '123456789', '999'],data=[[0, (-218)*(-0), 4+4-4-4, 12+3+4+56-78+sqrt(9), (9-9)*(-9)], [1, -(2-10)/8, -(4+4-4)/(-4), -(1+23+45+6-78)/sqrt(9), 9/sqrt(9)/sqrt(9)], [2, -(2+8*0)*(-1), 4+4-sqrt(4)-4, -(12+34+5+6+7*(-8)-sqrt(9)), 9/(-9)+sqrt(9)], [3, -(0+1+8/(-2)), -(4+4+4)/(-4), -(12+3+45+6-78+9), -9/(-9)*sqrt(9)], [4, -(0-12+8), 4+4/sqrt(4)-sqrt(4), -(12+3+45+6-78)/sqrt(9), -(9/(-9)-sqrt(9))]])"
      ]
     },
     "execution_count": 3,
     "metadata": {},
     "output_type": "execute_result"
    }
   ],
   "source": [
    "max=100\n",
    "titles=['n','2018','4444','123456789','999']\n",
    "t=Table([[n]+[None]*(len(titles)-1) for n in range(max+1)],titles=titles)\n",
    "def add(s,col):\n",
    "    for e in s:\n",
    "        n=int(e[0])\n",
    "        # h(e[0],'=',e[1])\n",
    "        if n<=max:\n",
    "            t.set(n,col,e[1])\n",
    "            \n",
    "add(seq(2018,'s-','+-*/_',True),1)\n",
    "add(seq(4444,'s-','+-*/_',False),2)\n",
    "add(seq(123456789,'s-','+-*/_',False),3)\n",
    "add(seq(999,'s-','+-*/_',False),4)\n",
    "t"
   ]
  },
  {
   "cell_type": "code",
   "execution_count": 10,
   "metadata": {
    "scrolled": false
   },
   "outputs": [
    {
     "data": {
      "text/html": [
       "0 = $\\arccos\\left(1\\right)$"
      ],
      "text/plain": [
       "<IPython.core.display.HTML object>"
      ]
     },
     "metadata": {},
     "output_type": "display_data"
    },
    {
     "data": {
      "text/html": [
       "0.3010299956639812 = $\\log_{10}\\left(2\\right)$"
      ],
      "text/plain": [
       "<IPython.core.display.HTML object>"
      ]
     },
     "metadata": {},
     "output_type": "display_data"
    },
    {
     "data": {
      "text/html": [
       "0.4161468365471424 = $-\\cos\\left(2\\right)$"
      ],
      "text/plain": [
       "<IPython.core.display.HTML object>"
      ]
     },
     "metadata": {},
     "output_type": "display_data"
    },
    {
     "data": {
      "text/html": [
       "0.5403023058681398 = $\\cos\\left(1\\right)$"
      ],
      "text/plain": [
       "<IPython.core.display.HTML object>"
      ]
     },
     "metadata": {},
     "output_type": "display_data"
    },
    {
     "data": {
      "text/html": [
       "0.7615941559557649 = $\\tanh\\left(1\\right)$"
      ],
      "text/plain": [
       "<IPython.core.display.HTML object>"
      ]
     },
     "metadata": {},
     "output_type": "display_data"
    },
    {
     "data": {
      "text/html": [
       "0.7853981633974483 = $\\arctan\\left(1\\right)$"
      ],
      "text/plain": [
       "<IPython.core.display.HTML object>"
      ]
     },
     "metadata": {},
     "output_type": "display_data"
    },
    {
     "data": {
      "text/html": [
       "0.8414709848078965 = $\\sin\\left(1\\right)$"
      ],
      "text/plain": [
       "<IPython.core.display.HTML object>"
      ]
     },
     "metadata": {},
     "output_type": "display_data"
    },
    {
     "data": {
      "text/html": [
       "0.8813735870195429 = $\\sinh^{-1}\\left(1\\right)$"
      ],
      "text/plain": [
       "<IPython.core.display.HTML object>"
      ]
     },
     "metadata": {},
     "output_type": "display_data"
    },
    {
     "data": {
      "text/html": [
       "0.9092974268256817 = $\\sin\\left(2\\right)$"
      ],
      "text/plain": [
       "<IPython.core.display.HTML object>"
      ]
     },
     "metadata": {},
     "output_type": "display_data"
    },
    {
     "data": {
      "text/html": [
       "0.9640275800758169 = $\\tanh\\left(2\\right)$"
      ],
      "text/plain": [
       "<IPython.core.display.HTML object>"
      ]
     },
     "metadata": {},
     "output_type": "display_data"
    },
    {
     "data": {
      "text/html": [
       "1 = $\\Gamma\\left(2\\right)$"
      ],
      "text/plain": [
       "<IPython.core.display.HTML object>"
      ]
     },
     "metadata": {},
     "output_type": "display_data"
    },
    {
     "data": {
      "text/html": [
       "1.1071487177940904 = $\\arctan\\left(2\\right)$"
      ],
      "text/plain": [
       "<IPython.core.display.HTML object>"
      ]
     },
     "metadata": {},
     "output_type": "display_data"
    },
    {
     "data": {
      "text/html": [
       "1.1752011936438014 = $\\sinh\\left(1\\right)$"
      ],
      "text/plain": [
       "<IPython.core.display.HTML object>"
      ]
     },
     "metadata": {},
     "output_type": "display_data"
    },
    {
     "data": {
      "text/html": [
       "1.3169578969248166 = $\\cosh^{-1}\\left(2\\right)$"
      ],
      "text/plain": [
       "<IPython.core.display.HTML object>"
      ]
     },
     "metadata": {},
     "output_type": "display_data"
    },
    {
     "data": {
      "text/html": [
       "1.4142135623730951 = $\\sqrt{2}$"
      ],
      "text/plain": [
       "<IPython.core.display.HTML object>"
      ]
     },
     "metadata": {},
     "output_type": "display_data"
    },
    {
     "data": {
      "text/html": [
       "1.4436354751788103 = $\\sinh^{-1}\\left(2\\right)$"
      ],
      "text/plain": [
       "<IPython.core.display.HTML object>"
      ]
     },
     "metadata": {},
     "output_type": "display_data"
    },
    {
     "data": {
      "text/html": [
       "1.5430806348152437 = $\\cosh\\left(1\\right)$"
      ],
      "text/plain": [
       "<IPython.core.display.HTML object>"
      ]
     },
     "metadata": {},
     "output_type": "display_data"
    },
    {
     "data": {
      "text/html": [
       "1.5574077246549023 = $\\tan\\left(1\\right)$"
      ],
      "text/plain": [
       "<IPython.core.display.HTML object>"
      ]
     },
     "metadata": {},
     "output_type": "display_data"
    },
    {
     "data": {
      "text/html": [
       "1.5707963267948966 = $\\arcsin\\left(1\\right)$"
      ],
      "text/plain": [
       "<IPython.core.display.HTML object>"
      ]
     },
     "metadata": {},
     "output_type": "display_data"
    },
    {
     "data": {
      "text/html": [
       "2 = $2$"
      ],
      "text/plain": [
       "<IPython.core.display.HTML object>"
      ]
     },
     "metadata": {},
     "output_type": "display_data"
    },
    {
     "data": {
      "text/html": [
       "2.185039863261519 = $-\\tan\\left(2\\right)$"
      ],
      "text/plain": [
       "<IPython.core.display.HTML object>"
      ]
     },
     "metadata": {},
     "output_type": "display_data"
    },
    {
     "data": {
      "text/html": [
       "2.718281828459045 = $e^{1}$"
      ],
      "text/plain": [
       "<IPython.core.display.HTML object>"
      ]
     },
     "metadata": {},
     "output_type": "display_data"
    },
    {
     "data": {
      "text/html": [
       "3.6268604078470186 = $\\sinh\\left(2\\right)$"
      ],
      "text/plain": [
       "<IPython.core.display.HTML object>"
      ]
     },
     "metadata": {},
     "output_type": "display_data"
    },
    {
     "data": {
      "text/html": [
       "3.7621956910836314 = $\\cosh\\left(2\\right)$"
      ],
      "text/plain": [
       "<IPython.core.display.HTML object>"
      ]
     },
     "metadata": {},
     "output_type": "display_data"
    },
    {
     "data": {
      "text/html": [
       "7.38905609893065 = $e^{2}$"
      ],
      "text/plain": [
       "<IPython.core.display.HTML object>"
      ]
     },
     "metadata": {},
     "output_type": "display_data"
    }
   ],
   "source": [
    "m=Monadic(0,functions)+Monadic(1,functions)+Monadic(2,functions)\n",
    "for x in m.items():\n",
    "    h(x[0],'=',x[1])"
   ]
  }
 ],
 "metadata": {
  "kernelspec": {
   "display_name": "Python 3",
   "language": "python",
   "name": "python3"
  },
  "language_info": {
   "codemirror_mode": {
    "name": "ipython",
    "version": 3
   },
   "file_extension": ".py",
   "mimetype": "text/x-python",
   "name": "python",
   "nbconvert_exporter": "python",
   "pygments_lexer": "ipython3",
   "version": "3.6.3"
  }
 },
 "nbformat": 4,
 "nbformat_minor": 2
}
