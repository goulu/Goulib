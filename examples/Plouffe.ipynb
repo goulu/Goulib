{
 "cells": [
  {
   "cell_type": "code",
   "execution_count": 1,
   "metadata": {
    "collapsed": true,
    "scrolled": false
   },
   "outputs": [],
   "source": [
    "from math import *\n",
    "\n",
    "from Goulib.notebook import *\n",
    "from Goulib.table import Table\n",
    "from friedman import *"
   ]
  },
  {
   "cell_type": "code",
   "execution_count": 7,
   "metadata": {
    "scrolled": false
   },
   "outputs": [
    {
     "name": "stderr",
     "output_type": "stream",
     "text": [
      "WARNING:root:19 has no solution\n",
      "WARNING:root:17 has no solution\n",
      "WARNING:root:58 has no solution\n",
      "WARNING:root:5 has no solution\n"
     ]
    },
    {
     "data": {
      "text/html": [
       "<table><thead>\n",
       "<tr><th>n</th><th>2018</th><th>4444</th><th>123456789</th><th>999</th></tr>\n",
       "</thead>\n",
       "<tr><td style=\"text-align:right;\">0</td><td>$\\left(-218\\right)\\left(-0\\right)$</td><td>$4+4-4-4$</td><td>$12+3+4+56-78+\\sqrt{9}$</td><td>$\\left(9-9\\right)\\left(-9\\right)$</td></tr>\n",
       "<tr><td style=\"text-align:right;\">1</td><td>$-\\frac{2-10}{8}$</td><td>$-\\frac{4+4-4}{-4}$</td><td>$-\\frac{1+23+45+6-78}{\\sqrt{9}}$</td><td>$\\frac{\\frac{9}{\\sqrt{9}}}{\\sqrt{9}}$</td></tr>\n",
       "<tr><td style=\"text-align:right;\">2</td><td>$-\\left(2+8 \\cdot 0\\right)\\left(-1\\right)$</td><td>$4+4-\\sqrt{4}-4$</td><td>$-\\left(12+34+5+6+7\\left(-8\\right)-\\sqrt{9}\\right)$</td><td>$\\frac{9}{-9}+\\sqrt{9}$</td></tr>\n",
       "<tr><td style=\"text-align:right;\">3</td><td>$-\\left(0+1+\\frac{8}{-2}\\right)$</td><td>$-\\frac{4+4+4}{-4}$</td><td>$-\\left(12+3+45+6-78+9\\right)$</td><td>$-\\frac{9}{-9}\\sqrt{9}$</td></tr>\n",
       "<tr><td style=\"text-align:right;\">4</td><td>$-\\left(0-12+8\\right)$</td><td>$4+\\frac{4}{\\sqrt{4}}-\\sqrt{4}$</td><td>$-\\frac{12+3+45+6-78}{\\sqrt{9}}$</td><td>$-\\left(\\frac{9}{-9}-\\sqrt{9}\\right)$</td></tr>\n",
       "<tr><td style=\"text-align:right;\">5</td><td>$-\\left(2+1+0-8\\right)$</td><td>$-\\frac{4+4 \\cdot 4}{-4}$</td><td>$-\\frac{12+3+4+5+6+7+8}{-9}$</td><td>&nbsp;</td></tr>\n",
       "<tr><td style=\"text-align:right;\">6</td><td>$-\\left(2+1 \\cdot 0-8\\right)$</td><td>$-\\frac{4+4\\left(-4\\right)}{\\sqrt{4}}$</td><td>$-\\left(1+23+45+6-78-\\sqrt{9}\\right)$</td><td>$-\\left(\\frac{9}{\\sqrt{9}}-9\\right)$</td></tr>\n",
       "<tr><td style=\"text-align:right;\">7</td><td>$-\\left(0+2-1-8\\right)$</td><td>$-\\left(\\frac{44}{-4}+4\\right)$</td><td>$-\\frac{12+34+5+6-78}{\\sqrt{9}}$</td><td>&nbsp;</td></tr>\n",
       "<tr><td style=\"text-align:right;\">8</td><td>$-\\left(21 \\cdot 0-8\\right)$</td><td>$-\\left(4+4\\left(-4\\right)+4\\right)$</td><td>$-\\frac{12+34+5+6+7+8}{-9}$</td><td>$-\\left(\\frac{9}{9}-9\\right)$</td></tr>\n",
       "<tr><td style=\"text-align:right;\">9</td><td>$-\\left(0+1-2-8\\right)$</td><td>$-\\left(\\frac{44}{-4}+\\sqrt{4}\\right)$</td><td>$-\\left(1+23+45+6-78\\right)\\sqrt{9}$</td><td>$-\\left(9-9-9\\right)$</td></tr>\n",
       "<tr><td style=\"text-align:right;\">10</td><td>$-\\left(2+8+0\\right)\\left(-1\\right)$</td><td>$-\\left(4+4\\left(-4\\right)+\\sqrt{4}\\right)$</td><td>$-\\frac{1+23+45+6+7+8}{-9}$</td><td>$-\\left(\\frac{9}{-9}-9\\right)$</td></tr>\n",
       "<tr><td style=\"text-align:right;\">11</td><td>$-\\left(1-20+8\\right)$</td><td>$\\frac{\\frac{44}{\\sqrt{4}}}{\\sqrt{4}}$</td><td>$-\\frac{12+3+4+5+67+8}{-9}$</td><td>$-\\frac{99}{-9}$</td></tr>\n",
       "<tr><td style=\"text-align:right;\">12</td><td>$-\\left(10\\left(-2\\right)+8\\right)$</td><td>$-\\frac{4+44}{-4}$</td><td>$-\\left(1+23+45+6-78-9\\right)$</td><td>$\\frac{9}{\\sqrt{9}}+9$</td></tr>\n",
       "<tr><td style=\"text-align:right;\">13</td><td>$-\\left(0-21+8\\right)$</td><td>$-\\left(\\frac{44}{-4}-\\sqrt{4}\\right)$</td><td>$-\\frac{12+34+56+7+8}{-9}$</td><td>&nbsp;</td></tr>\n",
       "<tr><td style=\"text-align:right;\">14</td><td>$-2\\left(0+1-8\\right)$</td><td>$-\\left(4+4\\left(-4\\right)-\\sqrt{4}\\right)$</td><td>$-\\frac{12+34+5+67+8}{-9}$</td><td>&nbsp;</td></tr>\n",
       "<tr><td style=\"text-align:right;\">15</td><td>$-\\left(0+8\\left(-2\\right)+1\\right)$</td><td>$-\\left(\\frac{44}{-4}-4\\right)$</td><td>$-\\left(12+3+45+6-78-\\sqrt{9}\\right)$</td><td>$9-\\sqrt{9}+9$</td></tr>\n",
       "<tr><td style=\"text-align:right;\">16</td><td>$-\\left(0+1 \\cdot 8\\right)\\left(-2\\right)$</td><td>$-\\left(4+4-4\\right)\\left(-4\\right)$</td><td>$-\\frac{1+23+45+67+8}{-9}$</td><td>&nbsp;</td></tr>\n",
       "<tr><td style=\"text-align:right;\">17</td><td>$-\\left(0+8\\left(-2\\right)-1\\right)$</td><td>&nbsp;</td><td>$-\\frac{1+23+45+6+78}{-9}$</td><td>&nbsp;</td></tr>\n",
       "<tr><td style=\"text-align:right;\">18</td><td>$-\\left(0+1+8\\right)\\left(-2\\right)$</td><td>$\\frac{44}{\\sqrt{4}}-4$</td><td>$-\\left(12+34+5+6-78+\\sqrt{9}\\right)$</td><td>$9\\sqrt{9}-9$</td></tr>\n",
       "<tr><td style=\"text-align:right;\">19</td><td>&nbsp;</td><td>&nbsp;</td><td>$12+3+45+6+7\\left(-8\\right)+9$</td><td>&nbsp;</td></tr>\n",
       "<tr><td style=\"text-align:right;\">20</td><td>$-\\left(0-12-8\\right)$</td><td>$-\\frac{4-44}{\\sqrt{4}}$</td><td>$-\\frac{12+34+56+78}{-9}$</td><td>&nbsp;</td></tr>\n",
       "<tr><td style=\"text-align:right;\">21</td><td>$21+0\\left(-8\\right)$</td><td>$\\frac{44-\\sqrt{4}}{\\sqrt{4}}$</td><td>$-\\left(12+3+45+6-78-9\\right)$</td><td>$9+\\sqrt{9}+9$</td></tr>\n",
       "<tr><td style=\"text-align:right;\">22</td><td>&nbsp;</td><td>$-\\frac{44\\sqrt{4}}{-4}$</td><td>$-\\frac{123+4+56+7+8}{-9}$</td><td>&nbsp;</td></tr>\n",
       "<tr><td style=\"text-align:right;\">23</td><td>&nbsp;</td><td>$\\frac{44+\\sqrt{4}}{\\sqrt{4}}$</td><td>$-\\left(12+3+4+5+6+7\\left(-8\\right)+\\sqrt{9}\\right)$</td><td>&nbsp;</td></tr>\n",
       "<tr><td style=\"text-align:right;\">24</td><td>$-\\left(2+0+1\\right)\\left(-8\\right)$</td><td>$-\\left(4+4-\\sqrt{4}\\right)\\left(-4\\right)$</td><td>$-\\left(12+34+5+6-78-\\sqrt{9}\\right)$</td><td>$9\\sqrt{9}-\\sqrt{9}$</td></tr>\n",
       "<tr><td style=\"text-align:right;\">25</td><td>&nbsp;</td><td>&nbsp;</td><td>$-\\left(1+2+3+45+6+7-89\\right)$</td><td>&nbsp;</td></tr>\n",
       "<tr><td style=\"text-align:right;\">26</td><td>$10+2 \\cdot 8$</td><td>$\\frac{44}{\\sqrt{4}}+4$</td><td>$12+3+4+5+6+7-8-\\sqrt{9}$</td><td>&nbsp;</td></tr>\n",
       "<tr><td style=\"text-align:right;\">27</td><td>$-\\left(0-28+1\\right)$</td><td>&nbsp;</td><td>$-9\\left(12+3+4+56-78\\right)$</td><td>$-\\frac{9\\left(-9\\right)}{\\sqrt{9}}$</td></tr>\n",
       "<tr><td style=\"text-align:right;\">28</td><td>$-\\left(20\\left(-1\\right)-8\\right)$</td><td>$44+4\\left(-4\\right)$</td><td>$-\\frac{123+45+6+78}{-9}$</td><td>&nbsp;</td></tr>\n",
       "<tr><td style=\"text-align:right;\">29</td><td>$-\\left(0-21-8\\right)$</td><td>&nbsp;</td><td>$-\\frac{1+234+5+6+7+8}{-9}$</td><td>&nbsp;</td></tr>\n",
       "<tr><td style=\"text-align:right;\">30</td><td>&nbsp;</td><td>&nbsp;</td><td>$-\\left(12+34+5+6-78-9\\right)$</td><td>$9\\sqrt{9}+\\sqrt{9}$</td></tr>\n",
       "<tr><td style=\"text-align:right;\">31</td><td>&nbsp;</td><td>&nbsp;</td><td>$1+23+4+56+7\\left(-8\\right)+\\sqrt{9}$</td><td>&nbsp;</td></tr>\n",
       "<tr><td style=\"text-align:right;\">32</td><td>&nbsp;</td><td>&nbsp;</td><td>$\\frac{123+45+6-78}{\\sqrt{9}}$</td><td>&nbsp;</td></tr>\n",
       "<tr><td style=\"text-align:right;\">33</td><td>&nbsp;</td><td>&nbsp;</td><td>$12+34+56-78+9$</td><td>$-\\frac{-99}{\\sqrt{9}}$</td></tr>\n",
       "<tr><td style=\"text-align:right;\">34</td><td>&nbsp;</td><td>&nbsp;</td><td>$-\\frac{1+234+56+7+8}{-9}$</td><td>&nbsp;</td></tr>\n",
       "<tr><td style=\"text-align:right;\">35</td><td>&nbsp;</td><td>&nbsp;</td><td>$-\\frac{1+234+5+67+8}{-9}$</td><td>&nbsp;</td></tr>\n",
       "<tr><td style=\"text-align:right;\">36</td><td>$-\\left(0+18\\left(-2\\right)\\right)$</td><td>$-\\left(4+4-44\\right)$</td><td>$-\\frac{1+234+5+6+78}{-9}$</td><td>$9\\sqrt{9}+9$</td></tr>\n",
       "<tr><td style=\"text-align:right;\">37</td><td>&nbsp;</td><td>&nbsp;</td><td>$12+34+56+7\\left(-8\\right)-9$</td><td>&nbsp;</td></tr>\n",
       "<tr><td style=\"text-align:right;\">38</td><td>$20+18$</td><td>$-\\left(4-44+\\sqrt{4}\\right)$</td><td>$12+3+4+5+6+7-8+9$</td><td>&nbsp;</td></tr>\n",
       "<tr><td style=\"text-align:right;\">39</td><td>$-\\left(1+\\frac{80}{-2}\\right)$</td><td>&nbsp;</td><td>$-\\left(12+3+4+5+6-78+9\\right)$</td><td>&nbsp;</td></tr>\n",
       "<tr><td style=\"text-align:right;\">40</td><td>$-\\frac{10}{2}\\left(-8\\right)$</td><td>$-\\left(4+4+\\sqrt{4}\\right)\\left(-4\\right)$</td><td>$1+2+34+56+7\\left(-8\\right)+\\sqrt{9}$</td><td>&nbsp;</td></tr>\n",
       "<tr><td style=\"text-align:right;\">41</td><td>$-\\left(\\frac{80}{-2}-1\\right)$</td><td>&nbsp;</td><td>$-\\frac{1+234+56+78}{-9}$</td><td>&nbsp;</td></tr>\n",
       "<tr><td style=\"text-align:right;\">42</td><td>&nbsp;</td><td>$-\\left(4-44-\\sqrt{4}\\right)$</td><td>$-\\frac{12+345+6+7+8}{-9}$</td><td>&nbsp;</td></tr>\n",
       "<tr><td style=\"text-align:right;\">43</td><td>&nbsp;</td><td>$44+\\frac{4}{-4}$</td><td>$12+34+56+7\\left(-8\\right)-\\sqrt{9}$</td><td>&nbsp;</td></tr>\n",
       "<tr><td style=\"text-align:right;\">44</td><td>&nbsp;</td><td>$-\\left(4-44-4\\right)$</td><td>$-\\left(1+2+3+4+5+6+7+8\\left(-9\\right)\\right)$</td><td>&nbsp;</td></tr>\n",
       "<tr><td style=\"text-align:right;\">45</td><td>&nbsp;</td><td>$44+\\frac{4}{4}$</td><td>$-\\left(12+3+4+5+6-78+\\sqrt{9}\\right)$</td><td>&nbsp;</td></tr>\n",
       "<tr><td style=\"text-align:right;\">46</td><td>&nbsp;</td><td>$44-\\sqrt{4}+4$</td><td>$12+34+5+67+8\\left(-9\\right)$</td><td>&nbsp;</td></tr>\n",
       "<tr><td style=\"text-align:right;\">47</td><td>&nbsp;</td><td>&nbsp;</td><td>$12+34+5+6+7-8-9$</td><td>&nbsp;</td></tr>\n",
       "<tr><td style=\"text-align:right;\">48</td><td>&nbsp;</td><td>$-\\left(4+4+4\\right)\\left(-4\\right)$</td><td>$-\\frac{12+345+67+8}{-9}$</td><td>&nbsp;</td></tr>\n",
       "<tr><td style=\"text-align:right;\">49</td><td>&nbsp;</td><td>&nbsp;</td><td>$-\\frac{12+345+6+78}{-9}$</td><td>&nbsp;</td></tr>\n",
       "<tr><td style=\"text-align:right;\">50</td><td>&nbsp;</td><td>$44+\\sqrt{4}+4$</td><td>$1+2+34+5+6+7-8+\\sqrt{9}$</td><td>&nbsp;</td></tr>\n",
       "<tr><td style=\"text-align:right;\">51</td><td>&nbsp;</td><td>&nbsp;</td><td>$123+4+5+6-78-9$</td><td>&nbsp;</td></tr>\n",
       "<tr><td style=\"text-align:right;\">52</td><td>&nbsp;</td><td>$44+4+4$</td><td>$-\\left(12+3+4+5+6+7-89\\right)$</td><td>&nbsp;</td></tr>\n",
       "<tr><td style=\"text-align:right;\">53</td><td>&nbsp;</td><td>&nbsp;</td><td>$-\\frac{1+2+3+456+7+8}{-9}$</td><td>&nbsp;</td></tr>\n",
       "<tr><td style=\"text-align:right;\">54</td><td>$-\\frac{108}{-2}$</td><td>&nbsp;</td><td>$-\\left(1+2+3+4+5+6-78+\\sqrt{9}\\right)$</td><td>$-\\left(9-\\sqrt{9}\\right)\\left(-9\\right)$</td></tr>\n",
       "<tr><td style=\"text-align:right;\">55</td><td>&nbsp;</td><td>&nbsp;</td><td>$12+34+56+7\\left(-8\\right)+9$</td><td>&nbsp;</td></tr>\n",
       "<tr><td style=\"text-align:right;\">56</td><td>&nbsp;</td><td>&nbsp;</td><td>$123+4+5+6+7-89$</td><td>&nbsp;</td></tr>\n",
       "<tr><td style=\"text-align:right;\">57</td><td>&nbsp;</td><td>&nbsp;</td><td>$123+4+5+6-78-\\sqrt{9}$</td><td>&nbsp;</td></tr>\n",
       "<tr><td style=\"text-align:right;\">58</td><td>&nbsp;</td><td>&nbsp;</td><td>&nbsp;</td><td>&nbsp;</td></tr>\n",
       "<tr><td style=\"text-align:right;\">59</td><td>$-\\left(21-80\\right)$</td><td>&nbsp;</td><td>$12+34+5+6+7-8+\\sqrt{9}$</td><td>&nbsp;</td></tr>\n",
       "<tr><td style=\"text-align:right;\">60</td><td>&nbsp;</td><td>$44+4 \\cdot 4$</td><td>$-\\left(1+2+3+4+5+6-78-\\sqrt{9}\\right)$</td><td>&nbsp;</td></tr>\n",
       "<tr><td style=\"text-align:right;\">61</td><td>$-\\left(20-81\\right)$</td><td>&nbsp;</td><td>$-\\left(1+2+3+4+5+6+7-89\\right)$</td><td>&nbsp;</td></tr>\n",
       "<tr><td style=\"text-align:right;\">62</td><td>&nbsp;</td><td>&nbsp;</td><td>$-\\frac{1+23+456+78}{-9}$</td><td>&nbsp;</td></tr>\n",
       "<tr><td style=\"text-align:right;\">63</td><td>&nbsp;</td><td>&nbsp;</td><td>$-\\left(1+2+3+45+6-78\\right)\\sqrt{9}$</td><td>&nbsp;</td></tr>\n",
       "<tr><td style=\"text-align:right;\">64</td><td>$-8\\left(2-10\\right)$</td><td>&nbsp;</td><td>$1+23+45+67+8\\left(-9\\right)$</td><td>&nbsp;</td></tr>\n",
       "<tr><td style=\"text-align:right;\">65</td><td>&nbsp;</td><td>&nbsp;</td><td>$-\\frac{1+2+3+4+567+8}{-9}$</td><td>&nbsp;</td></tr>\n",
       "<tr><td style=\"text-align:right;\">66</td><td>&nbsp;</td><td>&nbsp;</td><td>$-\\left(1+2+3+4+5+6-78-9\\right)$</td><td>&nbsp;</td></tr>\n",
       "<tr><td style=\"text-align:right;\">67</td><td>&nbsp;</td><td>&nbsp;</td><td>$-\\frac{1+23+4+567+8}{-9}$</td><td>&nbsp;</td></tr>\n",
       "<tr><td style=\"text-align:right;\">68</td><td>$-\\left(12-80\\right)$</td><td>&nbsp;</td><td>$-\\frac{1+2+34+567+8}{-9}$</td><td>&nbsp;</td></tr>\n",
       "<tr><td style=\"text-align:right;\">69</td><td>&nbsp;</td><td>&nbsp;</td><td>$-\\frac{12+34+567+8}{-9}$</td><td>&nbsp;</td></tr>\n",
       "<tr><td style=\"text-align:right;\">70</td><td>&nbsp;</td><td>&nbsp;</td><td>$1+23+4+5+6+7+8\\sqrt{9}$</td><td>&nbsp;</td></tr>\n",
       "<tr><td style=\"text-align:right;\">71</td><td>&nbsp;</td><td>&nbsp;</td><td>$\\frac{1+234+56-78}{\\sqrt{9}}$</td><td>&nbsp;</td></tr>\n",
       "<tr><td style=\"text-align:right;\">72</td><td>$-\\left(10-82\\right)$</td><td>&nbsp;</td><td>$-9\\left(1+2+34+5+6+7\\left(-8\\right)\\right)$</td><td>$-\\left(9+9\\left(-9\\right)\\right)$</td></tr>\n",
       "<tr><td style=\"text-align:right;\">73</td><td>&nbsp;</td><td>&nbsp;</td><td>$-\\frac{123+456+78}{-9}$</td><td>&nbsp;</td></tr>\n",
       "<tr><td style=\"text-align:right;\">74</td><td>&nbsp;</td><td>&nbsp;</td><td>$1+23+4+56+7-8-9$</td><td>&nbsp;</td></tr>\n",
       "<tr><td style=\"text-align:right;\">75</td><td>&nbsp;</td><td>&nbsp;</td><td>$12+34+5+6+7+8+\\sqrt{9}$</td><td>&nbsp;</td></tr>\n",
       "<tr><td style=\"text-align:right;\">76</td><td>&nbsp;</td><td>&nbsp;</td><td>&nbsp;</td><td>&nbsp;</td></tr>\n",
       "<tr><td style=\"text-align:right;\">77</td><td>$-\\left(2+1-80\\right)$</td><td>&nbsp;</td><td>$-\\frac{1+2+3+4+5+678}{-9}$</td><td>&nbsp;</td></tr>\n",
       "<tr><td style=\"text-align:right;\">78</td><td>$-\\left(2+10\\left(-8\\right)\\right)$</td><td>&nbsp;</td><td>$-\\frac{12+3+4+5+678}{-9}$</td><td>$-\\left(9\\left(-9\\right)+\\sqrt{9}\\right)$</td></tr>\n",
       "<tr><td style=\"text-align:right;\">79</td><td>$-\\left(2+0-81\\right)$</td><td>&nbsp;</td><td>$-\\frac{1+23+4+5+678}{-9}$</td><td>&nbsp;</td></tr>\n",
       "<tr><td style=\"text-align:right;\">80</td><td>&nbsp;</td><td>$-\\left(4-44\\right)\\sqrt{4}$</td><td>$-\\frac{1+2+34+5+678}{-9}$</td><td>&nbsp;</td></tr>\n",
       "<tr><td style=\"text-align:right;\">81</td><td>$-\\left(0+1-82\\right)$</td><td>&nbsp;</td><td>$-\\frac{1+2+3+45+678}{-9}$</td><td>$9\\sqrt{9}\\sqrt{9}$</td></tr>\n",
       "<tr><td style=\"text-align:right;\">82</td><td>$-\\left(2+80\\right)\\left(-1\\right)$</td><td>&nbsp;</td><td>$-\\frac{12+3+45+678}{-9}$</td><td>&nbsp;</td></tr>\n",
       "<tr><td style=\"text-align:right;\">83</td><td>$-\\left(0-82-1\\right)$</td><td>&nbsp;</td><td>$-\\frac{1+23+45+678}{-9}$</td><td>&nbsp;</td></tr>\n",
       "<tr><td style=\"text-align:right;\">84</td><td>&nbsp;</td><td>$44\\sqrt{4}-4$</td><td>$\\frac{123+45+6+78}{\\sqrt{9}}$</td><td>$-\\left(9\\left(-9\\right)-\\sqrt{9}\\right)$</td></tr>\n",
       "<tr><td style=\"text-align:right;\">85</td><td>&nbsp;</td><td>&nbsp;</td><td>$123+4+5+6+7\\left(-8\\right)+\\sqrt{9}$</td><td>&nbsp;</td></tr>\n",
       "<tr><td style=\"text-align:right;\">86</td><td>&nbsp;</td><td>$44\\sqrt{4}-\\sqrt{4}$</td><td>$1+23+4+56+7-8+\\sqrt{9}$</td><td>&nbsp;</td></tr>\n",
       "<tr><td style=\"text-align:right;\">87</td><td>&nbsp;</td><td>&nbsp;</td><td>$123+45+6-78-9$</td><td>&nbsp;</td></tr>\n",
       "<tr><td style=\"text-align:right;\">88</td><td>&nbsp;</td><td>$-\\frac{44\\left(-4\\right)}{\\sqrt{4}}$</td><td>$12+34+5+6+7+8\\sqrt{9}$</td><td>&nbsp;</td></tr>\n",
       "<tr><td style=\"text-align:right;\">89</td><td>&nbsp;</td><td>&nbsp;</td><td>$1+2+34+56+7-8-\\sqrt{9}$</td><td>&nbsp;</td></tr>\n",
       "<tr><td style=\"text-align:right;\">90</td><td>$-\\frac{180}{-2}$</td><td>$44\\sqrt{4}+\\sqrt{4}$</td><td>$-\\left(1+2+3+4+56+7\\left(-8\\right)\\right)\\left(-9\\right)$</td><td>$-\\left(9-99\\right)$</td></tr>\n",
       "<tr><td style=\"text-align:right;\">91</td><td>&nbsp;</td><td>&nbsp;</td><td>$123+4+5+6+7\\left(-8\\right)+9$</td><td>&nbsp;</td></tr>\n",
       "<tr><td style=\"text-align:right;\">92</td><td>$12+80$</td><td>$44\\sqrt{4}+4$</td><td>$123+45+6+7-89$</td><td>&nbsp;</td></tr>\n",
       "<tr><td style=\"text-align:right;\">93</td><td>&nbsp;</td><td>&nbsp;</td><td>$123+45+6-78-\\sqrt{9}$</td><td>&nbsp;</td></tr>\n",
       "<tr><td style=\"text-align:right;\">94</td><td>$-\\left(-102+8\\right)$</td><td>&nbsp;</td><td>$-\\frac{123+45+678}{-9}$</td><td>&nbsp;</td></tr>\n",
       "<tr><td style=\"text-align:right;\">95</td><td>&nbsp;</td><td>&nbsp;</td><td>$\\frac{12+345+6-78}{\\sqrt{9}}$</td><td>&nbsp;</td></tr>\n",
       "<tr><td style=\"text-align:right;\">96</td><td>$-\\left(2+10\\right)\\left(-8\\right)$</td><td>$\\left(44+4\\right)\\sqrt{4}$</td><td>$123+4+56-78-9$</td><td>$-\\left(-99+\\sqrt{9}\\right)$</td></tr>\n",
       "<tr><td style=\"text-align:right;\">97</td><td>&nbsp;</td><td>&nbsp;</td><td>$12+3+45+6+7+8\\sqrt{9}$</td><td>&nbsp;</td></tr>\n",
       "<tr><td style=\"text-align:right;\">98</td><td>&nbsp;</td><td>&nbsp;</td><td>$12+34+56+7-8-\\sqrt{9}$</td><td>&nbsp;</td></tr>\n",
       "<tr><td style=\"text-align:right;\">99</td><td>&nbsp;</td><td>&nbsp;</td><td>$123+45+6-78+\\sqrt{9}$</td><td>&nbsp;</td></tr>\n",
       "<tr><td style=\"text-align:right;\">100</td><td>&nbsp;</td><td>&nbsp;</td><td>$1+2+3+4+5+6+7+8 \\cdot 9$</td><td>&nbsp;</td></tr>\n",
       "</table>\n"
      ],
      "text/plain": [
       "Table(len=101,titles=['n', '2018', '4444', '123456789', '999'],data=[[0, (-218)*(-0), 4+4-4-4, 12+3+4+56-78+sqrt(9), (9-9)*(-9)], [1, -(2-10)/8, -(4+4-4)/(-4), -(1+23+45+6-78)/sqrt(9), 9/sqrt(9)/sqrt(9)], [2, -(2+8*0)*(-1), 4+4-sqrt(4)-4, -(12+34+5+6+7*(-8)-sqrt(9)), 9/(-9)+sqrt(9)], [3, -(0+1+8/(-2)), -(4+4+4)/(-4), -(12+3+45+6-78+9), -9/(-9)*sqrt(9)], [4, -(0-12+8), 4+4/sqrt(4)-sqrt(4), -(12+3+45+6-78)/sqrt(9), -(9/(-9)-sqrt(9))]])"
      ]
     },
     "execution_count": 7,
     "metadata": {},
     "output_type": "execute_result"
    }
   ],
   "source": [
    "max=100\n",
    "titles=['n','2018','4444','123456789','999']\n",
    "t=Table([[n]+[None]*(len(titles)-1) for n in range(max+1)],titles=titles)\n",
    "def add(s,col):\n",
    "    for e in s:\n",
    "        n=int(e[0])\n",
    "        # h(e[0],'=',e[1])\n",
    "        if n<=max:\n",
    "            t.set(n,col,e[1])\n",
    "            \n",
    "add(seq(2018,'s-','+-*/_',True),1)\n",
    "add(seq(4444,'s-','+-*/_',False),2)\n",
    "add(seq(123456789,'s-','+-*/_',False),3)\n",
    "add(seq(999,'s-','+-*/_',False),4)\n",
    "t"
   ]
  },
  {
   "cell_type": "code",
   "execution_count": 11,
   "metadata": {},
   "outputs": [
    {
     "data": {
      "text/html": [
       "0 = $\\sin\\left(\\pi\\right)$"
      ],
      "text/plain": [
       "<IPython.core.display.HTML object>"
      ]
     },
     "metadata": {},
     "output_type": "display_data"
    },
    {
     "data": {
      "text/html": [
       "1.1066376096750703e-08 = $\\sqrt{\\sin\\left(\\pi\\right)}$"
      ],
      "text/plain": [
       "<IPython.core.display.HTML object>"
      ]
     },
     "metadata": {},
     "output_type": "display_data"
    },
    {
     "data": {
      "text/html": [
       "0.0016220420328425947 = $-\\log_{10}\\left(\\tanh\\left(\\pi\\right)\\right)$"
      ],
      "text/plain": [
       "<IPython.core.display.HTML object>"
      ]
     },
     "metadata": {},
     "output_type": "display_data"
    },
    {
     "data": {
      "text/html": [
       "0.0053883069999880245 = $-\\log_2\\left(\\tanh\\left(\\pi\\right)\\right)$"
      ],
      "text/plain": [
       "<IPython.core.display.HTML object>"
      ]
     },
     "metadata": {},
     "output_type": "display_data"
    },
    {
     "data": {
      "text/html": [
       "0.08061223884710403 = $-\\cos\\left(\\log_2\\left(\\pi\\right)\\right)$"
      ],
      "text/plain": [
       "<IPython.core.display.HTML object>"
      ]
     },
     "metadata": {},
     "output_type": "display_data"
    },
    {
     "data": {
      "text/html": [
       "0.08637409704956384 = $\\arccos\\left(\\tanh\\left(\\pi\\right)\\right)$"
      ],
      "text/plain": [
       "<IPython.core.display.HTML object>"
      ]
     },
     "metadata": {},
     "output_type": "display_data"
    },
    {
     "data": {
      "text/html": [
       "0.10127515998198242 = $\\log_{10}\\left(\\arctan\\left(\\pi\\right)\\right)$"
      ],
      "text/plain": [
       "<IPython.core.display.HTML object>"
      ]
     },
     "metadata": {},
     "output_type": "display_data"
    },
    {
     "data": {
      "text/html": [
       "0.20029354112337366 = $-\\cos\\left(\\sqrt{\\pi}\\right)$"
      ],
      "text/plain": [
       "<IPython.core.display.HTML object>"
      ]
     },
     "metadata": {},
     "output_type": "display_data"
    },
    {
     "data": {
      "text/html": [
       "0.2178775601946847 = $\\log_{10}\\left(\\log_2\\left(\\pi\\right)\\right)$"
      ],
      "text/plain": [
       "<IPython.core.display.HTML object>"
      ]
     },
     "metadata": {},
     "output_type": "display_data"
    },
    {
     "data": {
      "text/html": [
       "0.2384115869826587 = $-\\cos\\left(\\cosh^{-1}\\left(\\pi\\right)\\right)$"
      ],
      "text/plain": [
       "<IPython.core.display.HTML object>"
      ]
     },
     "metadata": {},
     "output_type": "display_data"
    },
    {
     "data": {
      "text/html": [
       "0.2485749363470669 = $\\log_{10}\\left(\\sqrt{\\pi}\\right)$"
      ],
      "text/plain": [
       "<IPython.core.display.HTML object>"
      ]
     },
     "metadata": {},
     "output_type": "display_data"
    },
    {
     "data": {
      "text/html": [
       "0.25804463696400576 = $\\log_{10}\\left(\\cosh^{-1}\\left(\\pi\\right)\\right)$"
      ],
      "text/plain": [
       "<IPython.core.display.HTML object>"
      ]
     },
     "metadata": {},
     "output_type": "display_data"
    },
    {
     "data": {
      "text/html": [
       "0.2700486505921227 = $\\log_{10}\\left(\\sinh^{-1}\\left(\\pi\\right)\\right)$"
      ],
      "text/plain": [
       "<IPython.core.display.HTML object>"
      ]
     },
     "metadata": {},
     "output_type": "display_data"
    },
    {
     "data": {
      "text/html": [
       "0.28738870981373654 = $-\\cos\\left(\\sinh^{-1}\\left(\\pi\\right)\\right)$"
      ],
      "text/plain": [
       "<IPython.core.display.HTML object>"
      ]
     },
     "metadata": {},
     "output_type": "display_data"
    },
    {
     "data": {
      "text/html": [
       "0.303314471053353 = $\\cos\\left(\\arctan\\left(\\pi\\right)\\right)$"
      ],
      "text/plain": [
       "<IPython.core.display.HTML object>"
      ]
     },
     "metadata": {},
     "output_type": "display_data"
    },
    {
     "data": {
      "text/html": [
       "0.30351266745964006 = $-\\log_{10}\\left(\\log_{10}\\left(\\pi\\right)\\right)$"
      ],
      "text/plain": [
       "<IPython.core.display.HTML object>"
      ]
     },
     "metadata": {},
     "output_type": "display_data"
    },
    {
     "data": {
      "text/html": [
       "0.3364287992583597 = $\\log_2\\left(\\arctan\\left(\\pi\\right)\\right)$"
      ],
      "text/plain": [
       "<IPython.core.display.HTML object>"
      ]
     },
     "metadata": {},
     "output_type": "display_data"
    },
    {
     "data": {
      "text/html": [
       "0.3594631941472303 = $\\log_{10}\\left(\\Gamma\\left(\\pi\\right)\\right)$"
      ],
      "text/plain": [
       "<IPython.core.display.HTML object>"
      ]
     },
     "metadata": {},
     "output_type": "display_data"
    },
    {
     "data": {
      "text/html": [
       "0.40890356614612045 = $-\\cos\\left(e^{\\pi}\\right)$"
      ],
      "text/plain": [
       "<IPython.core.display.HTML object>"
      ]
     },
     "metadata": {},
     "output_type": "display_data"
    },
    {
     "data": {
      "text/html": [
       "0.45987273106154514 = $\\tanh\\left(\\log_{10}\\left(\\pi\\right)\\right)$"
      ],
      "text/plain": [
       "<IPython.core.display.HTML object>"
      ]
     },
     "metadata": {},
     "output_type": "display_data"
    },
    {
     "data": {
      "text/html": [
       "0.4613649087218807 = $\\arctan\\left(\\log_{10}\\left(\\pi\\right)\\right)$"
      ],
      "text/plain": [
       "<IPython.core.display.HTML object>"
      ]
     },
     "metadata": {},
     "output_type": "display_data"
    },
    {
     "data": {
      "text/html": [
       "0.47692237272813737 = $\\sin\\left(\\log_{10}\\left(\\pi\\right)\\right)$"
      ],
      "text/plain": [
       "<IPython.core.display.HTML object>"
      ]
     },
     "metadata": {},
     "output_type": "display_data"
    },
    {
     "data": {
      "text/html": [
       "0.47866114168179535 = $\\sinh^{-1}\\left(\\log_{10}\\left(\\pi\\right)\\right)$"
      ],
      "text/plain": [
       "<IPython.core.display.HTML object>"
      ]
     },
     "metadata": {},
     "output_type": "display_data"
    },
    {
     "data": {
      "text/html": [
       "0.49714987269413385 = $\\log_{10}\\left(\\pi\\right)$"
      ],
      "text/plain": [
       "<IPython.core.display.HTML object>"
      ]
     },
     "metadata": {},
     "output_type": "display_data"
    },
    {
     "data": {
      "text/html": [
       "0.5178835400771429 = $\\sinh\\left(\\log_{10}\\left(\\pi\\right)\\right)$"
      ],
      "text/plain": [
       "<IPython.core.display.HTML object>"
      ]
     },
     "metadata": {},
     "output_type": "display_data"
    },
    {
     "data": {
      "text/html": [
       "0.5203108468523976 = $\\arcsin\\left(\\log_{10}\\left(\\pi\\right)\\right)$"
      ],
      "text/plain": [
       "<IPython.core.display.HTML object>"
      ]
     },
     "metadata": {},
     "output_type": "display_data"
    },
    {
     "data": {
      "text/html": [
       "0.5253829059023629 = $\\cos\\left(\\sinh\\left(\\pi\\right)\\right)$"
      ],
      "text/plain": [
       "<IPython.core.display.HTML object>"
      ]
     },
     "metadata": {},
     "output_type": "display_data"
    },
    {
     "data": {
      "text/html": [
       "0.5403023058681398 = $\\cos\\left(-\\cos\\left(\\pi\\right)\\right)$"
      ],
      "text/plain": [
       "<IPython.core.display.HTML object>"
      ]
     },
     "metadata": {},
     "output_type": "display_data"
    },
    {
     "data": {
      "text/html": [
       "0.5426074954923101 = $\\tan\\left(\\log_{10}\\left(\\pi\\right)\\right)$"
      ],
      "text/plain": [
       "<IPython.core.display.HTML object>"
      ]
     },
     "metadata": {},
     "output_type": "display_data"
    },
    {
     "data": {
      "text/html": [
       "0.5434354838975394 = $\\cos\\left(\\tanh\\left(\\pi\\right)\\right)$"
      ],
      "text/plain": [
       "<IPython.core.display.HTML object>"
      ]
     },
     "metadata": {},
     "output_type": "display_data"
    },
    {
     "data": {
      "text/html": [
       "0.5455131633547174 = $\\tanh^{-1}\\left(\\log_{10}\\left(\\pi\\right)\\right)$"
      ],
      "text/plain": [
       "<IPython.core.display.HTML object>"
      ]
     },
     "metadata": {},
     "output_type": "display_data"
    },
    {
     "data": {
      "text/html": [
       "0.5616502280096894 = $\\cos\\left(\\cosh\\left(\\pi\\right)\\right)$"
      ],
      "text/plain": [
       "<IPython.core.display.HTML object>"
      ]
     },
     "metadata": {},
     "output_type": "display_data"
    },
    {
     "data": {
      "text/html": [
       "0.6573082860590352 = $-\\cos\\left(\\Gamma\\left(\\pi\\right)\\right)$"
      ],
      "text/plain": [
       "<IPython.core.display.HTML object>"
      ]
     },
     "metadata": {},
     "output_type": "display_data"
    },
    {
     "data": {
      "text/html": [
       "0.7050885566325225 = $\\sqrt{\\log_{10}\\left(\\pi\\right)}$"
      ],
      "text/plain": [
       "<IPython.core.display.HTML object>"
      ]
     },
     "metadata": {},
     "output_type": "display_data"
    },
    {
     "data": {
      "text/html": [
       "0.7097529597429991 = $\\cosh^{-1}\\left(\\arctan\\left(\\pi\\right)\\right)$"
      ],
      "text/plain": [
       "<IPython.core.display.HTML object>"
      ]
     },
     "metadata": {},
     "output_type": "display_data"
    },
    {
     "data": {
      "text/html": [
       "0.7237735884562356 = $\\log_2\\left(\\log_2\\left(\\pi\\right)\\right)$"
      ],
      "text/plain": [
       "<IPython.core.display.HTML object>"
      ]
     },
     "metadata": {},
     "output_type": "display_data"
    },
    {
     "data": {
      "text/html": [
       "0.7536217997630731 = $\\sin\\left(\\Gamma\\left(\\pi\\right)\\right)$"
      ],
      "text/plain": [
       "<IPython.core.display.HTML object>"
      ]
     },
     "metadata": {},
     "output_type": "display_data"
    },
    {
     "data": {
      "text/html": [
       "0.7600240731703095 = $\\tanh\\left(\\tanh\\left(\\pi\\right)\\right)$"
      ],
      "text/plain": [
       "<IPython.core.display.HTML object>"
      ]
     },
     "metadata": {},
     "output_type": "display_data"
    },
    {
     "data": {
      "text/html": [
       "0.7615941559557649 = $\\tanh\\left(-\\cos\\left(\\pi\\right)\\right)$"
      ],
      "text/plain": [
       "<IPython.core.display.HTML object>"
      ]
     },
     "metadata": {},
     "output_type": "display_data"
    },
    {
     "data": {
      "text/html": [
       "0.7835307228365398 = $\\arctan\\left(\\tanh\\left(\\pi\\right)\\right)$"
      ],
      "text/plain": [
       "<IPython.core.display.HTML object>"
      ]
     },
     "metadata": {},
     "output_type": "display_data"
    },
    {
     "data": {
      "text/html": [
       "0.7853981633974483 = $\\arctan\\left(-\\cos\\left(\\pi\\right)\\right)$"
      ],
      "text/plain": [
       "<IPython.core.display.HTML object>"
      ]
     },
     "metadata": {},
     "output_type": "display_data"
    },
    {
     "data": {
      "text/html": [
       "0.8257480647361592 = $\\log_2\\left(\\sqrt{\\pi}\\right)$"
      ],
      "text/plain": [
       "<IPython.core.display.HTML object>"
      ]
     },
     "metadata": {},
     "output_type": "display_data"
    },
    {
     "data": {
      "text/html": [
       "0.8273747768554852 = $-\\sin\\left(\\cosh\\left(\\pi\\right)\\right)$"
      ],
      "text/plain": [
       "<IPython.core.display.HTML object>"
      ]
     },
     "metadata": {},
     "output_type": "display_data"
    },
    {
     "data": {
      "text/html": [
       "0.839450936529972 = $\\sin\\left(\\tanh\\left(\\pi\\right)\\right)$"
      ],
      "text/plain": [
       "<IPython.core.display.HTML object>"
      ]
     },
     "metadata": {},
     "output_type": "display_data"
    },
    {
     "data": {
      "text/html": [
       "0.8414709848078965 = $\\sin\\left(-\\cos\\left(\\pi\\right)\\right)$"
      ],
      "text/plain": [
       "<IPython.core.display.HTML object>"
      ]
     },
     "metadata": {},
     "output_type": "display_data"
    },
    {
     "data": {
      "text/html": [
       "0.8508659131646942 = $-\\sin\\left(\\sinh\\left(\\pi\\right)\\right)$"
      ],
      "text/plain": [
       "<IPython.core.display.HTML object>"
      ]
     },
     "metadata": {},
     "output_type": "display_data"
    },
    {
     "data": {
      "text/html": [
       "0.8517867999026187 = $\\tanh\\left(\\arctan\\left(\\pi\\right)\\right)$"
      ],
      "text/plain": [
       "<IPython.core.display.HTML object>"
      ]
     },
     "metadata": {},
     "output_type": "display_data"
    },
    {
     "data": {
      "text/html": [
       "0.8572057292657407 = $\\log_2\\left(\\cosh^{-1}\\left(\\pi\\right)\\right)$"
      ],
      "text/plain": [
       "<IPython.core.display.HTML object>"
      ]
     },
     "metadata": {},
     "output_type": "display_data"
    },
    {
     "data": {
      "text/html": [
       "0.8787350885719889 = $\\sinh^{-1}\\left(\\tanh\\left(\\pi\\right)\\right)$"
      ],
      "text/plain": [
       "<IPython.core.display.HTML object>"
      ]
     },
     "metadata": {},
     "output_type": "display_data"
    },
    {
     "data": {
      "text/html": [
       "0.8789454194609376 = $\\cos\\left(\\log_{10}\\left(\\pi\\right)\\right)$"
      ],
      "text/plain": [
       "<IPython.core.display.HTML object>"
      ]
     },
     "metadata": {},
     "output_type": "display_data"
    },
    {
     "data": {
      "text/html": [
       "0.8813735870195429 = $\\sinh^{-1}\\left(-\\cos\\left(\\pi\\right)\\right)$"
      ],
      "text/plain": [
       "<IPython.core.display.HTML object>"
      ]
     },
     "metadata": {},
     "output_type": "display_data"
    },
    {
     "data": {
      "text/html": [
       "0.8970821993883932 = $\\log_2\\left(\\sinh^{-1}\\left(\\pi\\right)\\right)$"
      ],
      "text/plain": [
       "<IPython.core.display.HTML object>"
      ]
     },
     "metadata": {},
     "output_type": "display_data"
    },
    {
     "data": {
      "text/html": [
       "0.9003440704475638 = $\\Gamma\\left(\\log_2\\left(\\pi\\right)\\right)$"
      ],
      "text/plain": [
       "<IPython.core.display.HTML object>"
      ]
     },
     "metadata": {},
     "output_type": "display_data"
    },
    {
     "data": {
      "text/html": [
       "0.900952887864509 = $\\arctan\\left(\\arctan\\left(\\pi\\right)\\right)$"
      ],
      "text/plain": [
       "<IPython.core.display.HTML object>"
      ]
     },
     "metadata": {},
     "output_type": "display_data"
    },
    {
     "data": {
      "text/html": [
       "0.9038887978916361 = $\\Gamma\\left(\\arctan\\left(\\pi\\right)\\right)$"
      ],
      "text/plain": [
       "<IPython.core.display.HTML object>"
      ]
     },
     "metadata": {},
     "output_type": "display_data"
    },
    {
     "data": {
      "text/html": [
       "0.9125775986692777 = $-\\sin\\left(e^{\\pi}\\right)$"
      ],
      "text/plain": [
       "<IPython.core.display.HTML object>"
      ]
     },
     "metadata": {},
     "output_type": "display_data"
    },
    {
     "data": {
      "text/html": [
       "0.9243607675016626 = $\\Gamma\\left(\\sqrt{\\pi}\\right)$"
      ],
      "text/plain": [
       "<IPython.core.display.HTML object>"
      ]
     },
     "metadata": {},
     "output_type": "display_data"
    },
    {
     "data": {
      "text/html": [
       "0.9290626405396939 = $\\tanh\\left(\\log_2\\left(\\pi\\right)\\right)$"
      ],
      "text/plain": [
       "<IPython.core.display.HTML object>"
      ]
     },
     "metadata": {},
     "output_type": "display_data"
    },
    {
     "data": {
      "text/html": [
       "0.934493916651473 = $\\Gamma\\left(\\cosh^{-1}\\left(\\pi\\right)\\right)$"
      ],
      "text/plain": [
       "<IPython.core.display.HTML object>"
      ]
     },
     "metadata": {},
     "output_type": "display_data"
    },
    {
     "data": {
      "text/html": [
       "0.9438777473631609 = $\\tanh\\left(\\sqrt{\\pi}\\right)$"
      ],
      "text/plain": [
       "<IPython.core.display.HTML object>"
      ]
     },
     "metadata": {},
     "output_type": "display_data"
    },
    {
     "data": {
      "text/html": [
       "0.9479867173951659 = $\\tanh\\left(\\cosh^{-1}\\left(\\pi\\right)\\right)$"
      ],
      "text/plain": [
       "<IPython.core.display.HTML object>"
      ]
     },
     "metadata": {},
     "output_type": "display_data"
    },
    {
     "data": {
      "text/html": [
       "0.9494040798538225 = $\\Gamma\\left(\\sinh^{-1}\\left(\\pi\\right)\\right)$"
      ],
      "text/plain": [
       "<IPython.core.display.HTML object>"
      ]
     },
     "metadata": {},
     "output_type": "display_data"
    },
    {
     "data": {
      "text/html": [
       "0.9528905139886873 = $\\sin\\left(\\arctan\\left(\\pi\\right)\\right)$"
      ],
      "text/plain": [
       "<IPython.core.display.HTML object>"
      ]
     },
     "metadata": {},
     "output_type": "display_data"
    },
    {
     "data": {
      "text/html": [
       "0.9528905139886874 = $\\tanh\\left(\\sinh^{-1}\\left(\\pi\\right)\\right)$"
      ],
      "text/plain": [
       "<IPython.core.display.HTML object>"
      ]
     },
     "metadata": {},
     "output_type": "display_data"
    },
    {
     "data": {
      "text/html": [
       "0.9578140369986211 = $\\sin\\left(\\sinh^{-1}\\left(\\pi\\right)\\right)$"
      ],
      "text/plain": [
       "<IPython.core.display.HTML object>"
      ]
     },
     "metadata": {},
     "output_type": "display_data"
    },
    {
     "data": {
      "text/html": [
       "0.9711642060910246 = $\\sin\\left(\\cosh^{-1}\\left(\\pi\\right)\\right)$"
      ],
      "text/plain": [
       "<IPython.core.display.HTML object>"
      ]
     },
     "metadata": {},
     "output_type": "display_data"
    },
    {
     "data": {
      "text/html": [
       "0.9796193833710564 = $\\tanh\\left(\\Gamma\\left(\\pi\\right)\\right)$"
      ],
      "text/plain": [
       "<IPython.core.display.HTML object>"
      ]
     },
     "metadata": {},
     "output_type": "display_data"
    },
    {
     "data": {
      "text/html": [
       "0.9797359324758174 = $\\sin\\left(\\sqrt{\\pi}\\right)$"
      ],
      "text/plain": [
       "<IPython.core.display.HTML object>"
      ]
     },
     "metadata": {},
     "output_type": "display_data"
    },
    {
     "data": {
      "text/html": [
       "0.99627207622075 = $\\tanh\\left(\\pi\\right)$"
      ],
      "text/plain": [
       "<IPython.core.display.HTML object>"
      ]
     },
     "metadata": {},
     "output_type": "display_data"
    },
    {
     "data": {
      "text/html": [
       "0.9967455377116355 = $\\sin\\left(\\log_2\\left(\\pi\\right)\\right)$"
      ],
      "text/plain": [
       "<IPython.core.display.HTML object>"
      ]
     },
     "metadata": {},
     "output_type": "display_data"
    },
    {
     "data": {
      "text/html": [
       "0.9981342976878161 = $\\sqrt{\\tanh\\left(\\pi\\right)}$"
      ],
      "text/plain": [
       "<IPython.core.display.HTML object>"
      ]
     },
     "metadata": {},
     "output_type": "display_data"
    },
    {
     "data": {
      "text/html": [
       "0.9999999998138246 = $\\tanh\\left(\\sinh\\left(\\pi\\right)\\right)$"
      ],
      "text/plain": [
       "<IPython.core.display.HTML object>"
      ]
     },
     "metadata": {},
     "output_type": "display_data"
    },
    {
     "data": {
      "text/html": [
       "0.9999999998292396 = $\\tanh\\left(\\cosh\\left(\\pi\\right)\\right)$"
      ],
      "text/plain": [
       "<IPython.core.display.HTML object>"
      ]
     },
     "metadata": {},
     "output_type": "display_data"
    },
    {
     "data": {
      "text/html": [
       "1 = $-\\cos\\left(\\pi\\right)$"
      ],
      "text/plain": [
       "<IPython.core.display.HTML object>"
      ]
     },
     "metadata": {},
     "output_type": "display_data"
    },
    {
     "data": {
      "text/html": [
       "1.002165608530718 = $\\Gamma\\left(\\tanh\\left(\\pi\\right)\\right)$"
      ],
      "text/plain": [
       "<IPython.core.display.HTML object>"
      ]
     },
     "metadata": {},
     "output_type": "display_data"
    },
    {
     "data": {
      "text/html": [
       "1.0082472571883836 = $-\\log_2\\left(\\log_{10}\\left(\\pi\\right)\\right)$"
      ],
      "text/plain": [
       "<IPython.core.display.HTML object>"
      ]
     },
     "metadata": {},
     "output_type": "display_data"
    },
    {
     "data": {
      "text/html": [
       "1.0263340602019209 = $\\arctan\\left(\\log_2\\left(\\pi\\right)\\right)$"
      ],
      "text/plain": [
       "<IPython.core.display.HTML object>"
      ]
     },
     "metadata": {},
     "output_type": "display_data"
    },
    {
     "data": {
      "text/html": [
       "1.050485479942499 = $\\arccos\\left(\\log_{10}\\left(\\pi\\right)\\right)$"
      ],
      "text/plain": [
       "<IPython.core.display.HTML object>"
      ]
     },
     "metadata": {},
     "output_type": "display_data"
    },
    {
     "data": {
      "text/html": [
       "1.0554569703792611 = $\\sinh^{-1}\\left(\\arctan\\left(\\pi\\right)\\right)$"
      ],
      "text/plain": [
       "<IPython.core.display.HTML object>"
      ]
     },
     "metadata": {},
     "output_type": "display_data"
    },
    {
     "data": {
      "text/html": [
       "1.0571243112754385 = $\\arctan\\left(\\sqrt{\\pi}\\right)$"
      ],
      "text/plain": [
       "<IPython.core.display.HTML object>"
      ]
     },
     "metadata": {},
     "output_type": "display_data"
    },
    {
     "data": {
      "text/html": [
       "1.0625345798933474 = $\\log_{10}\\left(\\sinh\\left(\\pi\\right)\\right)$"
      ],
      "text/plain": [
       "<IPython.core.display.HTML object>"
      ]
     },
     "metadata": {},
     "output_type": "display_data"
    },
    {
     "data": {
      "text/html": [
       "1.06415662192619 = $\\log_{10}\\left(\\cosh\\left(\\pi\\right)\\right)$"
      ],
      "text/plain": [
       "<IPython.core.display.HTML object>"
      ]
     },
     "metadata": {},
     "output_type": "display_data"
    },
    {
     "data": {
      "text/html": [
       "1.0664030390131651 = $\\arctan\\left(\\cosh^{-1}\\left(\\pi\\right)\\right)$"
      ],
      "text/plain": [
       "<IPython.core.display.HTML object>"
      ]
     },
     "metadata": {},
     "output_type": "display_data"
    },
    {
     "data": {
      "text/html": [
       "1.0780106889436865 = $\\arctan\\left(\\sinh^{-1}\\left(\\pi\\right)\\right)$"
      ],
      "text/plain": [
       "<IPython.core.display.HTML object>"
      ]
     },
     "metadata": {},
     "output_type": "display_data"
    },
    {
     "data": {
      "text/html": [
       "1.0871525572995602 = $\\cosh^{-1}\\left(\\log_2\\left(\\pi\\right)\\right)$"
      ],
      "text/plain": [
       "<IPython.core.display.HTML object>"
      ]
     },
     "metadata": {},
     "output_type": "display_data"
    },
    {
     "data": {
      "text/html": [
       "1.123666879319183 = $\\sqrt{\\arctan\\left(\\pi\\right)}$"
      ],
      "text/plain": [
       "<IPython.core.display.HTML object>"
      ]
     },
     "metadata": {},
     "output_type": "display_data"
    },
    {
     "data": {
      "text/html": [
       "1.1261453552196687 = $\\cosh\\left(\\log_{10}\\left(\\pi\\right)\\right)$"
      ],
      "text/plain": [
       "<IPython.core.display.HTML object>"
      ]
     },
     "metadata": {},
     "output_type": "display_data"
    },
    {
     "data": {
      "text/html": [
       "1.1465271558974195 = $-\\tan\\left(\\Gamma\\left(\\pi\\right)\\right)$"
      ],
      "text/plain": [
       "<IPython.core.display.HTML object>"
      ]
     },
     "metadata": {},
     "output_type": "display_data"
    },
    {
     "data": {
      "text/html": [
       "1.158412524612224 = $\\Gamma\\left(\\Gamma\\left(\\pi\\right)\\right)$"
      ],
      "text/plain": [
       "<IPython.core.display.HTML object>"
      ]
     },
     "metadata": {},
     "output_type": "display_data"
    },
    {
     "data": {
      "text/html": [
       "1.1587588521091652 = $\\arctan\\left(\\Gamma\\left(\\pi\\right)\\right)$"
      ],
      "text/plain": [
       "<IPython.core.display.HTML object>"
      ]
     },
     "metadata": {},
     "output_type": "display_data"
    },
    {
     "data": {
      "text/html": [
       "1.1694568594670662 = $\\sinh\\left(\\tanh\\left(\\pi\\right)\\right)$"
      ],
      "text/plain": [
       "<IPython.core.display.HTML object>"
      ]
     },
     "metadata": {},
     "output_type": "display_data"
    },
    {
     "data": {
      "text/html": [
       "1.1742984407142925 = $\\cosh^{-1}\\left(\\sqrt{\\pi}\\right)$"
      ],
      "text/plain": [
       "<IPython.core.display.HTML object>"
      ]
     },
     "metadata": {},
     "output_type": "display_data"
    },
    {
     "data": {
      "text/html": [
       "1.1752011936438014 = $\\sinh\\left(-\\cos\\left(\\pi\\right)\\right)$"
      ],
      "text/plain": [
       "<IPython.core.display.HTML object>"
      ]
     },
     "metadata": {},
     "output_type": "display_data"
    },
    {
     "data": {
      "text/html": [
       "1.194110883715635 = $\\log_2\\left(\\Gamma\\left(\\pi\\right)\\right)$"
      ],
      "text/plain": [
       "<IPython.core.display.HTML object>"
      ]
     },
     "metadata": {},
     "output_type": "display_data"
    },
    {
     "data": {
      "text/html": [
       "1.2005766322266866 = $\\cosh^{-1}\\left(\\cosh^{-1}\\left(\\pi\\right)\\right)$"
      ],
      "text/plain": [
       "<IPython.core.display.HTML object>"
      ]
     },
     "metadata": {},
     "output_type": "display_data"
    },
    {
     "data": {
      "text/html": [
       "1.2335303390478385 = $\\cosh^{-1}\\left(\\sinh^{-1}\\left(\\pi\\right)\\right)$"
      ],
      "text/plain": [
       "<IPython.core.display.HTML object>"
      ]
     },
     "metadata": {},
     "output_type": "display_data"
    },
    {
     "data": {
      "text/html": [
       "1.2626272556789115 = $\\arctan\\left(\\pi\\right)$"
      ],
      "text/plain": [
       "<IPython.core.display.HTML object>"
      ]
     },
     "metadata": {},
     "output_type": "display_data"
    },
    {
     "data": {
      "text/html": [
       "1.2759642703421383 = $\\sinh^{-1}\\left(\\log_2\\left(\\pi\\right)\\right)$"
      ],
      "text/plain": [
       "<IPython.core.display.HTML object>"
      ]
     },
     "metadata": {},
     "output_type": "display_data"
    },
    {
     "data": {
      "text/html": [
       "1.2851054935188468 = $\\sqrt{\\log_2\\left(\\pi\\right)}$"
      ],
      "text/plain": [
       "<IPython.core.display.HTML object>"
      ]
     },
     "metadata": {},
     "output_type": "display_data"
    },
    {
     "data": {
      "text/html": [
       "1.3313353638003897 = $\\sqrt{\\sqrt{\\pi}}$"
      ],
      "text/plain": [
       "<IPython.core.display.HTML object>"
      ]
     },
     "metadata": {},
     "output_type": "display_data"
    },
    {
     "data": {
      "text/html": [
       "1.3369844095223622 = $\\sinh^{-1}\\left(\\sqrt{\\pi}\\right)$"
      ],
      "text/plain": [
       "<IPython.core.display.HTML object>"
      ]
     },
     "metadata": {},
     "output_type": "display_data"
    },
    {
     "data": {
      "text/html": [
       "1.3459295198712498 = $\\sqrt{\\cosh^{-1}\\left(\\pi\\right)}$"
      ],
      "text/plain": [
       "<IPython.core.display.HTML object>"
      ]
     },
     "metadata": {},
     "output_type": "display_data"
    },
    {
     "data": {
      "text/html": [
       "1.3560247354141104 = $\\sinh^{-1}\\left(\\cosh^{-1}\\left(\\pi\\right)\\right)$"
      ],
      "text/plain": [
       "<IPython.core.display.HTML object>"
      ]
     },
     "metadata": {},
     "output_type": "display_data"
    },
    {
     "data": {
      "text/html": [
       "1.3643763538418414 = $\\log_{10}\\left(e^{\\pi}\\right)$"
      ],
      "text/plain": [
       "<IPython.core.display.HTML object>"
      ]
     },
     "metadata": {},
     "output_type": "display_data"
    },
    {
     "data": {
      "text/html": [
       "1.364659570483001 = $\\sqrt{\\sinh^{-1}\\left(\\pi\\right)}$"
      ],
      "text/plain": [
       "<IPython.core.display.HTML object>"
      ]
     },
     "metadata": {},
     "output_type": "display_data"
    },
    {
     "data": {
      "text/html": [
       "1.3803000710956943 = $\\sinh^{-1}\\left(\\sinh^{-1}\\left(\\pi\\right)\\right)$"
      ],
      "text/plain": [
       "<IPython.core.display.HTML object>"
      ]
     },
     "metadata": {},
     "output_type": "display_data"
    },
    {
     "data": {
      "text/html": [
       "1.4692507675331985 = $\\cosh^{-1}\\left(\\Gamma\\left(\\pi\\right)\\right)$"
      ],
      "text/plain": [
       "<IPython.core.display.HTML object>"
      ]
     },
     "metadata": {},
     "output_type": "display_data"
    },
    {
     "data": {
      "text/html": [
       "1.4731139338934116 = $-\\tan\\left(\\cosh\\left(\\pi\\right)\\right)$"
      ],
      "text/plain": [
       "<IPython.core.display.HTML object>"
      ]
     },
     "metadata": {},
     "output_type": "display_data"
    },
    {
     "data": {
      "text/html": [
       "1.4844222297453324 = $\\arctan\\left(\\sinh\\left(\\pi\\right)\\right)$"
      ],
      "text/plain": [
       "<IPython.core.display.HTML object>"
      ]
     },
     "metadata": {},
     "output_type": "display_data"
    },
    {
     "data": {
      "text/html": [
       "1.4844222297453329 = $\\arcsin\\left(\\tanh\\left(\\pi\\right)\\right)$"
      ],
      "text/plain": [
       "<IPython.core.display.HTML object>"
      ]
     },
     "metadata": {},
     "output_type": "display_data"
    },
    {
     "data": {
      "text/html": [
       "1.4847426355638642 = $\\arctan\\left(\\cosh\\left(\\pi\\right)\\right)$"
      ],
      "text/plain": [
       "<IPython.core.display.HTML object>"
      ]
     },
     "metadata": {},
     "output_type": "display_data"
    },
    {
     "data": {
      "text/html": [
       "1.5126261254322009 = $\\sqrt{\\Gamma\\left(\\pi\\right)}$"
      ],
      "text/plain": [
       "<IPython.core.display.HTML object>"
      ]
     },
     "metadata": {},
     "output_type": "display_data"
    },
    {
     "data": {
      "text/html": [
       "1.5276092782701145 = $\\arctan\\left(e^{\\pi}\\right)$"
      ],
      "text/plain": [
       "<IPython.core.display.HTML object>"
      ]
     },
     "metadata": {},
     "output_type": "display_data"
    },
    {
     "data": {
      "text/html": [
       "1.5387102866214204 = $\\cosh\\left(\\tanh\\left(\\pi\\right)\\right)$"
      ],
      "text/plain": [
       "<IPython.core.display.HTML object>"
      ]
     },
     "metadata": {},
     "output_type": "display_data"
    },
    {
     "data": {
      "text/html": [
       "1.5430806348152437 = $\\cosh\\left(-\\cos\\left(\\pi\\right)\\right)$"
      ],
      "text/plain": [
       "<IPython.core.display.HTML object>"
      ]
     },
     "metadata": {},
     "output_type": "display_data"
    },
    {
     "data": {
      "text/html": [
       "1.5447113068682945 = $\\tan\\left(\\tanh\\left(\\pi\\right)\\right)$"
      ],
      "text/plain": [
       "<IPython.core.display.HTML object>"
      ]
     },
     "metadata": {},
     "output_type": "display_data"
    },
    {
     "data": {
      "text/html": [
       "1.5574077246549023 = $\\tan\\left(-\\cos\\left(\\pi\\right)\\right)$"
      ],
      "text/plain": [
       "<IPython.core.display.HTML object>"
      ]
     },
     "metadata": {},
     "output_type": "display_data"
    },
    {
     "data": {
      "text/html": [
       "1.565498441080122 = $\\sinh^{-1}\\left(\\Gamma\\left(\\pi\\right)\\right)$"
      ],
      "text/plain": [
       "<IPython.core.display.HTML object>"
      ]
     },
     "metadata": {},
     "output_type": "display_data"
    },
    {
     "data": {
      "text/html": [
       "1.5707963267948966 = $\\arccos\\left(\\sin\\left(\\pi\\right)\\right)$"
      ],
      "text/plain": [
       "<IPython.core.display.HTML object>"
      ]
     },
     "metadata": {},
     "output_type": "display_data"
    },
    {
     "data": {
      "text/html": [
       "1.619515792397743 = $-\\tan\\left(\\sinh\\left(\\pi\\right)\\right)$"
      ],
      "text/plain": [
       "<IPython.core.display.HTML object>"
      ]
     },
     "metadata": {},
     "output_type": "display_data"
    },
    {
     "data": {
      "text/html": [
       "1.6258930378825622 = $\\sinh\\left(\\arctan\\left(\\pi\\right)\\right)$"
      ],
      "text/plain": [
       "<IPython.core.display.HTML object>"
      ]
     },
     "metadata": {},
     "output_type": "display_data"
    },
    {
     "data": {
      "text/html": [
       "1.6440288952968114 = $e^{\\log_{10}\\left(\\pi\\right)}$"
      ],
      "text/plain": [
       "<IPython.core.display.HTML object>"
      ]
     },
     "metadata": {},
     "output_type": "display_data"
    },
    {
     "data": {
      "text/html": [
       "1.6514961294723187 = $\\log_2\\left(\\pi\\right)$"
      ],
      "text/plain": [
       "<IPython.core.display.HTML object>"
      ]
     },
     "metadata": {},
     "output_type": "display_data"
    },
    {
     "data": {
      "text/html": [
       "1.7724538509055159 = $\\sqrt{\\pi}$"
      ],
      "text/plain": [
       "<IPython.core.display.HTML object>"
      ]
     },
     "metadata": {},
     "output_type": "display_data"
    },
    {
     "data": {
      "text/html": [
       "1.7824366004923267 = $\\Gamma\\left(\\log_{10}\\left(\\pi\\right)\\right)$"
      ],
      "text/plain": [
       "<IPython.core.display.HTML object>"
      ]
     },
     "metadata": {},
     "output_type": "display_data"
    },
    {
     "data": {
      "text/html": [
       "1.811526272460853 = $\\cosh^{-1}\\left(\\pi\\right)$"
      ],
      "text/plain": [
       "<IPython.core.display.HTML object>"
      ]
     },
     "metadata": {},
     "output_type": "display_data"
    },
    {
     "data": {
      "text/html": [
       "1.8622957433108482 = $\\sinh^{-1}\\left(\\pi\\right)$"
      ],
      "text/plain": [
       "<IPython.core.display.HTML object>"
      ]
     },
     "metadata": {},
     "output_type": "display_data"
    },
    {
     "data": {
      "text/html": [
       "1.9088028108306492 = $\\cosh\\left(\\arctan\\left(\\pi\\right)\\right)$"
      ],
      "text/plain": [
       "<IPython.core.display.HTML object>"
      ]
     },
     "metadata": {},
     "output_type": "display_data"
    },
    {
     "data": {
      "text/html": [
       "2.2317672777233026 = $\\tan\\left(e^{\\pi}\\right)$"
      ],
      "text/plain": [
       "<IPython.core.display.HTML object>"
      ]
     },
     "metadata": {},
     "output_type": "display_data"
    },
    {
     "data": {
      "text/html": [
       "2.288037795340032 = $\\Gamma\\left(\\pi\\right)$"
      ],
      "text/plain": [
       "<IPython.core.display.HTML object>"
      ]
     },
     "metadata": {},
     "output_type": "display_data"
    },
    {
     "data": {
      "text/html": [
       "2.5115065909006944 = $\\sinh\\left(\\log_2\\left(\\pi\\right)\\right)$"
      ],
      "text/plain": [
       "<IPython.core.display.HTML object>"
      ]
     },
     "metadata": {},
     "output_type": "display_data"
    },
    {
     "data": {
      "text/html": [
       "2.7032693828284353 = $\\cosh\\left(\\log_2\\left(\\pi\\right)\\right)$"
      ],
      "text/plain": [
       "<IPython.core.display.HTML object>"
      ]
     },
     "metadata": {},
     "output_type": "display_data"
    },
    {
     "data": {
      "text/html": [
       "2.7081671460884866 = $e^{\\tanh\\left(\\pi\\right)}$"
      ],
      "text/plain": [
       "<IPython.core.display.HTML object>"
      ]
     },
     "metadata": {},
     "output_type": "display_data"
    },
    {
     "data": {
      "text/html": [
       "2.718281828459045 = $e^{-\\cos\\left(\\pi\\right)}$"
      ],
      "text/plain": [
       "<IPython.core.display.HTML object>"
      ]
     },
     "metadata": {},
     "output_type": "display_data"
    },
    {
     "data": {
      "text/html": [
       "2.857680860275251 = $\\sinh\\left(\\sqrt{\\pi}\\right)$"
      ],
      "text/plain": [
       "<IPython.core.display.HTML object>"
      ]
     },
     "metadata": {},
     "output_type": "display_data"
    },
    {
     "data": {
      "text/html": [
       "2.9781881070693563 = $\\sinh\\left(\\cosh^{-1}\\left(\\pi\\right)\\right)$"
      ],
      "text/plain": [
       "<IPython.core.display.HTML object>"
      ]
     },
     "metadata": {},
     "output_type": "display_data"
    },
    {
     "data": {
      "text/html": [
       "3.027596389742777 = $\\cosh\\left(\\sqrt{\\pi}\\right)$"
      ],
      "text/plain": [
       "<IPython.core.display.HTML object>"
      ]
     },
     "metadata": {},
     "output_type": "display_data"
    },
    {
     "data": {
      "text/html": [
       "3.1378437356780546 = $\\cosh^{-1}\\left(\\sinh\\left(\\pi\\right)\\right)$"
      ],
      "text/plain": [
       "<IPython.core.display.HTML object>"
      ]
     },
     "metadata": {},
     "output_type": "display_data"
    },
    {
     "data": {
      "text/html": [
       "3.141592653589792 = $\\tan\\left(\\arctan\\left(\\pi\\right)\\right)$"
      ],
      "text/plain": [
       "<IPython.core.display.HTML object>"
      ]
     },
     "metadata": {},
     "output_type": "display_data"
    },
    {
     "data": {
      "text/html": [
       "3.1415926535897927 = $\\cosh\\left(\\cosh^{-1}\\left(\\pi\\right)\\right)$"
      ],
      "text/plain": [
       "<IPython.core.display.HTML object>"
      ]
     },
     "metadata": {},
     "output_type": "display_data"
    },
    {
     "data": {
      "text/html": [
       "3.141592653589793 = $\\pi$"
      ],
      "text/plain": [
       "<IPython.core.display.HTML object>"
      ]
     },
     "metadata": {},
     "output_type": "display_data"
    },
    {
     "data": {
      "text/html": [
       "3.141592653589798 = $\\tanh^{-1}\\left(\\tanh\\left(\\pi\\right)\\right)$"
      ],
      "text/plain": [
       "<IPython.core.display.HTML object>"
      ]
     },
     "metadata": {},
     "output_type": "display_data"
    },
    {
     "data": {
      "text/html": [
       "3.145313671595097 = $\\sinh^{-1}\\left(\\cosh\\left(\\pi\\right)\\right)$"
      ],
      "text/plain": [
       "<IPython.core.display.HTML object>"
      ]
     },
     "metadata": {},
     "output_type": "display_data"
    },
    {
     "data": {
      "text/html": [
       "3.296908309475615 = $\\cosh\\left(\\sinh^{-1}\\left(\\pi\\right)\\right)$"
      ],
      "text/plain": [
       "<IPython.core.display.HTML object>"
      ]
     },
     "metadata": {},
     "output_type": "display_data"
    },
    {
     "data": {
      "text/html": [
       "3.3328172064219332 = $-\\tan\\left(\\sinh^{-1}\\left(\\pi\\right)\\right)$"
      ],
      "text/plain": [
       "<IPython.core.display.HTML object>"
      ]
     },
     "metadata": {},
     "output_type": "display_data"
    },
    {
     "data": {
      "text/html": [
       "3.398343619656162 = $\\sqrt{\\sinh\\left(\\pi\\right)}$"
      ],
      "text/plain": [
       "<IPython.core.display.HTML object>"
      ]
     },
     "metadata": {},
     "output_type": "display_data"
    },
    {
     "data": {
      "text/html": [
       "3.4046957684235926 = $\\sqrt{\\cosh\\left(\\pi\\right)}$"
      ],
      "text/plain": [
       "<IPython.core.display.HTML object>"
      ]
     },
     "metadata": {},
     "output_type": "display_data"
    },
    {
     "data": {
      "text/html": [
       "3.5296634727370515 = $\\log_2\\left(\\sinh\\left(\\pi\\right)\\right)$"
      ],
      "text/plain": [
       "<IPython.core.display.HTML object>"
      ]
     },
     "metadata": {},
     "output_type": "display_data"
    },
    {
     "data": {
      "text/html": [
       "3.5346958487132114 = $e^{\\arctan\\left(\\pi\\right)}$"
      ],
      "text/plain": [
       "<IPython.core.display.HTML object>"
      ]
     },
     "metadata": {},
     "output_type": "display_data"
    },
    {
     "data": {
      "text/html": [
       "3.5350517797370395 = $\\log_2\\left(\\cosh\\left(\\pi\\right)\\right)$"
      ],
      "text/plain": [
       "<IPython.core.display.HTML object>"
      ]
     },
     "metadata": {},
     "output_type": "display_data"
    },
    {
     "data": {
      "text/html": [
       "3.8342726461888614 = $\\cosh^{-1}\\left(e^{\\pi}\\right)$"
      ],
      "text/plain": [
       "<IPython.core.display.HTML object>"
      ]
     },
     "metadata": {},
     "output_type": "display_data"
    },
    {
     "data": {
      "text/html": [
       "3.8352063682330924 = $\\sinh^{-1}\\left(e^{\\pi}\\right)$"
      ],
      "text/plain": [
       "<IPython.core.display.HTML object>"
      ]
     },
     "metadata": {},
     "output_type": "display_data"
    },
    {
     "data": {
      "text/html": [
       "4.0734773774299144 = $-\\tan\\left(\\cosh^{-1}\\left(\\pi\\right)\\right)$"
      ],
      "text/plain": [
       "<IPython.core.display.HTML object>"
      ]
     },
     "metadata": {},
     "output_type": "display_data"
    },
    {
     "data": {
      "text/html": [
       "4.532360141827194 = $\\log_2\\left(e^{\\pi}\\right)$"
      ],
      "text/plain": [
       "<IPython.core.display.HTML object>"
      ]
     },
     "metadata": {},
     "output_type": "display_data"
    },
    {
     "data": {
      "text/html": [
       "4.810477380965351 = $\\sqrt{e^{\\pi}}$"
      ],
      "text/plain": [
       "<IPython.core.display.HTML object>"
      ]
     },
     "metadata": {},
     "output_type": "display_data"
    },
    {
     "data": {
      "text/html": [
       "4.877057334015103 = $\\sinh\\left(\\Gamma\\left(\\pi\\right)\\right)$"
      ],
      "text/plain": [
       "<IPython.core.display.HTML object>"
      ]
     },
     "metadata": {},
     "output_type": "display_data"
    },
    {
     "data": {
      "text/html": [
       "4.891500379796746 = $-\\tan\\left(\\sqrt{\\pi}\\right)$"
      ],
      "text/plain": [
       "<IPython.core.display.HTML object>"
      ]
     },
     "metadata": {},
     "output_type": "display_data"
    },
    {
     "data": {
      "text/html": [
       "4.97852269647036 = $\\cosh\\left(\\Gamma\\left(\\pi\\right)\\right)$"
      ],
      "text/plain": [
       "<IPython.core.display.HTML object>"
      ]
     },
     "metadata": {},
     "output_type": "display_data"
    },
    {
     "data": {
      "text/html": [
       "5.21477597372913 = $e^{\\log_2\\left(\\pi\\right)}$"
      ],
      "text/plain": [
       "<IPython.core.display.HTML object>"
      ]
     },
     "metadata": {},
     "output_type": "display_data"
    },
    {
     "data": {
      "text/html": [
       "5.885277250018028 = $e^{\\sqrt{\\pi}}$"
      ],
      "text/plain": [
       "<IPython.core.display.HTML object>"
      ]
     },
     "metadata": {},
     "output_type": "display_data"
    },
    {
     "data": {
      "text/html": [
       "6.119780760659149 = $e^{\\cosh^{-1}\\left(\\pi\\right)}$"
      ],
      "text/plain": [
       "<IPython.core.display.HTML object>"
      ]
     },
     "metadata": {},
     "output_type": "display_data"
    },
    {
     "data": {
      "text/html": [
       "6.438500963065408 = $e^{\\sinh^{-1}\\left(\\pi\\right)}$"
      ],
      "text/plain": [
       "<IPython.core.display.HTML object>"
      ]
     },
     "metadata": {},
     "output_type": "display_data"
    },
    {
     "data": {
      "text/html": [
       "9.855580030485463 = $e^{\\Gamma\\left(\\pi\\right)}$"
      ],
      "text/plain": [
       "<IPython.core.display.HTML object>"
      ]
     },
     "metadata": {},
     "output_type": "display_data"
    },
    {
     "data": {
      "text/html": [
       "11.548739357257746 = $\\sinh\\left(\\pi\\right)$"
      ],
      "text/plain": [
       "<IPython.core.display.HTML object>"
      ]
     },
     "metadata": {},
     "output_type": "display_data"
    },
    {
     "data": {
      "text/html": [
       "11.591953275521519 = $\\cosh\\left(\\pi\\right)$"
      ],
      "text/plain": [
       "<IPython.core.display.HTML object>"
      ]
     },
     "metadata": {},
     "output_type": "display_data"
    },
    {
     "data": {
      "text/html": [
       "12.364692408582613 = $-\\tan\\left(\\log_2\\left(\\pi\\right)\\right)$"
      ],
      "text/plain": [
       "<IPython.core.display.HTML object>"
      ]
     },
     "metadata": {},
     "output_type": "display_data"
    },
    {
     "data": {
      "text/html": [
       "15.91198914827845 = $-\\log_{10}\\left(\\sin\\left(\\pi\\right)\\right)$"
      ],
      "text/plain": [
       "<IPython.core.display.HTML object>"
      ]
     },
     "metadata": {},
     "output_type": "display_data"
    },
    {
     "data": {
      "text/html": [
       "23.140692632779267 = $e^{\\pi}$"
      ],
      "text/plain": [
       "<IPython.core.display.HTML object>"
      ]
     },
     "metadata": {},
     "output_type": "display_data"
    },
    {
     "data": {
      "text/html": [
       "52.85848379720901 = $-\\log_2\\left(\\sin\\left(\\pi\\right)\\right)$"
      ],
      "text/plain": [
       "<IPython.core.display.HTML object>"
      ]
     },
     "metadata": {},
     "output_type": "display_data"
    },
    {
     "data": {
      "text/html": [
       "51823.14673489771 = $\\sinh\\left(\\sinh\\left(\\pi\\right)\\right)$"
      ],
      "text/plain": [
       "<IPython.core.display.HTML object>"
      ]
     },
     "metadata": {},
     "output_type": "display_data"
    },
    {
     "data": {
      "text/html": [
       "51823.14674454591 = $\\cosh\\left(\\sinh\\left(\\pi\\right)\\right)$"
      ],
      "text/plain": [
       "<IPython.core.display.HTML object>"
      ]
     },
     "metadata": {},
     "output_type": "display_data"
    },
    {
     "data": {
      "text/html": [
       "54111.72095476127 = $\\sinh\\left(\\cosh\\left(\\pi\\right)\\right)$"
      ],
      "text/plain": [
       "<IPython.core.display.HTML object>"
      ]
     },
     "metadata": {},
     "output_type": "display_data"
    },
    {
     "data": {
      "text/html": [
       "54111.72096400142 = $\\cosh\\left(\\cosh\\left(\\pi\\right)\\right)$"
      ],
      "text/plain": [
       "<IPython.core.display.HTML object>"
      ]
     },
     "metadata": {},
     "output_type": "display_data"
    },
    {
     "data": {
      "text/html": [
       "103646.29347944363 = $e^{\\sinh\\left(\\pi\\right)}$"
      ],
      "text/plain": [
       "<IPython.core.display.HTML object>"
      ]
     },
     "metadata": {},
     "output_type": "display_data"
    },
    {
     "data": {
      "text/html": [
       "108223.44191876269 = $e^{\\cosh\\left(\\pi\\right)}$"
      ],
      "text/plain": [
       "<IPython.core.display.HTML object>"
      ]
     },
     "metadata": {},
     "output_type": "display_data"
    },
    {
     "data": {
      "text/html": [
       "13376324.257428396 = $\\Gamma\\left(\\sinh\\left(\\pi\\right)\\right)$"
      ],
      "text/plain": [
       "<IPython.core.display.HTML object>"
      ]
     },
     "metadata": {},
     "output_type": "display_data"
    },
    {
     "data": {
      "text/html": [
       "14841077.907790806 = $\\Gamma\\left(\\cosh\\left(\\pi\\right)\\right)$"
      ],
      "text/plain": [
       "<IPython.core.display.HTML object>"
      ]
     },
     "metadata": {},
     "output_type": "display_data"
    },
    {
     "data": {
      "text/html": [
       "5608479311.233809 = $\\cosh\\left(e^{\\pi}\\right)$"
      ],
      "text/plain": [
       "<IPython.core.display.HTML object>"
      ]
     },
     "metadata": {},
     "output_type": "display_data"
    },
    {
     "data": {
      "text/html": [
       "11216958622.467619 = $e^{e^{\\pi}}$"
      ],
      "text/plain": [
       "<IPython.core.display.HTML object>"
      ]
     },
     "metadata": {},
     "output_type": "display_data"
    },
    {
     "data": {
      "text/html": [
       "8165619676597684 = $\\Gamma\\left(\\sin\\left(\\pi\\right)\\right)$"
      ],
      "text/plain": [
       "<IPython.core.display.HTML object>"
      ]
     },
     "metadata": {},
     "output_type": "display_data"
    },
    {
     "data": {
      "text/html": [
       "1742626626902657859584 = $\\Gamma\\left(e^{\\pi}\\right)$"
      ],
      "text/plain": [
       "<IPython.core.display.HTML object>"
      ]
     },
     "metadata": {},
     "output_type": "display_data"
    }
   ],
   "source": [
    "del functions['trunc']\n",
    "del functions['fabs']\n",
    "for x in Monadic(pi,functions,2).items():\n",
    "    h(x[0],'=',x[1])"
   ]
  }
 ],
 "metadata": {
  "kernelspec": {
   "display_name": "Python 3",
   "language": "python",
   "name": "python3"
  },
  "language_info": {
   "codemirror_mode": {
    "name": "ipython",
    "version": 3
   },
   "file_extension": ".py",
   "mimetype": "text/x-python",
   "name": "python",
   "nbconvert_exporter": "python",
   "pygments_lexer": "ipython3",
   "version": "3.6.3"
  }
 },
 "nbformat": 4,
 "nbformat_minor": 2
}
