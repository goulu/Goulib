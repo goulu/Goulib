{
 "cells": [
  {
   "cell_type": "code",
   "execution_count": 1,
   "metadata": {
    "collapsed": true
   },
   "outputs": [],
   "source": [
    "from math import *\n",
    "\n",
    "from Goulib.notebook import *\n",
    "from Goulib.table import Table\n",
    "from friedman import seq"
   ]
  },
  {
   "cell_type": "code",
   "execution_count": 2,
   "metadata": {
    "collapsed": true
   },
   "outputs": [],
   "source": [
    "max=100\n",
    "t=Table(range(max+1),titles=['n'])\n",
    "def add(n,monadic='-s',dyadic='+-*/^_',permut=False):\n",
    "    t.addcol(n)\n",
    "    col=len(t.titles)-1\n",
    "    for e in seq(n,monadic,dyadic,permut):\n",
    "        n=int(e[0])\n",
    "        # h(e[0],'=',e[1])\n",
    "        if n<=max:\n",
    "            t.set(n,col,e[1])"
   ]
  },
  {
   "cell_type": "code",
   "execution_count": 3,
   "metadata": {},
   "outputs": [
    {
     "name": "stderr",
     "output_type": "stream",
     "text": [
      "WARNING:root:23 has no solution\n"
     ]
    }
   ],
   "source": [
    "add(2018,permut=True) #yeargame"
   ]
  },
  {
   "cell_type": "code",
   "execution_count": 4,
   "metadata": {},
   "outputs": [
    {
     "name": "stderr",
     "output_type": "stream",
     "text": [
      "WARNING:root:17 has no solution\n"
     ]
    }
   ],
   "source": [
    "add(4444) # four-four"
   ]
  },
  {
   "cell_type": "code",
   "execution_count": 5,
   "metadata": {},
   "outputs": [
    {
     "name": "stderr",
     "output_type": "stream",
     "text": [
      "WARNING:root:58 has no solution\n"
     ]
    }
   ],
   "source": [
    "add(123456789)"
   ]
  },
  {
   "cell_type": "code",
   "execution_count": 6,
   "metadata": {},
   "outputs": [
    {
     "name": "stderr",
     "output_type": "stream",
     "text": [
      "WARNING:root:5 has no solution\n"
     ]
    }
   ],
   "source": [
    "add(999) # 999 clock"
   ]
  },
  {
   "cell_type": "code",
   "execution_count": 7,
   "metadata": {},
   "outputs": [
    {
     "data": {
      "text/html": [
       "<table><thead>\n",
       "<tr><th>n</th><th style=\"text-align:right;\">2018</th><th style=\"text-align:right;\">4444</th><th style=\"text-align:right;\">123456789</th><th style=\"text-align:right;\">999</th></tr>\n",
       "</thead>\n",
       "<tr><td style=\"text-align:right;\">0</td><td>$218 \\cdot 0$</td><td>$44-44$</td><td>$1234567^8^{-9}$</td><td>$\\left(9-9\\right)9$</td></tr>\n",
       "<tr><td style=\"text-align:right;\">1</td><td>$218^0$</td><td>$\\frac{4+4-4}{4}$</td><td>$1+2345678^{-9}$</td><td>$\\frac{\\frac{9}{\\sqrt{9}}}{\\sqrt{9}}$</td></tr>\n",
       "<tr><td style=\"text-align:right;\">2</td><td>$20-18$</td><td>$\\left(4+4-4\\right)-\\sqrt{4}$</td><td>$-\\left(\\left(1+234567^{-8}\\right)-\\sqrt{9}\\right)$</td><td>$\\frac{9+9}{9}$</td></tr>\n",
       "<tr><td style=\"text-align:right;\">3</td><td>$2+18^0$</td><td>$\\frac{4+4+4}{4}$</td><td>$1234567^{-8}+\\sqrt{9}$</td><td>$\\left(9+\\sqrt{9}\\right)-9$</td></tr>\n",
       "<tr><td style=\"text-align:right;\">4</td><td>$2+10-8$</td><td>$\\left(4+4-\\sqrt{4}\\right)-\\sqrt{4}$</td><td>$1+234567^{-8}+\\sqrt{9}$</td><td>$\\frac{9+\\sqrt{9}}{\\sqrt{9}}$</td></tr>\n",
       "<tr><td style=\"text-align:right;\">5</td><td>$\\frac{10\\sqrt{2}}{\\sqrt{8}}$</td><td>$\\frac{4+4+\\sqrt{4}}{\\sqrt{4}}$</td><td>$\\frac{12+3+4567^{-8}}{\\sqrt{9}}$</td><td>&nbsp;</td></tr>\n",
       "<tr><td style=\"text-align:right;\">6</td><td>$\\left(0+\\sqrt{18}\\right)\\sqrt{2}$</td><td>$\\left(4+4+\\sqrt{4}\\right)-4$</td><td>$1+2+3+45678^{-9}$</td><td>$\\frac{9+9}{\\sqrt{9}}$</td></tr>\n",
       "<tr><td style=\"text-align:right;\">7</td><td>$\\left(0+\\sqrt{81}\\right)-2$</td><td>$\\frac{44}{4}-4$</td><td>$-\\left(1+23+45+6+7-89\\right)$</td><td>&nbsp;</td></tr>\n",
       "<tr><td style=\"text-align:right;\">8</td><td>$21 \\cdot 0+8$</td><td>$4+4+4-4$</td><td>$-\\left(\\left(1+234567^{-8}\\right)-9\\right)$</td><td>$9+\\frac{9}{-9}$</td></tr>\n",
       "<tr><td style=\"text-align:right;\">9</td><td>$0+\\frac{18}{2}$</td><td>$\\frac{44}{4}-\\sqrt{4}$</td><td>$1234567^{-8}+9$</td><td>$9+9-9$</td></tr>\n",
       "<tr><td style=\"text-align:right;\">10</td><td>$2+0+1 \\cdot 8$</td><td>$\\frac{44-4}{4}$</td><td>$1+234567^{-8}+9$</td><td>$9+\\frac{9}{9}$</td></tr>\n",
       "<tr><td style=\"text-align:right;\">11</td><td>$2+0+\\sqrt{81}$</td><td>$\\frac{\\frac{44}{\\sqrt{4}}}{\\sqrt{4}}$</td><td>$1+2+34+56+7-89$</td><td>$\\frac{99}{9}$</td></tr>\n",
       "<tr><td style=\"text-align:right;\">12</td><td>$12+0 \\cdot 8$</td><td>$\\frac{4+44}{4}$</td><td>$12+345678^{-9}$</td><td>$9+\\frac{9}{\\sqrt{9}}$</td></tr>\n",
       "<tr><td style=\"text-align:right;\">13</td><td>$20+1-8$</td><td>$\\frac{44}{4}+\\sqrt{4}$</td><td>$\\frac{12+34+56+7+8}{9}$</td><td>&nbsp;</td></tr>\n",
       "<tr><td style=\"text-align:right;\">14</td><td>$10+\\frac{8}{2}$</td><td>$4+4+4+\\sqrt{4}$</td><td>$\\frac{12+34+5+67+8}{9}$</td><td>&nbsp;</td></tr>\n",
       "<tr><td style=\"text-align:right;\">15</td><td>$\\frac{120}{8}$</td><td>$4+\\frac{44}{4}$</td><td>$12+3+45678^{-9}$</td><td>$9+\\sqrt{9}+\\sqrt{9}$</td></tr>\n",
       "<tr><td style=\"text-align:right;\">16</td><td>$0+18-2$</td><td>$4+4+4+4$</td><td>$\\frac{1+23+45+67+8}{9}$</td><td>&nbsp;</td></tr>\n",
       "<tr><td style=\"text-align:right;\">17</td><td>$0+2 \\cdot 8+1$</td><td>&nbsp;</td><td>$\\frac{1+23+45+6+78}{9}$</td><td>&nbsp;</td></tr>\n",
       "<tr><td style=\"text-align:right;\">18</td><td>$28-10$</td><td>$\\frac{44}{\\sqrt{4}}-4$</td><td>$12+3+4567^{-8}+\\sqrt{9}$</td><td>$\\left(9-\\sqrt{9}\\right)\\sqrt{9}$</td></tr>\n",
       "<tr><td style=\"text-align:right;\">19</td><td>$18+2^0$</td><td>&nbsp;</td><td>$12+3+4+5678^{-9}$</td><td>&nbsp;</td></tr>\n",
       "<tr><td style=\"text-align:right;\">20</td><td>$2+0+18$</td><td>$\\frac{44-4}{\\sqrt{4}}$</td><td>$\\frac{12+34+56+78}{9}$</td><td>&nbsp;</td></tr>\n",
       "<tr><td style=\"text-align:right;\">21</td><td>$21+0 \\cdot 8$</td><td>$\\frac{44-\\sqrt{4}}{\\sqrt{4}}$</td><td>$12+34567^{-8}+9$</td><td>$9+9+\\sqrt{9}$</td></tr>\n",
       "<tr><td style=\"text-align:right;\">22</td><td>$21+8^0$</td><td>$\\frac{44\\sqrt{4}}{4}$</td><td>$\\frac{123+4+56+7+8}{9}$</td><td>&nbsp;</td></tr>\n",
       "<tr><td style=\"text-align:right;\">23</td><td>&nbsp;</td><td>$\\frac{44+\\sqrt{4}}{\\sqrt{4}}$</td><td>$\\frac{123+4+5+67+8}{9}$</td><td>&nbsp;</td></tr>\n",
       "<tr><td style=\"text-align:right;\">24</td><td>$\\left(2+0+1\\right)8$</td><td>$\\frac{4+44}{\\sqrt{4}}$</td><td>$1+23+45678^{-9}$</td><td>$9\\sqrt{9}-\\sqrt{9}$</td></tr>\n",
       "<tr><td style=\"text-align:right;\">25</td><td>&nbsp;</td><td>$\\left(4+\\frac{4}{4}\\right)^\\sqrt{4}$</td><td>$\\left(1+23+4+567^{-8}\\right)-\\sqrt{9}$</td><td>&nbsp;</td></tr>\n",
       "<tr><td style=\"text-align:right;\">26</td><td>$10+2 \\cdot 8$</td><td>$4+\\frac{44}{\\sqrt{4}}$</td><td>$\\left(12+3+4+5+6+7-8\\right)-\\sqrt{9}$</td><td>&nbsp;</td></tr>\n",
       "<tr><td style=\"text-align:right;\">27</td><td>$20-1+8$</td><td>&nbsp;</td><td>$\\frac{123+45+67+8}{9}$</td><td>$9+9+9$</td></tr>\n",
       "<tr><td style=\"text-align:right;\">28</td><td>$20+1 \\cdot 8$</td><td>$44+4\\left(-4\\right)$</td><td>$\\frac{123+45+6+78}{9}$</td><td>&nbsp;</td></tr>\n",
       "<tr><td style=\"text-align:right;\">29</td><td>$20+\\sqrt{81}$</td><td>&nbsp;</td><td>$\\frac{123+4+56+78}{9}$</td><td>&nbsp;</td></tr>\n",
       "<tr><td style=\"text-align:right;\">30</td><td>&nbsp;</td><td>&nbsp;</td><td>$-\\left(\\left(12+34+5+6-78\\right)-9\\right)$</td><td>$9\\sqrt{9}+\\sqrt{9}$</td></tr>\n",
       "<tr><td style=\"text-align:right;\">31</td><td>&nbsp;</td><td>&nbsp;</td><td>$1+23+4+567^{-8}+\\sqrt{9}$</td><td>&nbsp;</td></tr>\n",
       "<tr><td style=\"text-align:right;\">32</td><td>&nbsp;</td><td>&nbsp;</td><td>$\\frac{123+45+6-78}{\\sqrt{9}}$</td><td>&nbsp;</td></tr>\n",
       "<tr><td style=\"text-align:right;\">33</td><td>&nbsp;</td><td>&nbsp;</td><td>$12+34+56-78+9$</td><td>$\\frac{99}{\\sqrt{9}}$</td></tr>\n",
       "<tr><td style=\"text-align:right;\">34</td><td>&nbsp;</td><td>&nbsp;</td><td>$\\frac{1+234+56+7+8}{9}$</td><td>&nbsp;</td></tr>\n",
       "<tr><td style=\"text-align:right;\">35</td><td>&nbsp;</td><td>&nbsp;</td><td>$\\frac{123+4+56-78}{\\sqrt{9}}$</td><td>&nbsp;</td></tr>\n",
       "<tr><td style=\"text-align:right;\">36</td><td>$0+18 \\cdot 2$</td><td>$44-4-4$</td><td>$\\left(12+34567^{-8}\\right)\\sqrt{9}$</td><td>$9+9\\sqrt{9}$</td></tr>\n",
       "<tr><td style=\"text-align:right;\">37</td><td>&nbsp;</td><td>&nbsp;</td><td>$1+2+34+5678^{-9}$</td><td>&nbsp;</td></tr>\n",
       "<tr><td style=\"text-align:right;\">38</td><td>$20+18$</td><td>$44-4-\\sqrt{4}$</td><td>$12+3+45+67-89$</td><td>&nbsp;</td></tr>\n",
       "<tr><td style=\"text-align:right;\">39</td><td>$\\frac{80}{2}-1$</td><td>&nbsp;</td><td>$\\frac{12+34+56+7+8}{\\sqrt{9}}$</td><td>&nbsp;</td></tr>\n",
       "<tr><td style=\"text-align:right;\">40</td><td>$\\frac{10}{2}8$</td><td>$44-\\sqrt{4}-\\sqrt{4}$</td><td>$1+2+34+567^{-8}+\\sqrt{9}$</td><td>&nbsp;</td></tr>\n",
       "<tr><td style=\"text-align:right;\">41</td><td>$1+\\frac{80}{2}$</td><td>&nbsp;</td><td>$\\frac{123+4567^{-8}}{\\sqrt{9}}$</td><td>&nbsp;</td></tr>\n",
       "<tr><td style=\"text-align:right;\">42</td><td>&nbsp;</td><td>$\\left(44+\\sqrt{4}\\right)-4$</td><td>$\\frac{12+34+5+67+8}{\\sqrt{9}}$</td><td>&nbsp;</td></tr>\n",
       "<tr><td style=\"text-align:right;\">43</td><td>&nbsp;</td><td>$44+\\frac{4}{-4}$</td><td>$\\left(12+34+567^{-8}\\right)-\\sqrt{9}$</td><td>&nbsp;</td></tr>\n",
       "<tr><td style=\"text-align:right;\">44</td><td>&nbsp;</td><td>$4+44-4$</td><td>$\\frac{123+4+5+67^{-8}}{\\sqrt{9}}$</td><td>&nbsp;</td></tr>\n",
       "<tr><td style=\"text-align:right;\">45</td><td>&nbsp;</td><td>$44+\\frac{4}{4}$</td><td>$\\left(12+3+4567^{-8}\\right)\\sqrt{9}$</td><td>&nbsp;</td></tr>\n",
       "<tr><td style=\"text-align:right;\">46</td><td>&nbsp;</td><td>$4+44-\\sqrt{4}$</td><td>$12+34+5678^{-9}$</td><td>&nbsp;</td></tr>\n",
       "<tr><td style=\"text-align:right;\">47</td><td>&nbsp;</td><td>&nbsp;</td><td>$1+23+45+67-89$</td><td>&nbsp;</td></tr>\n",
       "<tr><td style=\"text-align:right;\">48</td><td>&nbsp;</td><td>$44+\\sqrt{4}+\\sqrt{4}$</td><td>$\\frac{12+345+67+8}{9}$</td><td>&nbsp;</td></tr>\n",
       "<tr><td style=\"text-align:right;\">49</td><td>$\\left(0+1-8\\right)^2$</td><td>&nbsp;</td><td>$\\frac{12+345+6+78}{9}$</td><td>&nbsp;</td></tr>\n",
       "<tr><td style=\"text-align:right;\">50</td><td>&nbsp;</td><td>$4+44+\\sqrt{4}$</td><td>$1+2+34+5+6+7-8+\\sqrt{9}$</td><td>&nbsp;</td></tr>\n",
       "<tr><td style=\"text-align:right;\">51</td><td>&nbsp;</td><td>&nbsp;</td><td>$12+34+5+678^{-9}$</td><td>&nbsp;</td></tr>\n",
       "<tr><td style=\"text-align:right;\">52</td><td>&nbsp;</td><td>$4+4+44$</td><td>$-\\left(12+3+4+5+6+7-89\\right)$</td><td>&nbsp;</td></tr>\n",
       "<tr><td style=\"text-align:right;\">53</td><td>&nbsp;</td><td>&nbsp;</td><td>$\\left(12+34+5+6+7-8\\right)-\\sqrt{9}$</td><td>&nbsp;</td></tr>\n",
       "<tr><td style=\"text-align:right;\">54</td><td>$\\frac{108}{2}$</td><td>&nbsp;</td><td>$\\frac{1+23+4+56+78}{\\sqrt{9}}$</td><td>$\\left(9+9\\right)\\sqrt{9}$</td></tr>\n",
       "<tr><td style=\"text-align:right;\">55</td><td>&nbsp;</td><td>&nbsp;</td><td>$12+34+567^{-8}+9$</td><td>&nbsp;</td></tr>\n",
       "<tr><td style=\"text-align:right;\">56</td><td>&nbsp;</td><td>&nbsp;</td><td>$\\frac{123+45+67^{-8}}{\\sqrt{9}}$</td><td>&nbsp;</td></tr>\n",
       "<tr><td style=\"text-align:right;\">57</td><td>&nbsp;</td><td>&nbsp;</td><td>$\\frac{1+2+34+56+78}{\\sqrt{9}}$</td><td>&nbsp;</td></tr>\n",
       "<tr><td style=\"text-align:right;\">58</td><td>&nbsp;</td><td>&nbsp;</td><td>&nbsp;</td><td>&nbsp;</td></tr>\n",
       "<tr><td style=\"text-align:right;\">59</td><td>$80-21$</td><td>&nbsp;</td><td>$12+34+5+6+7-8+\\sqrt{9}$</td><td>&nbsp;</td></tr>\n",
       "<tr><td style=\"text-align:right;\">60</td><td>&nbsp;</td><td>$44+4 \\cdot 4$</td><td>$\\frac{12+34+56+78}{\\sqrt{9}}$</td><td>&nbsp;</td></tr>\n",
       "<tr><td style=\"text-align:right;\">61</td><td>$81-20$</td><td>&nbsp;</td><td>$\\frac{12+3+456+78}{9}$</td><td>&nbsp;</td></tr>\n",
       "<tr><td style=\"text-align:right;\">62</td><td>&nbsp;</td><td>&nbsp;</td><td>$\\frac{1+23+456+78}{9}$</td><td>&nbsp;</td></tr>\n",
       "<tr><td style=\"text-align:right;\">63</td><td>$\\left(0+8^2\\right)-1$</td><td>&nbsp;</td><td>$\\frac{123+45+6+7+8}{\\sqrt{9}}$</td><td>&nbsp;</td></tr>\n",
       "<tr><td style=\"text-align:right;\">64</td><td>$\\left(10-2\\right)8$</td><td>&nbsp;</td><td>$1+23+45+67+8\\left(-9\\right)$</td><td>&nbsp;</td></tr>\n",
       "<tr><td style=\"text-align:right;\">65</td><td>$0+1+8^2$</td><td>$\\frac{4+4^4}{4}$</td><td>$12+34+5+6+7-8+9$</td><td>&nbsp;</td></tr>\n",
       "<tr><td style=\"text-align:right;\">66</td><td>&nbsp;</td><td>&nbsp;</td><td>$\\frac{123+456+7+8}{9}$</td><td>&nbsp;</td></tr>\n",
       "<tr><td style=\"text-align:right;\">67</td><td>&nbsp;</td><td>&nbsp;</td><td>$\\frac{1+23+4+567+8}{9}$</td><td>&nbsp;</td></tr>\n",
       "<tr><td style=\"text-align:right;\">68</td><td>$80-12$</td><td>&nbsp;</td><td>$\\frac{1+2+34+567+8}{9}$</td><td>&nbsp;</td></tr>\n",
       "<tr><td style=\"text-align:right;\">69</td><td>&nbsp;</td><td>&nbsp;</td><td>$\\frac{12+34+567+8}{9}$</td><td>&nbsp;</td></tr>\n",
       "<tr><td style=\"text-align:right;\">70</td><td>&nbsp;</td><td>&nbsp;</td><td>$1+23+4+5+6+7+8\\sqrt{9}$</td><td>&nbsp;</td></tr>\n",
       "<tr><td style=\"text-align:right;\">71</td><td>&nbsp;</td><td>&nbsp;</td><td>$\\frac{1+234+56-78}{\\sqrt{9}}$</td><td>&nbsp;</td></tr>\n",
       "<tr><td style=\"text-align:right;\">72</td><td>$82-10$</td><td>&nbsp;</td><td>$\\left(12+34+56-78\\right)\\sqrt{9}$</td><td>$9 \\cdot 9-9$</td></tr>\n",
       "<tr><td style=\"text-align:right;\">73</td><td>&nbsp;</td><td>&nbsp;</td><td>$\\frac{123+456+78}{9}$</td><td>&nbsp;</td></tr>\n",
       "<tr><td style=\"text-align:right;\">74</td><td>$10+8^2$</td><td>&nbsp;</td><td>$12+3+45+6+7-8+9$</td><td>&nbsp;</td></tr>\n",
       "<tr><td style=\"text-align:right;\">75</td><td>&nbsp;</td><td>&nbsp;</td><td>$1+23+45+6+78^{-9}$</td><td>&nbsp;</td></tr>\n",
       "<tr><td style=\"text-align:right;\">76</td><td>&nbsp;</td><td>&nbsp;</td><td>&nbsp;</td><td>&nbsp;</td></tr>\n",
       "<tr><td style=\"text-align:right;\">77</td><td>$80-2-1$</td><td>&nbsp;</td><td>$1+23+45+6+7-8+\\sqrt{9}$</td><td>&nbsp;</td></tr>\n",
       "<tr><td style=\"text-align:right;\">78</td><td>$10 \\cdot 8-2$</td><td>&nbsp;</td><td>$\\frac{123+4+567+8}{9}$</td><td>$9 \\cdot 9-\\sqrt{9}$</td></tr>\n",
       "<tr><td style=\"text-align:right;\">79</td><td>$0+81-2$</td><td>&nbsp;</td><td>$\\frac{1+23+4+5+678}{9}$</td><td>&nbsp;</td></tr>\n",
       "<tr><td style=\"text-align:right;\">80</td><td>&nbsp;</td><td>$\\left(44-4\\right)\\sqrt{4}$</td><td>$\\frac{1+2+34+5+678}{9}$</td><td>&nbsp;</td></tr>\n",
       "<tr><td style=\"text-align:right;\">81</td><td>$2+80-1$</td><td>$\\left(4+\\frac{4}{-4}\\right)^4$</td><td>$\\frac{12+34+5+678}{9}$</td><td>$9\\sqrt{9}\\sqrt{9}$</td></tr>\n",
       "<tr><td style=\"text-align:right;\">82</td><td>$2+10 \\cdot 8$</td><td>&nbsp;</td><td>$\\frac{12+3+45+678}{9}$</td><td>&nbsp;</td></tr>\n",
       "<tr><td style=\"text-align:right;\">83</td><td>$2+0+81$</td><td>&nbsp;</td><td>$\\frac{1+23+45+678}{9}$</td><td>&nbsp;</td></tr>\n",
       "<tr><td style=\"text-align:right;\">84</td><td>&nbsp;</td><td>$\\left(44-\\sqrt{4}\\right)\\sqrt{4}$</td><td>$\\frac{123+45+6+78}{\\sqrt{9}}$</td><td>$9 \\cdot 9+\\sqrt{9}$</td></tr>\n",
       "<tr><td style=\"text-align:right;\">85</td><td>&nbsp;</td><td>&nbsp;</td><td>$123+4+5+6+7\\left(-8\\right)+\\sqrt{9}$</td><td>&nbsp;</td></tr>\n",
       "<tr><td style=\"text-align:right;\">86</td><td>&nbsp;</td><td>$44\\sqrt{4}-\\sqrt{4}$</td><td>$1+23+4+56+7-8+\\sqrt{9}$</td><td>&nbsp;</td></tr>\n",
       "<tr><td style=\"text-align:right;\">87</td><td>&nbsp;</td><td>&nbsp;</td><td>$\\frac{123+4+56+78}{\\sqrt{9}}$</td><td>&nbsp;</td></tr>\n",
       "<tr><td style=\"text-align:right;\">88</td><td>&nbsp;</td><td>$44+44$</td><td>$12+34+5+6+7+8\\sqrt{9}$</td><td>&nbsp;</td></tr>\n",
       "<tr><td style=\"text-align:right;\">89</td><td>&nbsp;</td><td>&nbsp;</td><td>$\\left(1+2+34+56+7-8\\right)-\\sqrt{9}$</td><td>&nbsp;</td></tr>\n",
       "<tr><td style=\"text-align:right;\">90</td><td>$\\frac{180}{2}$</td><td>$44\\sqrt{4}+\\sqrt{4}$</td><td>$\\frac{1+234+567+8}{9}$</td><td>$99-9$</td></tr>\n",
       "<tr><td style=\"text-align:right;\">91</td><td>&nbsp;</td><td>&nbsp;</td><td>$123+4+5+6+7\\left(-8\\right)+9$</td><td>&nbsp;</td></tr>\n",
       "<tr><td style=\"text-align:right;\">92</td><td>$12+80$</td><td>$4+44\\sqrt{4}$</td><td>$123+45+6+7-89$</td><td>&nbsp;</td></tr>\n",
       "<tr><td style=\"text-align:right;\">93</td><td>&nbsp;</td><td>&nbsp;</td><td>$\\left(123+45+6-78\\right)-\\sqrt{9}$</td><td>&nbsp;</td></tr>\n",
       "<tr><td style=\"text-align:right;\">94</td><td>$102-8$</td><td>&nbsp;</td><td>$\\frac{123+45+678}{9}$</td><td>&nbsp;</td></tr>\n",
       "<tr><td style=\"text-align:right;\">95</td><td>&nbsp;</td><td>&nbsp;</td><td>$\\frac{12+345+6-78}{\\sqrt{9}}$</td><td>&nbsp;</td></tr>\n",
       "<tr><td style=\"text-align:right;\">96</td><td>$\\left(2+10\\right)8$</td><td>$\\left(4+44\\right)\\sqrt{4}$</td><td>$\\left(123+4+56-78\\right)-9$</td><td>$99-\\sqrt{9}$</td></tr>\n",
       "<tr><td style=\"text-align:right;\">97</td><td>&nbsp;</td><td>&nbsp;</td><td>$12+3+45+6+7+8\\sqrt{9}$</td><td>&nbsp;</td></tr>\n",
       "<tr><td style=\"text-align:right;\">98</td><td>&nbsp;</td><td>&nbsp;</td><td>$\\left(12+34+56+7-8\\right)-\\sqrt{9}$</td><td>&nbsp;</td></tr>\n",
       "<tr><td style=\"text-align:right;\">99</td><td>&nbsp;</td><td>&nbsp;</td><td>$123+45+6-78+\\sqrt{9}$</td><td>&nbsp;</td></tr>\n",
       "<tr><td style=\"text-align:right;\">100</td><td>&nbsp;</td><td>$\\left(4+4+\\sqrt{4}\\right)^\\sqrt{4}$</td><td>$1+2+3+4+5+6+7+8 \\cdot 9$</td><td>&nbsp;</td></tr>\n",
       "</table>\n"
      ],
      "text/plain": [
       "Table(len=101,titles=['n', 2018, 4444, 123456789, 999],data=[[0, 218*0, 44-44, 1234567**8**(-9), (9-9)*9], [1, 218**0, (4+4-4)/4, 1+2345678**(-9), 9/sqrt(9)/sqrt(9)], [2, 20-18, (4+4-4)-sqrt(4), -((1+234567**(-8))-sqrt(9)), (9+9)/9], [3, 2+18**0, (4+4+4)/4, 1234567**(-8)+sqrt(9), (9+sqrt(9))-9], [4, 2+10-8, (4+4-sqrt(4))-sqrt(4), 1+234567**(-8)+sqrt(9), (9+sqrt(9))/sqrt(9)]])"
      ]
     },
     "execution_count": 7,
     "metadata": {},
     "output_type": "execute_result"
    }
   ],
   "source": [
    "t"
   ]
  },
  {
   "cell_type": "code",
   "execution_count": 8,
   "metadata": {
    "collapsed": true
   },
   "outputs": [],
   "source": [
    "from friedman import Monadic, functions"
   ]
  },
  {
   "cell_type": "code",
   "execution_count": 9,
   "metadata": {},
   "outputs": [
    {
     "name": "stdout",
     "output_type": "stream",
     "text": [
      "SortedDict_keys(['acos', 'acosh', 'asin', 'asinh', 'atan', 'atanh', 'cos', 'cosh', 'exp', 'factorial', 'factorial2', 'gamma', 'log10', 'log2', 'modf', 'sin', 'sinh', 'sqrt', 'tan', 'tanh'])\n"
     ]
    }
   ],
   "source": [
    "print(functions.keys()) #list allowed functions"
   ]
  },
  {
   "cell_type": "code",
   "execution_count": 10,
   "metadata": {},
   "outputs": [
    {
     "data": {
      "text/html": [
       "0 = $\\arccos\\left(1\\right)$"
      ],
      "text/plain": [
       "<IPython.core.display.HTML object>"
      ]
     },
     "metadata": {},
     "output_type": "display_data"
    },
    {
     "data": {
      "text/html": [
       "0.3010299956639812 = $\\log_{10}\\left(2\\right)$"
      ],
      "text/plain": [
       "<IPython.core.display.HTML object>"
      ]
     },
     "metadata": {},
     "output_type": "display_data"
    },
    {
     "data": {
      "text/html": [
       "0.4161468365471424 = $-\\cos\\left(2\\right)$"
      ],
      "text/plain": [
       "<IPython.core.display.HTML object>"
      ]
     },
     "metadata": {},
     "output_type": "display_data"
    },
    {
     "data": {
      "text/html": [
       "0.5403023058681398 = $\\cos\\left(1\\right)$"
      ],
      "text/plain": [
       "<IPython.core.display.HTML object>"
      ]
     },
     "metadata": {},
     "output_type": "display_data"
    },
    {
     "data": {
      "text/html": [
       "0.7615941559557649 = $\\tanh\\left(1\\right)$"
      ],
      "text/plain": [
       "<IPython.core.display.HTML object>"
      ]
     },
     "metadata": {},
     "output_type": "display_data"
    },
    {
     "data": {
      "text/html": [
       "0.7853981633974483 = $\\arctan\\left(1\\right)$"
      ],
      "text/plain": [
       "<IPython.core.display.HTML object>"
      ]
     },
     "metadata": {},
     "output_type": "display_data"
    },
    {
     "data": {
      "text/html": [
       "0.8414709848078965 = $\\sin\\left(1\\right)$"
      ],
      "text/plain": [
       "<IPython.core.display.HTML object>"
      ]
     },
     "metadata": {},
     "output_type": "display_data"
    },
    {
     "data": {
      "text/html": [
       "0.8813735870195429 = $\\sinh^{-1}\\left(1\\right)$"
      ],
      "text/plain": [
       "<IPython.core.display.HTML object>"
      ]
     },
     "metadata": {},
     "output_type": "display_data"
    },
    {
     "data": {
      "text/html": [
       "0.9092974268256817 = $\\sin\\left(2\\right)$"
      ],
      "text/plain": [
       "<IPython.core.display.HTML object>"
      ]
     },
     "metadata": {},
     "output_type": "display_data"
    },
    {
     "data": {
      "text/html": [
       "0.9640275800758169 = $\\tanh\\left(2\\right)$"
      ],
      "text/plain": [
       "<IPython.core.display.HTML object>"
      ]
     },
     "metadata": {},
     "output_type": "display_data"
    },
    {
     "data": {
      "text/html": [
       "1 = $\\Gamma\\left(2\\right)$"
      ],
      "text/plain": [
       "<IPython.core.display.HTML object>"
      ]
     },
     "metadata": {},
     "output_type": "display_data"
    },
    {
     "data": {
      "text/html": [
       "1.1071487177940904 = $\\arctan\\left(2\\right)$"
      ],
      "text/plain": [
       "<IPython.core.display.HTML object>"
      ]
     },
     "metadata": {},
     "output_type": "display_data"
    },
    {
     "data": {
      "text/html": [
       "1.1752011936438014 = $\\sinh\\left(1\\right)$"
      ],
      "text/plain": [
       "<IPython.core.display.HTML object>"
      ]
     },
     "metadata": {},
     "output_type": "display_data"
    },
    {
     "data": {
      "text/html": [
       "1.3169578969248166 = $\\cosh^{-1}\\left(2\\right)$"
      ],
      "text/plain": [
       "<IPython.core.display.HTML object>"
      ]
     },
     "metadata": {},
     "output_type": "display_data"
    },
    {
     "data": {
      "text/html": [
       "1.4142135623730951 = $\\sqrt{2}$"
      ],
      "text/plain": [
       "<IPython.core.display.HTML object>"
      ]
     },
     "metadata": {},
     "output_type": "display_data"
    },
    {
     "data": {
      "text/html": [
       "1.4436354751788103 = $\\sinh^{-1}\\left(2\\right)$"
      ],
      "text/plain": [
       "<IPython.core.display.HTML object>"
      ]
     },
     "metadata": {},
     "output_type": "display_data"
    },
    {
     "data": {
      "text/html": [
       "1.5430806348152437 = $\\cosh\\left(1\\right)$"
      ],
      "text/plain": [
       "<IPython.core.display.HTML object>"
      ]
     },
     "metadata": {},
     "output_type": "display_data"
    },
    {
     "data": {
      "text/html": [
       "1.5574077246549023 = $\\tan\\left(1\\right)$"
      ],
      "text/plain": [
       "<IPython.core.display.HTML object>"
      ]
     },
     "metadata": {},
     "output_type": "display_data"
    },
    {
     "data": {
      "text/html": [
       "1.5707963267948966 = $\\arcsin\\left(1\\right)$"
      ],
      "text/plain": [
       "<IPython.core.display.HTML object>"
      ]
     },
     "metadata": {},
     "output_type": "display_data"
    },
    {
     "data": {
      "text/html": [
       "2 = $2$"
      ],
      "text/plain": [
       "<IPython.core.display.HTML object>"
      ]
     },
     "metadata": {},
     "output_type": "display_data"
    },
    {
     "data": {
      "text/html": [
       "2.185039863261519 = $-\\tan\\left(2\\right)$"
      ],
      "text/plain": [
       "<IPython.core.display.HTML object>"
      ]
     },
     "metadata": {},
     "output_type": "display_data"
    },
    {
     "data": {
      "text/html": [
       "2.718281828459045 = $e^{1}$"
      ],
      "text/plain": [
       "<IPython.core.display.HTML object>"
      ]
     },
     "metadata": {},
     "output_type": "display_data"
    },
    {
     "data": {
      "text/html": [
       "3.6268604078470186 = $\\sinh\\left(2\\right)$"
      ],
      "text/plain": [
       "<IPython.core.display.HTML object>"
      ]
     },
     "metadata": {},
     "output_type": "display_data"
    },
    {
     "data": {
      "text/html": [
       "3.7621956910836314 = $\\cosh\\left(2\\right)$"
      ],
      "text/plain": [
       "<IPython.core.display.HTML object>"
      ]
     },
     "metadata": {},
     "output_type": "display_data"
    },
    {
     "data": {
      "text/html": [
       "7.38905609893065 = $e^{2}$"
      ],
      "text/plain": [
       "<IPython.core.display.HTML object>"
      ]
     },
     "metadata": {},
     "output_type": "display_data"
    }
   ],
   "source": [
    "m=Monadic(0,functions)+Monadic(1,functions)+Monadic(2,functions)\n",
    "for x in m.items():\n",
    "    h(x[0],'=',x[1])"
   ]
  }
 ],
 "metadata": {
  "kernelspec": {
   "display_name": "Python 3",
   "language": "python",
   "name": "python3"
  },
  "language_info": {
   "codemirror_mode": {
    "name": "ipython",
    "version": 3
   },
   "file_extension": ".py",
   "mimetype": "text/x-python",
   "name": "python",
   "nbconvert_exporter": "python",
   "pygments_lexer": "ipython3",
   "version": "3.6.3"
  }
 },
 "nbformat": 4,
 "nbformat_minor": 2
}
