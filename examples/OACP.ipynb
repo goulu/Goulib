{
  "nbformat": 4,
  "nbformat_minor": 0,
  "metadata": {
    "colab": {
      "name": "OACP.ipynb",
      "version": "0.3.2",
      "provenance": [],
      "include_colab_link": true
    },
    "kernelspec": {
      "display_name": "Python 3",
      "language": "python",
      "name": "python3"
    }
  },
  "cells": [
    {
      "cell_type": "markdown",
      "metadata": {
        "id": "view-in-github",
        "colab_type": "text"
      },
      "source": [
        "<a href=\"https://colab.research.google.com/github/goulu/Goulib/blob/develop/examples/OACP.ipynb\" target=\"_parent\"><img src=\"https://colab.research.google.com/assets/colab-badge.svg\" alt=\"Open In Colab\"/></a>"
      ]
    },
    {
      "metadata": {
        "id": "ZWsMit8FerhS",
        "colab_type": "text"
      },
      "cell_type": "markdown",
      "source": [
        "# Optimisation de l'Avance des Coureurs à Pied"
      ]
    },
    {
      "metadata": {
        "id": "KeV-W3LHerhV",
        "colab_type": "text"
      },
      "cell_type": "markdown",
      "source": [
        "Ph. Guglielmetti, 2019"
      ]
    },
    {
      "metadata": {
        "id": "NaBjsqaJerhX",
        "colab_type": "text"
      },
      "cell_type": "markdown",
      "source": [
        "-       De la longueur du parcours commun en début de course : 2km\n",
        "-       De la longueur du parcours commun en fin de course : 2km (avec le dernier kilomètre = ok pour dépassement)\n",
        "-       Du temps min et max des marcheurs 5 km (min 41 :00, max 01 :20 :00)\n",
        "-       Du temps min et max des coureurs 5 km (min 21 :00, max 48 :00)\n",
        "-       Du temps min et max des marcheurs 11 km (min 01 :29 :00, max 02 :21 :00)\n",
        "-       Du temps min et max des coureurs 11 km (min 44 :00, max 01 :59 :00)"
      ]
    },
    {
      "metadata": {
        "id": "1FncIUe-fkRe",
        "colab_type": "code",
        "colab": {
          "base_uri": "https://localhost:8080/",
          "height": 1003
        },
        "outputId": "1f8e7e7f-93a5-4456-d2b9-dcb71fea5a32"
      },
      "cell_type": "code",
      "source": [
        "# Install a pip package in the current Jupyter kernel\n",
        "import sys\n",
        "!{sys.executable} -m pip install Goulib"
      ],
      "execution_count": 1,
      "outputs": [
        {
          "output_type": "stream",
          "text": [
            "Requirement already satisfied: Goulib in /usr/local/lib/python3.6/dist-packages (2.0.3)\n",
            "Requirement already satisfied: scipy in /usr/local/lib/python3.6/dist-packages (from Goulib) (1.1.0)\n",
            "Requirement already satisfied: pint in /usr/local/lib/python3.6/dist-packages (from Goulib) (0.9)\n",
            "Requirement already satisfied: svg.path in /usr/local/lib/python3.6/dist-packages (from Goulib) (3.0)\n",
            "Requirement already satisfied: matplotlib>=2.0.0 in /usr/local/lib/python3.6/dist-packages (from Goulib) (3.0.3)\n",
            "Requirement already satisfied: nose in /usr/local/lib/python3.6/dist-packages (from Goulib) (1.3.7)\n",
            "Requirement already satisfied: ipython in /usr/local/lib/python3.6/dist-packages (from Goulib) (5.5.0)\n",
            "Requirement already satisfied: dxfwrite in /usr/local/lib/python3.6/dist-packages (from Goulib) (1.2.1)\n",
            "Requirement already satisfied: pillow>=4.3.0 in /usr/local/lib/python3.6/dist-packages (from Goulib) (5.4.1)\n",
            "Requirement already satisfied: graphviz in /usr/local/lib/python3.6/dist-packages (from Goulib) (0.10.1)\n",
            "Requirement already satisfied: dxfgrabber in /usr/local/lib/python3.6/dist-packages (from Goulib) (1.0.0)\n",
            "Requirement already satisfied: sortedcollections in /usr/local/lib/python3.6/dist-packages (from Goulib) (1.1.2)\n",
            "Requirement already satisfied: pydot in /usr/local/lib/python3.6/dist-packages (from Goulib) (1.3.0)\n",
            "Requirement already satisfied: sphinx in /usr/local/lib/python3.6/dist-packages (from Goulib) (1.8.5)\n",
            "Requirement already satisfied: pdfminer.six in /usr/local/lib/python3.6/dist-packages (from Goulib) (20181108)\n",
            "Requirement already satisfied: pydotplus in /usr/local/lib/python3.6/dist-packages (from Goulib) (2.0.2)\n",
            "Requirement already satisfied: lxml in /usr/local/lib/python3.6/dist-packages (from Goulib) (4.2.6)\n",
            "Requirement already satisfied: xlsxwriter in /usr/local/lib/python3.6/dist-packages (from Goulib) (1.1.5)\n",
            "Requirement already satisfied: tinycss in /usr/local/lib/python3.6/dist-packages (from Goulib) (0.4)\n",
            "Requirement already satisfied: networkx in /usr/local/lib/python3.6/dist-packages (from Goulib) (2.2)\n",
            "Requirement already satisfied: bitarray in /usr/local/lib/python3.6/dist-packages (from Goulib) (0.8.3)\n",
            "Requirement already satisfied: scikit-image in /usr/local/lib/python3.6/dist-packages (from Goulib) (0.13.1)\n",
            "Requirement already satisfied: xlrd in /usr/local/lib/python3.6/dist-packages (from Goulib) (1.1.0)\n",
            "Requirement already satisfied: numpy>=1.8.2 in /usr/local/lib/python3.6/dist-packages (from scipy->Goulib) (1.14.6)\n",
            "Requirement already satisfied: setuptools in /usr/local/lib/python3.6/dist-packages (from svg.path->Goulib) (40.8.0)\n",
            "Requirement already satisfied: cycler>=0.10 in /usr/local/lib/python3.6/dist-packages (from matplotlib>=2.0.0->Goulib) (0.10.0)\n",
            "Requirement already satisfied: kiwisolver>=1.0.1 in /usr/local/lib/python3.6/dist-packages (from matplotlib>=2.0.0->Goulib) (1.0.1)\n",
            "Requirement already satisfied: pyparsing!=2.0.4,!=2.1.2,!=2.1.6,>=2.0.1 in /usr/local/lib/python3.6/dist-packages (from matplotlib>=2.0.0->Goulib) (2.3.1)\n",
            "Requirement already satisfied: python-dateutil>=2.1 in /usr/local/lib/python3.6/dist-packages (from matplotlib>=2.0.0->Goulib) (2.5.3)\n",
            "Requirement already satisfied: simplegeneric>0.8 in /usr/local/lib/python3.6/dist-packages (from ipython->Goulib) (0.8.1)\n",
            "Requirement already satisfied: decorator in /usr/local/lib/python3.6/dist-packages (from ipython->Goulib) (4.4.0)\n",
            "Requirement already satisfied: pexpect; sys_platform != \"win32\" in /usr/local/lib/python3.6/dist-packages (from ipython->Goulib) (4.6.0)\n",
            "Requirement already satisfied: pickleshare in /usr/local/lib/python3.6/dist-packages (from ipython->Goulib) (0.7.5)\n",
            "Requirement already satisfied: traitlets>=4.2 in /usr/local/lib/python3.6/dist-packages (from ipython->Goulib) (4.3.2)\n",
            "Requirement already satisfied: prompt-toolkit<2.0.0,>=1.0.4 in /usr/local/lib/python3.6/dist-packages (from ipython->Goulib) (1.0.15)\n",
            "Requirement already satisfied: pygments in /usr/local/lib/python3.6/dist-packages (from ipython->Goulib) (2.1.3)\n",
            "Requirement already satisfied: sortedcontainers in /usr/local/lib/python3.6/dist-packages (from sortedcollections->Goulib) (2.1.0)\n",
            "Requirement already satisfied: packaging in /usr/local/lib/python3.6/dist-packages (from sphinx->Goulib) (19.0)\n",
            "Requirement already satisfied: six>=1.5 in /usr/local/lib/python3.6/dist-packages (from sphinx->Goulib) (1.11.0)\n",
            "Requirement already satisfied: requests>=2.0.0 in /usr/local/lib/python3.6/dist-packages (from sphinx->Goulib) (2.18.4)\n",
            "Requirement already satisfied: imagesize in /usr/local/lib/python3.6/dist-packages (from sphinx->Goulib) (1.1.0)\n",
            "Requirement already satisfied: alabaster<0.8,>=0.7 in /usr/local/lib/python3.6/dist-packages (from sphinx->Goulib) (0.7.12)\n",
            "Requirement already satisfied: docutils>=0.11 in /usr/local/lib/python3.6/dist-packages (from sphinx->Goulib) (0.14)\n",
            "Requirement already satisfied: snowballstemmer>=1.1 in /usr/local/lib/python3.6/dist-packages (from sphinx->Goulib) (1.2.1)\n",
            "Requirement already satisfied: babel!=2.0,>=1.3 in /usr/local/lib/python3.6/dist-packages (from sphinx->Goulib) (2.6.0)\n",
            "Requirement already satisfied: Jinja2>=2.3 in /usr/local/lib/python3.6/dist-packages (from sphinx->Goulib) (2.10)\n",
            "Requirement already satisfied: sphinxcontrib-websupport in /usr/local/lib/python3.6/dist-packages (from sphinx->Goulib) (1.1.0)\n",
            "Requirement already satisfied: pycryptodome in /usr/local/lib/python3.6/dist-packages (from pdfminer.six->Goulib) (3.8.0)\n",
            "Requirement already satisfied: PyWavelets>=0.4.0 in /usr/local/lib/python3.6/dist-packages (from scikit-image->Goulib) (1.0.2)\n",
            "Requirement already satisfied: ptyprocess>=0.5 in /usr/local/lib/python3.6/dist-packages (from pexpect; sys_platform != \"win32\"->ipython->Goulib) (0.6.0)\n",
            "Requirement already satisfied: ipython-genutils in /usr/local/lib/python3.6/dist-packages (from traitlets>=4.2->ipython->Goulib) (0.2.0)\n",
            "Requirement already satisfied: wcwidth in /usr/local/lib/python3.6/dist-packages (from prompt-toolkit<2.0.0,>=1.0.4->ipython->Goulib) (0.1.7)\n",
            "Requirement already satisfied: certifi>=2017.4.17 in /usr/local/lib/python3.6/dist-packages (from requests>=2.0.0->sphinx->Goulib) (2019.3.9)\n",
            "Requirement already satisfied: idna<2.7,>=2.5 in /usr/local/lib/python3.6/dist-packages (from requests>=2.0.0->sphinx->Goulib) (2.6)\n",
            "Requirement already satisfied: urllib3<1.23,>=1.21.1 in /usr/local/lib/python3.6/dist-packages (from requests>=2.0.0->sphinx->Goulib) (1.22)\n",
            "Requirement already satisfied: chardet<3.1.0,>=3.0.2 in /usr/local/lib/python3.6/dist-packages (from requests>=2.0.0->sphinx->Goulib) (3.0.4)\n",
            "Requirement already satisfied: pytz>=0a in /usr/local/lib/python3.6/dist-packages (from babel!=2.0,>=1.3->sphinx->Goulib) (2018.9)\n",
            "Requirement already satisfied: MarkupSafe>=0.23 in /usr/local/lib/python3.6/dist-packages (from Jinja2>=2.3->sphinx->Goulib) (1.1.1)\n"
          ],
          "name": "stdout"
        }
      ]
    },
    {
      "metadata": {
        "id": "5yRafz1XerhZ",
        "colab_type": "code",
        "colab": {}
      },
      "cell_type": "code",
      "source": [
        "from Goulib.drawing import Drawing, Group, Trans\n",
        "from Goulib.geom import Polygon\n",
        "from Goulib.notebook import *"
      ],
      "execution_count": 0,
      "outputs": []
    },
    {
      "metadata": {
        "id": "LjB6egjoerhe",
        "colab_type": "code",
        "colab": {}
      },
      "cell_type": "code",
      "source": [
        "track = [0, 2, -2, -1, -0.0001] # positions along the track, negative if relative to distance"
      ],
      "execution_count": 0,
      "outputs": []
    },
    {
      "metadata": {
        "id": "Cev1TkpCerhi",
        "colab_type": "code",
        "colab": {}
      },
      "cell_type": "code",
      "source": [
        "class Runner:\n",
        "    def __init__(self, name, dist, time):\n",
        "        self.name = name\n",
        "        self.dist = dist\n",
        "        self.time = time\n",
        "\n",
        "    def mark(self, pos=None):\n",
        "        ''' time when runner will be at pos'''\n",
        "        if pos is None: pos=self.dist\n",
        "        if pos < 0: pos = self.dist + pos\n",
        "        return self.time * pos / self.dist\n",
        "\n",
        "\n",
        "class Cat:\n",
        "    def __init__(self, name, dist, min, max, color):\n",
        "        self.min = Runner(name + ' min', dist, min)\n",
        "        self.max = Runner(name + ' max', dist, max)\n",
        "        self.color = color\n",
        "\n",
        "    def polygon(self, start=0):\n",
        "        res = Group()\n",
        "        from Goulib.itertools2 import groups\n",
        "        for a in groups(track, 2):\n",
        "            a, b = a[0], a[1]\n",
        "            o = 0 if a >= 0 else 5\n",
        "            s = 10\n",
        "            res.append(\n",
        "                Polygon([\n",
        "                    (start + self.min.mark(a), s * (a + o)),\n",
        "                    (start + self.max.mark(a), s * (a + o)),\n",
        "                    (start + self.max.mark(b), s * (b + o)),\n",
        "                    (start + self.min.mark(b), s * (b + o))\n",
        "                ]), color=self.color\n",
        "            )\n",
        "        return res\n",
        "\n",
        "    def time(self,start=0):\n",
        "        return start+self.max.mark()"
      ],
      "execution_count": 0,
      "outputs": []
    },
    {
      "metadata": {
        "id": "lB_D4_tOjesx",
        "colab_type": "code",
        "colab": {}
      },
      "cell_type": "code",
      "source": [
        "cat = [\n",
        "    Cat('course', 5, 21, 48,'red'), \n",
        "    Cat('course', 11, 44, 119,'green'), \n",
        "    Cat('marche', 5, 41, 80,'blue'), \n",
        "    Cat('marche', 11, 89, 141,'cyan'),\n",
        "]"
      ],
      "execution_count": 0,
      "outputs": []
    },
    {
      "metadata": {
        "id": "6AZfg7vVerhn",
        "colab_type": "code",
        "outputId": "f74251fb-b00f-4dbb-c085-288cf22d0529",
        "colab": {
          "base_uri": "https://localhost:8080/",
          "height": 566
        }
      },
      "cell_type": "code",
      "source": [
        "# la dernière ligne start=[...] écrase les précédents, pour expérimenter rapidement\n",
        "# faire [Ctrl-Return] pour recalculer\n",
        "\n",
        "start=[0,0,80,30] # V2\n",
        "start=[25,0,80,30] # V2 avec arrivée simultanée des coureurs plutôt que départ\n",
        "\n",
        "d=Drawing()\n",
        "for s,c in zip(start,cat):\n",
        "    d.append(c.polygon(s))\n",
        "print('running time %d minutes' % max([c.time(start[i]) for i,c in enumerate(cat)]))\n",
        "d"
      ],
      "execution_count": 20,
      "outputs": [
        {
          "output_type": "stream",
          "text": [
            "running time 171 minutes\n"
          ],
          "name": "stdout"
        },
        {
          "output_type": "execute_result",
          "data": {
            "image/png": "[encoded data removed]",
            "text/html": [
              "<?xml version=\"1.0\" encoding=\"utf-8\" standalone=\"no\"?>\n",
              "<!DOCTYPE svg PUBLIC \"-//W3C//DTD SVG 1.1//EN\"\n",
              "  \"http://www.w3.org/Graphics/SVG/1.1/DTD/svg11.dtd\">\n",
              "<!-- Created with matplotlib (https://matplotlib.org/) -->\n",
              "<svg height=\"396pt\" version=\"1.1\" viewBox=\"0 0 576 396\" width=\"576pt\" xmlns=\"http://www.w3.org/2000/svg\" xmlns:xlink=\"http://www.w3.org/1999/xlink\">\n",
              " <defs>\n",
              "  <style type=\"text/css\">\n",
              "*{stroke-linecap:butt;stroke-linejoin:round;}\n",
              "  </style>\n",
              " </defs>\n",
              " <g id=\"figure_1\">\n",
              "  <g id=\"patch_1\">\n",
              "   <path d=\"M 0 396 \n",
              "L 576 396 \n",
              "L 576 0 \n",
              "L 0 0 \n",
              "z\n",
              "\" style=\"fill:#ffffff;\"/>\n",
              "  </g>\n",
              "  <g id=\"axes_1\">\n",
              "   <g id=\"PatchCollection_1\">\n",
              "    <path clip-path=\"url(#p720bb3b5c5)\" d=\"M 156.42884 248.320345 \n",
              "L 156.42884 248.320345 \n",
              "L 205.686771 197.01 \n",
              "L 177.979185 197.01 \n",
              "z\n",
              "\" style=\"fill:none;stroke:#ff0000;stroke-width:0.3;\"/>\n",
              "    <path clip-path=\"url(#p720bb3b5c5)\" d=\"M 188.754357 171.354828 \n",
              "L 230.315737 171.354828 \n",
              "L 254.944702 145.699655 \n",
              "L 199.52953 145.699655 \n",
              "z\n",
              "\" style=\"fill:none;stroke:#ff0000;stroke-width:0.3;\"/>\n",
              "    <path clip-path=\"url(#p720bb3b5c5)\" d=\"M 92.290909 248.320345 \n",
              "L 92.290909 248.320345 \n",
              "L 147.799373 197.01 \n",
              "L 112.815047 197.01 \n",
              "z\n",
              "\" style=\"fill:none;stroke:#008000;stroke-width:0.3;\"/>\n",
              "    <path clip-path=\"url(#p720bb3b5c5)\" d=\"M 184.64953 171.354828 \n",
              "L 342.078997 171.354828 \n",
              "L 369.833229 145.699655 \n",
              "L 194.911599 145.699655 \n",
              "z\n",
              "\" style=\"fill:none;stroke:#008000;stroke-width:0.3;\"/>\n",
              "    <path clip-path=\"url(#p720bb3b5c5)\" d=\"M 297.532288 248.320345 \n",
              "L 297.532288 248.320345 \n",
              "L 379.62884 197.01 \n",
              "L 339.606771 197.01 \n",
              "z\n",
              "\" style=\"fill:none;stroke:#0000ff;stroke-width:0.3;\"/>\n",
              "    <path clip-path=\"url(#p720bb3b5c5)\" d=\"M 360.644013 171.354828 \n",
              "L 420.677116 171.354828 \n",
              "L 461.725392 145.699655 \n",
              "L 381.681254 145.699655 \n",
              "z\n",
              "\" style=\"fill:none;stroke:#0000ff;stroke-width:0.3;\"/>\n",
              "    <path clip-path=\"url(#p720bb3b5c5)\" d=\"M 169.256426 248.320345 \n",
              "L 169.256426 248.320345 \n",
              "L 235.026959 197.01 \n",
              "L 210.77116 197.01 \n",
              "z\n",
              "\" style=\"fill:none;stroke:#00ffff;stroke-width:0.3;\"/>\n",
              "    <path clip-path=\"url(#p720bb3b5c5)\" d=\"M 356.072727 171.354828 \n",
              "L 465.223824 171.354828 \n",
              "L 498.109091 145.699655 \n",
              "L 376.830094 145.699655 \n",
              "z\n",
              "\" style=\"fill:none;stroke:#00ffff;stroke-width:0.3;\"/>\n",
              "   </g>\n",
              "   <g id=\"line2d_1\">\n",
              "    <path clip-path=\"url(#p720bb3b5c5)\" d=\"M 92.290909 248.320345 \n",
              "L 498.109091 145.699655 \n",
              "\" style=\"fill:none;stroke:#4c72b0;stroke-linecap:round;stroke-opacity:0;stroke-width:1.75;\"/>\n",
              "   </g>\n",
              "  </g>\n",
              " </g>\n",
              " <defs>\n",
              "  <clipPath id=\"p720bb3b5c5\">\n",
              "   <rect height=\"298.98\" width=\"446.4\" x=\"72\" y=\"47.52\"/>\n",
              "  </clipPath>\n",
              " </defs>\n",
              "</svg>\n"
            ],
            "text/plain": [
              "[[Polygon(Point2(25.0, 0), Point2(25.0, 0), Point2(44.2, 20), Point2(33.4, 20)),\n",
              "  Polygon(Point2(37.6, 30), Point2(53.8, 30), Point2(63.4, 40), Point2(41.8, 40))],\n",
              " [Polygon(Point2(0.0, 0), Point2(0.0, 0), Point2(21.636363636363637, 20), Point2(8.0, 20)),\n",
              "  Polygon(Point2(36.0, 30), Point2(97.36363636363636, 30), Point2(108.18181818181819, 40), Point2(40.0, 40))],\n",
              " [Polygon(Point2(80.0, 0), Point2(80.0, 0), Point2(112.0, 20), Point2(96.4, 20)),\n",
              "  Polygon(Point2(104.6, 30), Point2(128.0, 30), Point2(144.0, 40), Point2(112.8, 40))],\n",
              " [Polygon(Point2(30.0, 0), Point2(30.0, 0), Point2(55.63636363636364, 20), Point2(46.18181818181819, 20)),\n",
              "  Polygon(Point2(102.81818181818181, 30), Point2(145.36363636363637, 30), Point2(158.1818181818182, 40), Point2(110.9090909090909, 40))]]"
            ],
            "image/svg+xml": "<?xml version=\"1.0\" encoding=\"utf-8\" standalone=\"no\"?>\n<!DOCTYPE svg PUBLIC \"-//W3C//DTD SVG 1.1//EN\"\n  \"http://www.w3.org/Graphics/SVG/1.1/DTD/svg11.dtd\">\n<!-- Created with matplotlib (https://matplotlib.org/) -->\n<svg height=\"396pt\" version=\"1.1\" viewBox=\"0 0 576 396\" width=\"576pt\" xmlns=\"http://www.w3.org/2000/svg\" xmlns:xlink=\"http://www.w3.org/1999/xlink\">\n <defs>\n  <style type=\"text/css\">\n*{stroke-linecap:butt;stroke-linejoin:round;}\n  </style>\n </defs>\n <g id=\"figure_1\">\n  <g id=\"patch_1\">\n   <path d=\"M 0 396 \nL 576 396 \nL 576 0 \nL 0 0 \nz\n\" style=\"fill:#ffffff;\"/>\n  </g>\n  <g id=\"axes_1\">\n   <g id=\"PatchCollection_1\">\n    <path clip-path=\"url(#p75c98e1889)\" d=\"M 156.42884 248.320345 \nL 156.42884 248.320345 \nL 205.686771 197.01 \nL 177.979185 197.01 \nz\n\" style=\"fill:none;stroke:#ff0000;stroke-width:0.3;\"/>\n    <path clip-path=\"url(#p75c98e1889)\" d=\"M 188.754357 171.354828 \nL 230.315737 171.354828 \nL 254.944702 145.699655 \nL 199.52953 145.699655 \nz\n\" style=\"fill:none;stroke:#ff0000;stroke-width:0.3;\"/>\n    <path clip-path=\"url(#p75c98e1889)\" d=\"M 92.290909 248.320345 \nL 92.290909 248.320345 \nL 147.799373 197.01 \nL 112.815047 197.01 \nz\n\" style=\"fill:none;stroke:#008000;stroke-width:0.3;\"/>\n    <path clip-path=\"url(#p75c98e1889)\" d=\"M 184.64953 171.354828 \nL 342.078997 171.354828 \nL 369.833229 145.699655 \nL 194.911599 145.699655 \nz\n\" style=\"fill:none;stroke:#008000;stroke-width:0.3;\"/>\n    <path clip-path=\"url(#p75c98e1889)\" d=\"M 297.532288 248.320345 \nL 297.532288 248.320345 \nL 379.62884 197.01 \nL 339.606771 197.01 \nz\n\" style=\"fill:none;stroke:#0000ff;stroke-width:0.3;\"/>\n    <path clip-path=\"url(#p75c98e1889)\" d=\"M 360.644013 171.354828 \nL 420.677116 171.354828 \nL 461.725392 145.699655 \nL 381.681254 145.699655 \nz\n\" style=\"fill:none;stroke:#0000ff;stroke-width:0.3;\"/>\n    <path clip-path=\"url(#p75c98e1889)\" d=\"M 169.256426 248.320345 \nL 169.256426 248.320345 \nL 235.026959 197.01 \nL 210.77116 197.01 \nz\n\" style=\"fill:none;stroke:#00ffff;stroke-width:0.3;\"/>\n    <path clip-path=\"url(#p75c98e1889)\" d=\"M 356.072727 171.354828 \nL 465.223824 171.354828 \nL 498.109091 145.699655 \nL 376.830094 145.699655 \nz\n\" style=\"fill:none;stroke:#00ffff;stroke-width:0.3;\"/>\n   </g>\n   <g id=\"line2d_1\">\n    <path clip-path=\"url(#p75c98e1889)\" d=\"M 92.290909 248.320345 \nL 498.109091 145.699655 \n\" style=\"fill:none;stroke:#4c72b0;stroke-linecap:round;stroke-opacity:0;stroke-width:1.75;\"/>\n   </g>\n  </g>\n </g>\n <defs>\n  <clipPath id=\"p75c98e1889\">\n   <rect height=\"298.98\" width=\"446.4\" x=\"72\" y=\"47.52\"/>\n  </clipPath>\n </defs>\n</svg>\n"
          },
          "metadata": {
            "tags": []
          },
          "execution_count": 20
        }
      ]
    },
    {
      "metadata": {
        "id": "hsGafNx3erhu",
        "colab_type": "code",
        "colab": {}
      },
      "cell_type": "code",
      "source": [
        ""
      ],
      "execution_count": 0,
      "outputs": []
    }
  ]
}