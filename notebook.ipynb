{
 "cells": [
  {
   "cell_type": "markdown",
   "metadata": {},
   "source": [
    "# Goulib\n",
    "library of useful code for scientific + technical applications\n",
    "\n",
    "- author: Philippe Guglielmetti goulib@goulu.net\n",
    "- copyright: Copyright 2013 Philippe Guglielmetti\n",
    "- license: LGPL (see LICENSE.TXT)\n",
    "\n",
    "- installation : \"pip install Goulib\"\n",
    "- distribution: https://pypi.python.org/pypi/Goulib\n",
    "- documentation: https://goulib.readthedocs.org/\n",
    "- source : https://github.com/goulu/Goulib\n",
    "\n",
    "Some modules offer specific IPython Notebook support"
   ]
  },
  {
   "cell_type": "markdown",
   "metadata": {},
   "source": [
    "# Modules\n",
    "\n",
    "* [Math2](notebooks/math2.ipynb) more math without numpy\n",
    "* [Expr](notebooks/expr.ipynb) simple symbolic math expressions\n",
    "* [Stats](notebooks/stats.ipynb) very basic statistics functions\n",
    "* [Polynomial and Piecewise](notebooks/polynomial.ipynb) polynomial and piecewise defined functions\n",
    "* [Table](notebooks/table.ipynb) \"mini pandas.DataFrame\" Table class with Excel + CSV I/O, easy access to columns, HTML output, and much more.\n",
    "* [Geom and Drawing](notebooks/drawing.ipynb) 2D geometry and vector graphics with .DXF, .SVG , .PDF I/O and bitmap graphics output\n",
    "* [Graph](notebooks/graph.ipynb) Eulerian graphs based on NetworkX\n",
    "* [Image](notebooks/image.ipynb) image processing made simple\n",
    "* [Colors](notebooks/colors.ipynb) color management"
   ]
  }
 ],
 "metadata": {
  "kernelspec": {
   "display_name": "Python 3",
   "language": "python",
   "name": "python3"
  },
  "language_info": {
   "codemirror_mode": {
    "name": "ipython",
    "version": 3
   },
   "file_extension": ".py",
   "mimetype": "text/x-python",
   "name": "python",
   "nbconvert_exporter": "python",
   "pygments_lexer": "ipython3",
   "version": "3.7.3"
  },
  "latex_envs": {
   "bibliofile": "biblio.bib",
   "cite_by": "apalike",
   "current_citInitial": 1,
   "eqLabelWithNumbers": true,
   "eqNumInitial": 0
  }
 },
 "nbformat": 4,
 "nbformat_minor": 2
}
